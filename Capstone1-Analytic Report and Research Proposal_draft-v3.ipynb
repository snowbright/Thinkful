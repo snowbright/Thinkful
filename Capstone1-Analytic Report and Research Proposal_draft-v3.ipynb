{
 "cells": [
  {
   "cell_type": "markdown",
   "metadata": {},
   "source": [
    "# Preliminary Analysis for the Apple iOS App Data"
   ]
  },
  {
   "cell_type": "markdown",
   "metadata": {},
   "source": [
    "## Data\n",
    "\n",
    "Data was extracted from the iTunes Search API in July 2017. This dataset contains information of over 7000 Apple iOS mobile applications. Data was obtained from [kaggle](https://www.kaggle.com/ramamet4/app-store-apple-data-set-10k-apps).\n",
    "\n",
    "This study assumes it is representative of the iOS App population. The dataset consists of two tables, AppleStore and appleStore_description. \n",
    "\n",
    "The AppleStore file contains App ID, App name, size, currency, price, user rating counts for all versions, user rating counts for the current version, average user rating for all versions, average user rating for the current version, latest version code, content rating, primary genre, number of supporting devices, number of screenshots showed for display, number of supported languages, and Vpp device based licensing enabled. The second table provides detailed description for the Apps included in the first table."
   ]
  },
  {
   "cell_type": "markdown",
   "metadata": {},
   "source": [
    "### Data Exploration \n",
    "\n",
    "To explore this dataset, we first checked cardinality of variables of interest. Excpet for two rating count variables, other categorical and numerical variables present relatively low cardinality, ranging from 4 to 57. Then we examined numetrical variables and categorical variables respectively. "
   ]
  },
  {
   "cell_type": "code",
   "execution_count": 3,
   "metadata": {
    "scrolled": true
   },
   "outputs": [
    {
     "data": {
      "text/html": [
       "<div>\n",
       "<style scoped>\n",
       "    .dataframe tbody tr th:only-of-type {\n",
       "        vertical-align: middle;\n",
       "    }\n",
       "\n",
       "    .dataframe tbody tr th {\n",
       "        vertical-align: top;\n",
       "    }\n",
       "\n",
       "    .dataframe thead th {\n",
       "        text-align: right;\n",
       "    }\n",
       "</style>\n",
       "<table border=\"1\" class=\"dataframe\">\n",
       "  <thead>\n",
       "    <tr style=\"text-align: right;\">\n",
       "      <th></th>\n",
       "      <th>id</th>\n",
       "      <th>track_name</th>\n",
       "      <th>size_bytes</th>\n",
       "      <th>currency</th>\n",
       "      <th>price</th>\n",
       "      <th>rating_count_tot</th>\n",
       "      <th>rating_count_ver</th>\n",
       "      <th>user_rating</th>\n",
       "      <th>user_rating_ver</th>\n",
       "      <th>ver</th>\n",
       "      <th>cont_rating</th>\n",
       "      <th>prime_genre</th>\n",
       "      <th>sup_devices.num</th>\n",
       "      <th>ipadSc_urls.num</th>\n",
       "      <th>lang.num</th>\n",
       "      <th>vpp_lic</th>\n",
       "    </tr>\n",
       "  </thead>\n",
       "  <tbody>\n",
       "    <tr>\n",
       "      <th>1</th>\n",
       "      <td>281656475</td>\n",
       "      <td>PAC-MAN Premium</td>\n",
       "      <td>100788224</td>\n",
       "      <td>USD</td>\n",
       "      <td>3.99</td>\n",
       "      <td>21292</td>\n",
       "      <td>26</td>\n",
       "      <td>4.0</td>\n",
       "      <td>4.5</td>\n",
       "      <td>6.3.5</td>\n",
       "      <td>4+</td>\n",
       "      <td>Games</td>\n",
       "      <td>38</td>\n",
       "      <td>5</td>\n",
       "      <td>10</td>\n",
       "      <td>1</td>\n",
       "    </tr>\n",
       "    <tr>\n",
       "      <th>2</th>\n",
       "      <td>281796108</td>\n",
       "      <td>Evernote - stay organized</td>\n",
       "      <td>158578688</td>\n",
       "      <td>USD</td>\n",
       "      <td>0.00</td>\n",
       "      <td>161065</td>\n",
       "      <td>26</td>\n",
       "      <td>4.0</td>\n",
       "      <td>3.5</td>\n",
       "      <td>8.2.2</td>\n",
       "      <td>4+</td>\n",
       "      <td>Productivity</td>\n",
       "      <td>37</td>\n",
       "      <td>5</td>\n",
       "      <td>23</td>\n",
       "      <td>1</td>\n",
       "    </tr>\n",
       "    <tr>\n",
       "      <th>3</th>\n",
       "      <td>281940292</td>\n",
       "      <td>WeatherBug - Local Weather, Radar, Maps, Alerts</td>\n",
       "      <td>100524032</td>\n",
       "      <td>USD</td>\n",
       "      <td>0.00</td>\n",
       "      <td>188583</td>\n",
       "      <td>2822</td>\n",
       "      <td>3.5</td>\n",
       "      <td>4.5</td>\n",
       "      <td>5.0.0</td>\n",
       "      <td>4+</td>\n",
       "      <td>Weather</td>\n",
       "      <td>37</td>\n",
       "      <td>5</td>\n",
       "      <td>3</td>\n",
       "      <td>1</td>\n",
       "    </tr>\n",
       "  </tbody>\n",
       "</table>\n",
       "</div>"
      ],
      "text/plain": [
       "          id                                       track_name  size_bytes  \\\n",
       "1  281656475                                  PAC-MAN Premium   100788224   \n",
       "2  281796108                        Evernote - stay organized   158578688   \n",
       "3  281940292  WeatherBug - Local Weather, Radar, Maps, Alerts   100524032   \n",
       "\n",
       "  currency  price  rating_count_tot  rating_count_ver  user_rating  \\\n",
       "1      USD   3.99             21292                26          4.0   \n",
       "2      USD   0.00            161065                26          4.0   \n",
       "3      USD   0.00            188583              2822          3.5   \n",
       "\n",
       "   user_rating_ver    ver cont_rating   prime_genre  sup_devices.num  \\\n",
       "1              4.5  6.3.5          4+         Games               38   \n",
       "2              3.5  8.2.2          4+  Productivity               37   \n",
       "3              4.5  5.0.0          4+       Weather               37   \n",
       "\n",
       "   ipadSc_urls.num  lang.num  vpp_lic  \n",
       "1                5        10        1  \n",
       "2                5        23        1  \n",
       "3                5         3        1  "
      ]
     },
     "execution_count": 3,
     "metadata": {},
     "output_type": "execute_result"
    }
   ],
   "source": [
    "#Import libraries \n",
    "import pandas as pd\n",
    "import numpy as np\n",
    "from scipy.stats import pearsonr\n",
    "import matplotlib.pyplot as plt\n",
    "%matplotlib inline\n",
    "\n",
    "#Read in data files \n",
    "t1 = pd.read_csv(\"AppleStore.csv\", index_col=0)\n",
    "t2 = pd.read_csv(\"appleStore_description.csv\")\n",
    "\n",
    "ntot = 7198\n",
    "\n",
    "app = pd.DataFrame(t1)\n",
    "app.head(3)"
   ]
  },
  {
   "cell_type": "code",
   "execution_count": 4,
   "metadata": {},
   "outputs": [
    {
     "data": {
      "text/html": [
       "<div>\n",
       "<style scoped>\n",
       "    .dataframe tbody tr th:only-of-type {\n",
       "        vertical-align: middle;\n",
       "    }\n",
       "\n",
       "    .dataframe tbody tr th {\n",
       "        vertical-align: top;\n",
       "    }\n",
       "\n",
       "    .dataframe thead th {\n",
       "        text-align: right;\n",
       "    }\n",
       "</style>\n",
       "<table border=\"1\" class=\"dataframe\">\n",
       "  <thead>\n",
       "    <tr style=\"text-align: right;\">\n",
       "      <th></th>\n",
       "      <th>var</th>\n",
       "      <th>type</th>\n",
       "      <th>cardinalitiy</th>\n",
       "    </tr>\n",
       "  </thead>\n",
       "  <tbody>\n",
       "    <tr>\n",
       "      <th>0</th>\n",
       "      <td>price</td>\n",
       "      <td>numeric</td>\n",
       "      <td>36</td>\n",
       "    </tr>\n",
       "    <tr>\n",
       "      <th>1</th>\n",
       "      <td>rating_count_tot</td>\n",
       "      <td>numeric</td>\n",
       "      <td>3185</td>\n",
       "    </tr>\n",
       "    <tr>\n",
       "      <th>2</th>\n",
       "      <td>rating_count_ver</td>\n",
       "      <td>numeric</td>\n",
       "      <td>1138</td>\n",
       "    </tr>\n",
       "    <tr>\n",
       "      <th>3</th>\n",
       "      <td>user_rating</td>\n",
       "      <td>numeric</td>\n",
       "      <td>10</td>\n",
       "    </tr>\n",
       "    <tr>\n",
       "      <th>4</th>\n",
       "      <td>user_rating_ver</td>\n",
       "      <td>numeric</td>\n",
       "      <td>10</td>\n",
       "    </tr>\n",
       "    <tr>\n",
       "      <th>5</th>\n",
       "      <td>cont_rating</td>\n",
       "      <td>ordinal</td>\n",
       "      <td>4</td>\n",
       "    </tr>\n",
       "    <tr>\n",
       "      <th>6</th>\n",
       "      <td>prime_genre</td>\n",
       "      <td>categorical</td>\n",
       "      <td>23</td>\n",
       "    </tr>\n",
       "    <tr>\n",
       "      <th>7</th>\n",
       "      <td>sup_devices.num</td>\n",
       "      <td>numeric</td>\n",
       "      <td>20</td>\n",
       "    </tr>\n",
       "    <tr>\n",
       "      <th>8</th>\n",
       "      <td>ipadSc_urls.num</td>\n",
       "      <td>numeric</td>\n",
       "      <td>6</td>\n",
       "    </tr>\n",
       "    <tr>\n",
       "      <th>9</th>\n",
       "      <td>lang.num</td>\n",
       "      <td>numeric</td>\n",
       "      <td>57</td>\n",
       "    </tr>\n",
       "  </tbody>\n",
       "</table>\n",
       "</div>"
      ],
      "text/plain": [
       "                var         type  cardinalitiy\n",
       "0             price      numeric            36\n",
       "1  rating_count_tot      numeric          3185\n",
       "2  rating_count_ver      numeric          1138\n",
       "3       user_rating      numeric            10\n",
       "4   user_rating_ver      numeric            10\n",
       "5       cont_rating      ordinal             4\n",
       "6       prime_genre  categorical            23\n",
       "7   sup_devices.num      numeric            20\n",
       "8   ipadSc_urls.num      numeric             6\n",
       "9          lang.num      numeric            57"
      ]
     },
     "execution_count": 4,
     "metadata": {},
     "output_type": "execute_result"
    }
   ],
   "source": [
    "#Variable type and cardinality \n",
    "var = ['price',\n",
    "       'rating_count_tot', 'rating_count_ver', 'user_rating',\n",
    "       'user_rating_ver', 'cont_rating', 'prime_genre',\n",
    "       'sup_devices.num', 'ipadSc_urls.num', 'lang.num']\n",
    "type = ['numeric', 'numeric', 'numeric', 'numeric', 'numeric', \n",
    "        'ordinal', 'categorical', 'numeric', 'numeric', 'numeric']\n",
    "cardinality = [len(np.unique(app['price'])), len(np.unique(app['rating_count_tot'])), len(np.unique(app['rating_count_ver'])),\n",
    "        len(np.unique(app['user_rating'])), len(np.unique(app['user_rating_ver'])), len(np.unique(app['cont_rating'])), len(np.unique(app['prime_genre'])),\n",
    "        len(np.unique(app['sup_devices.num'])), len(np.unique(app['ipadSc_urls.num'])), len(np.unique(app['lang.num']))\n",
    "       ]\n",
    "\n",
    "table = list(zip(var, type, cardinality))\n",
    "pd.DataFrame(table, columns=['var', 'type', 'cardinalitiy'])"
   ]
  },
  {
   "cell_type": "markdown",
   "metadata": {},
   "source": [
    "Summary statistics for numerical variables are presented below. As we can see, most Apps are free or cheap with \\$1.99 at the 75th percentile. However, an educational App LAMP Words For Life is priced at \\$299.99. The average total rating count is 12,893 with a large standard deviation of 75,734, the maximum total rating count is 2,974,676. In terms of user rating, average user rating for all versions is higher than user rating for the current version, 3.53 vs. 3.25 on a 0-5 scale. On average, these Apps can support 5 languages, however, the maximum reaches to 75 languages! Curious to know, this app is the Google Photos. "
   ]
  },
  {
   "cell_type": "code",
   "execution_count": 19,
   "metadata": {
    "scrolled": true
   },
   "outputs": [
    {
     "data": {
      "text/html": [
       "<div>\n",
       "<style scoped>\n",
       "    .dataframe tbody tr th:only-of-type {\n",
       "        vertical-align: middle;\n",
       "    }\n",
       "\n",
       "    .dataframe tbody tr th {\n",
       "        vertical-align: top;\n",
       "    }\n",
       "\n",
       "    .dataframe thead th {\n",
       "        text-align: right;\n",
       "    }\n",
       "</style>\n",
       "<table border=\"1\" class=\"dataframe\">\n",
       "  <thead>\n",
       "    <tr style=\"text-align: right;\">\n",
       "      <th></th>\n",
       "      <th>id</th>\n",
       "      <th>size_bytes</th>\n",
       "      <th>price</th>\n",
       "      <th>rating_count_tot</th>\n",
       "      <th>rating_count_ver</th>\n",
       "      <th>user_rating</th>\n",
       "      <th>user_rating_ver</th>\n",
       "      <th>sup_devices.num</th>\n",
       "      <th>ipadSc_urls.num</th>\n",
       "      <th>lang.num</th>\n",
       "      <th>vpp_lic</th>\n",
       "    </tr>\n",
       "  </thead>\n",
       "  <tbody>\n",
       "    <tr>\n",
       "      <th>count</th>\n",
       "      <td>7.197000e+03</td>\n",
       "      <td>7.197000e+03</td>\n",
       "      <td>7197.000000</td>\n",
       "      <td>7.197000e+03</td>\n",
       "      <td>7197.000000</td>\n",
       "      <td>7197.000000</td>\n",
       "      <td>7197.000000</td>\n",
       "      <td>7197.000000</td>\n",
       "      <td>7197.000000</td>\n",
       "      <td>7197.000000</td>\n",
       "      <td>7197.000000</td>\n",
       "    </tr>\n",
       "    <tr>\n",
       "      <th>mean</th>\n",
       "      <td>8.631310e+08</td>\n",
       "      <td>1.991345e+08</td>\n",
       "      <td>1.726218</td>\n",
       "      <td>1.289291e+04</td>\n",
       "      <td>460.373906</td>\n",
       "      <td>3.526956</td>\n",
       "      <td>3.253578</td>\n",
       "      <td>37.361817</td>\n",
       "      <td>3.707100</td>\n",
       "      <td>5.434903</td>\n",
       "      <td>0.993053</td>\n",
       "    </tr>\n",
       "    <tr>\n",
       "      <th>std</th>\n",
       "      <td>2.712368e+08</td>\n",
       "      <td>3.592069e+08</td>\n",
       "      <td>5.833006</td>\n",
       "      <td>7.573941e+04</td>\n",
       "      <td>3920.455183</td>\n",
       "      <td>1.517948</td>\n",
       "      <td>1.809363</td>\n",
       "      <td>3.737715</td>\n",
       "      <td>1.986005</td>\n",
       "      <td>7.919593</td>\n",
       "      <td>0.083066</td>\n",
       "    </tr>\n",
       "    <tr>\n",
       "      <th>min</th>\n",
       "      <td>2.816565e+08</td>\n",
       "      <td>5.898240e+05</td>\n",
       "      <td>0.000000</td>\n",
       "      <td>0.000000e+00</td>\n",
       "      <td>0.000000</td>\n",
       "      <td>0.000000</td>\n",
       "      <td>0.000000</td>\n",
       "      <td>9.000000</td>\n",
       "      <td>0.000000</td>\n",
       "      <td>0.000000</td>\n",
       "      <td>0.000000</td>\n",
       "    </tr>\n",
       "    <tr>\n",
       "      <th>25%</th>\n",
       "      <td>6.000937e+08</td>\n",
       "      <td>4.692275e+07</td>\n",
       "      <td>0.000000</td>\n",
       "      <td>2.800000e+01</td>\n",
       "      <td>1.000000</td>\n",
       "      <td>3.500000</td>\n",
       "      <td>2.500000</td>\n",
       "      <td>37.000000</td>\n",
       "      <td>3.000000</td>\n",
       "      <td>1.000000</td>\n",
       "      <td>1.000000</td>\n",
       "    </tr>\n",
       "    <tr>\n",
       "      <th>50%</th>\n",
       "      <td>9.781482e+08</td>\n",
       "      <td>9.715302e+07</td>\n",
       "      <td>0.000000</td>\n",
       "      <td>3.000000e+02</td>\n",
       "      <td>23.000000</td>\n",
       "      <td>4.000000</td>\n",
       "      <td>4.000000</td>\n",
       "      <td>37.000000</td>\n",
       "      <td>5.000000</td>\n",
       "      <td>1.000000</td>\n",
       "      <td>1.000000</td>\n",
       "    </tr>\n",
       "    <tr>\n",
       "      <th>75%</th>\n",
       "      <td>1.082310e+09</td>\n",
       "      <td>1.819249e+08</td>\n",
       "      <td>1.990000</td>\n",
       "      <td>2.793000e+03</td>\n",
       "      <td>140.000000</td>\n",
       "      <td>4.500000</td>\n",
       "      <td>4.500000</td>\n",
       "      <td>38.000000</td>\n",
       "      <td>5.000000</td>\n",
       "      <td>8.000000</td>\n",
       "      <td>1.000000</td>\n",
       "    </tr>\n",
       "    <tr>\n",
       "      <th>max</th>\n",
       "      <td>1.188376e+09</td>\n",
       "      <td>4.025970e+09</td>\n",
       "      <td>299.990000</td>\n",
       "      <td>2.974676e+06</td>\n",
       "      <td>177050.000000</td>\n",
       "      <td>5.000000</td>\n",
       "      <td>5.000000</td>\n",
       "      <td>47.000000</td>\n",
       "      <td>5.000000</td>\n",
       "      <td>75.000000</td>\n",
       "      <td>1.000000</td>\n",
       "    </tr>\n",
       "  </tbody>\n",
       "</table>\n",
       "</div>"
      ],
      "text/plain": [
       "                 id    size_bytes        price  rating_count_tot  \\\n",
       "count  7.197000e+03  7.197000e+03  7197.000000      7.197000e+03   \n",
       "mean   8.631310e+08  1.991345e+08     1.726218      1.289291e+04   \n",
       "std    2.712368e+08  3.592069e+08     5.833006      7.573941e+04   \n",
       "min    2.816565e+08  5.898240e+05     0.000000      0.000000e+00   \n",
       "25%    6.000937e+08  4.692275e+07     0.000000      2.800000e+01   \n",
       "50%    9.781482e+08  9.715302e+07     0.000000      3.000000e+02   \n",
       "75%    1.082310e+09  1.819249e+08     1.990000      2.793000e+03   \n",
       "max    1.188376e+09  4.025970e+09   299.990000      2.974676e+06   \n",
       "\n",
       "       rating_count_ver  user_rating  user_rating_ver  sup_devices.num  \\\n",
       "count       7197.000000  7197.000000      7197.000000      7197.000000   \n",
       "mean         460.373906     3.526956         3.253578        37.361817   \n",
       "std         3920.455183     1.517948         1.809363         3.737715   \n",
       "min            0.000000     0.000000         0.000000         9.000000   \n",
       "25%            1.000000     3.500000         2.500000        37.000000   \n",
       "50%           23.000000     4.000000         4.000000        37.000000   \n",
       "75%          140.000000     4.500000         4.500000        38.000000   \n",
       "max       177050.000000     5.000000         5.000000        47.000000   \n",
       "\n",
       "       ipadSc_urls.num     lang.num      vpp_lic  \n",
       "count      7197.000000  7197.000000  7197.000000  \n",
       "mean          3.707100     5.434903     0.993053  \n",
       "std           1.986005     7.919593     0.083066  \n",
       "min           0.000000     0.000000     0.000000  \n",
       "25%           3.000000     1.000000     1.000000  \n",
       "50%           5.000000     1.000000     1.000000  \n",
       "75%           5.000000     8.000000     1.000000  \n",
       "max           5.000000    75.000000     1.000000  "
      ]
     },
     "execution_count": 19,
     "metadata": {},
     "output_type": "execute_result"
    }
   ],
   "source": [
    "app.describe()"
   ]
  },
  {
   "cell_type": "code",
   "execution_count": 5,
   "metadata": {},
   "outputs": [
    {
     "data": {
      "text/html": [
       "<div>\n",
       "<style scoped>\n",
       "    .dataframe tbody tr th:only-of-type {\n",
       "        vertical-align: middle;\n",
       "    }\n",
       "\n",
       "    .dataframe tbody tr th {\n",
       "        vertical-align: top;\n",
       "    }\n",
       "\n",
       "    .dataframe thead th {\n",
       "        text-align: right;\n",
       "    }\n",
       "</style>\n",
       "<table border=\"1\" class=\"dataframe\">\n",
       "  <thead>\n",
       "    <tr style=\"text-align: right;\">\n",
       "      <th></th>\n",
       "      <th>id</th>\n",
       "      <th>track_name</th>\n",
       "      <th>size_bytes</th>\n",
       "      <th>currency</th>\n",
       "      <th>price</th>\n",
       "      <th>rating_count_tot</th>\n",
       "      <th>rating_count_ver</th>\n",
       "      <th>user_rating</th>\n",
       "      <th>user_rating_ver</th>\n",
       "      <th>ver</th>\n",
       "      <th>cont_rating</th>\n",
       "      <th>prime_genre</th>\n",
       "      <th>sup_devices.num</th>\n",
       "      <th>ipadSc_urls.num</th>\n",
       "      <th>lang.num</th>\n",
       "      <th>vpp_lic</th>\n",
       "    </tr>\n",
       "  </thead>\n",
       "  <tbody>\n",
       "    <tr>\n",
       "      <th>1714</th>\n",
       "      <td>551215116</td>\n",
       "      <td>LAMP Words For Life</td>\n",
       "      <td>583263232</td>\n",
       "      <td>USD</td>\n",
       "      <td>299.99</td>\n",
       "      <td>41</td>\n",
       "      <td>0</td>\n",
       "      <td>4.0</td>\n",
       "      <td>0.0</td>\n",
       "      <td>1.5.5</td>\n",
       "      <td>4+</td>\n",
       "      <td>Education</td>\n",
       "      <td>24</td>\n",
       "      <td>5</td>\n",
       "      <td>1</td>\n",
       "      <td>1</td>\n",
       "    </tr>\n",
       "  </tbody>\n",
       "</table>\n",
       "</div>"
      ],
      "text/plain": [
       "             id           track_name  size_bytes currency   price  \\\n",
       "1714  551215116  LAMP Words For Life   583263232      USD  299.99   \n",
       "\n",
       "      rating_count_tot  rating_count_ver  user_rating  user_rating_ver    ver  \\\n",
       "1714                41                 0          4.0              0.0  1.5.5   \n",
       "\n",
       "     cont_rating prime_genre  sup_devices.num  ipadSc_urls.num  lang.num  \\\n",
       "1714          4+   Education               24                5         1   \n",
       "\n",
       "      vpp_lic  \n",
       "1714        1  "
      ]
     },
     "execution_count": 5,
     "metadata": {},
     "output_type": "execute_result"
    }
   ],
   "source": [
    "app[app['price']>299]"
   ]
  },
  {
   "cell_type": "code",
   "execution_count": 6,
   "metadata": {
    "scrolled": true
   },
   "outputs": [
    {
     "data": {
      "text/html": [
       "<div>\n",
       "<style scoped>\n",
       "    .dataframe tbody tr th:only-of-type {\n",
       "        vertical-align: middle;\n",
       "    }\n",
       "\n",
       "    .dataframe tbody tr th {\n",
       "        vertical-align: top;\n",
       "    }\n",
       "\n",
       "    .dataframe thead th {\n",
       "        text-align: right;\n",
       "    }\n",
       "</style>\n",
       "<table border=\"1\" class=\"dataframe\">\n",
       "  <thead>\n",
       "    <tr style=\"text-align: right;\">\n",
       "      <th></th>\n",
       "      <th>id</th>\n",
       "      <th>track_name</th>\n",
       "      <th>size_bytes</th>\n",
       "      <th>currency</th>\n",
       "      <th>price</th>\n",
       "      <th>rating_count_tot</th>\n",
       "      <th>rating_count_ver</th>\n",
       "      <th>user_rating</th>\n",
       "      <th>user_rating_ver</th>\n",
       "      <th>ver</th>\n",
       "      <th>cont_rating</th>\n",
       "      <th>prime_genre</th>\n",
       "      <th>sup_devices.num</th>\n",
       "      <th>ipadSc_urls.num</th>\n",
       "      <th>lang.num</th>\n",
       "      <th>vpp_lic</th>\n",
       "    </tr>\n",
       "  </thead>\n",
       "  <tbody>\n",
       "    <tr>\n",
       "      <th>4130</th>\n",
       "      <td>962194608</td>\n",
       "      <td>Google Photos - unlimited photo and video storage</td>\n",
       "      <td>160215040</td>\n",
       "      <td>USD</td>\n",
       "      <td>0.0</td>\n",
       "      <td>88742</td>\n",
       "      <td>1145</td>\n",
       "      <td>5.0</td>\n",
       "      <td>5.0</td>\n",
       "      <td>2.17.0</td>\n",
       "      <td>4+</td>\n",
       "      <td>Photo &amp; Video</td>\n",
       "      <td>37</td>\n",
       "      <td>5</td>\n",
       "      <td>75</td>\n",
       "      <td>1</td>\n",
       "    </tr>\n",
       "  </tbody>\n",
       "</table>\n",
       "</div>"
      ],
      "text/plain": [
       "             id                                         track_name  \\\n",
       "4130  962194608  Google Photos - unlimited photo and video storage   \n",
       "\n",
       "      size_bytes currency  price  rating_count_tot  rating_count_ver  \\\n",
       "4130   160215040      USD    0.0             88742              1145   \n",
       "\n",
       "      user_rating  user_rating_ver     ver cont_rating    prime_genre  \\\n",
       "4130          5.0              5.0  2.17.0          4+  Photo & Video   \n",
       "\n",
       "      sup_devices.num  ipadSc_urls.num  lang.num  vpp_lic  \n",
       "4130               37                5        75        1  "
      ]
     },
     "execution_count": 6,
     "metadata": {},
     "output_type": "execute_result"
    }
   ],
   "source": [
    "app[app['lang.num']==75]"
   ]
  },
  {
   "cell_type": "markdown",
   "metadata": {},
   "source": [
    "Two categorical variables in the dataset are primary genre and content rating (ordinal). There are 23 genres with the majority in games, followed by entertainment, education, photo & video, utilities, and health & fitness."
   ]
  },
  {
   "cell_type": "code",
   "execution_count": 12,
   "metadata": {
    "scrolled": true
   },
   "outputs": [
    {
     "data": {
      "image/png": "[encoded data removed]",
      "text/plain": [
       "<Figure size 720x360 with 1 Axes>"
      ]
     },
     "metadata": {},
     "output_type": "display_data"
    }
   ],
   "source": [
    "#Genre distribution\n",
    "plt.figure(figsize=(10,5))\n",
    "app['prime_genre'].value_counts().plot(kind='bar')\n",
    "plt.ylabel('Count')\n",
    "plt.title('Primary Genre')\n",
    "plt.show()"
   ]
  },
  {
   "cell_type": "markdown",
   "metadata": {},
   "source": [
    "There are four content ratings and most of them are 4+, followed by 12+, 9+, and 17+. "
   ]
  },
  {
   "cell_type": "code",
   "execution_count": 13,
   "metadata": {
    "scrolled": true
   },
   "outputs": [
    {
     "data": {
      "image/png": "[encoded data removed]",
      "text/plain": [
       "<Figure size 360x360 with 1 Axes>"
      ]
     },
     "metadata": {},
     "output_type": "display_data"
    }
   ],
   "source": [
    "#Content rating \n",
    "plt.figure(figsize=(5,5))\n",
    "app['cont_rating'].value_counts().plot(kind='bar')\n",
    "plt.title('Content Rating')\n",
    "plt.show()"
   ]
  },
  {
   "cell_type": "markdown",
   "metadata": {},
   "source": [
    "Taking a closer look at the numeric variables, as we can see from the descrptive statistics, price is very skewed. In order to see the details, we used log (count) on the y-axis. Majority of the prices are clustered within \\$0 - \\$9.99. "
   ]
  },
  {
   "cell_type": "code",
   "execution_count": 14,
   "metadata": {},
   "outputs": [
    {
     "data": {
      "image/png": "[encoded data removed]",
      "text/plain": [
       "<Figure size 1080x360 with 2 Axes>"
      ]
     },
     "metadata": {},
     "output_type": "display_data"
    }
   ],
   "source": [
    "#Price \n",
    "plt.figure(figsize=(15,5))\n",
    "\n",
    "plt.subplot(1,2,1)\n",
    "p1 = app['price'].hist(bins=100)\n",
    "p1.set(xlabel='Price($)', ylabel='Log (Count)')\n",
    "plt.yscale('log')\n",
    "plt.title('Price ($)')\n",
    "\n",
    "plt.subplot(1,2,2)\n",
    "price = np.unique(app['price'])\n",
    "p2 = app['price'].value_counts().loc[price].plot(kind='bar', color='salmon')\n",
    "p2.set(xlabel='Price($)', ylabel='Log (Count)')\n",
    "plt.yscale('log')\n",
    "plt.title('Price ($)', fontsize=12)\n",
    "\n",
    "plt.tight_layout()\n",
    "plt.show()"
   ]
  },
  {
   "cell_type": "markdown",
   "metadata": {},
   "source": [
    "Comparing user rating for all versions and the current version, there are more ratings within 0-0.5, 1-1.5, and 2-2.5 for the current version, while there are more ratings within 2.5-4.5 for all versions. There are slightly more ratings in 4.5-5 for the current version. "
   ]
  },
  {
   "cell_type": "code",
   "execution_count": 15,
   "metadata": {
    "scrolled": true
   },
   "outputs": [
    {
     "data": {
      "image/png": "[encoded data removed]",
      "text/plain": [
       "<Figure size 720x360 with 1 Axes>"
      ]
     },
     "metadata": {},
     "output_type": "display_data"
    }
   ],
   "source": [
    "#User rating \n",
    "plt.figure(figsize=(10,5))\n",
    "\n",
    "p1 = app['user_rating'].hist(bins=10, alpha=1.0, label='All Versions')\n",
    "p2 = app['user_rating_ver'].hist(bins=10, alpha=0.5, label='Current Version')\n",
    "\n",
    "plt.xlabel('User Rating')\n",
    "plt.ylabel('Count')\n",
    "plt.xticks(np.arange(0,6,0.5))\n",
    "plt.title('Average User Rating: All Versions vs. Current Version')\n",
    "plt.legend(loc='upper left')\n",
    "\n",
    "plt.show()"
   ]
  },
  {
   "cell_type": "markdown",
   "metadata": {},
   "source": [
    "As can be seen from the plot for number of supporting devices, it follows a trimodal distribution. There are two obvious gaps between clusters. One is between 9-16 and 23-26, the other is between 23-26 and 33-47. The three clusters could be Mac Book, iPad, and iPhone. The biggest peak occurs at 37. In terms of number of supporting languages, it is a blend of both multimodal and logrithmatic distributions, with a peak of 1 and then dramatically drops down, then peak occurs at 30, 58, and 69. Most iOS Apps use English as the primary language. Number of screenshots display follows a bimodal distribution with the peak of 5 and 0 at the two ends. "
   ]
  },
  {
   "cell_type": "code",
   "execution_count": 16,
   "metadata": {
    "scrolled": true
   },
   "outputs": [
    {
     "data": {
      "image/png": "[encoded data removed]",
      "text/plain": [
       "<Figure size 1080x360 with 3 Axes>"
      ]
     },
     "metadata": {},
     "output_type": "display_data"
    }
   ],
   "source": [
    "#Number of supporting devices\n",
    "plt.figure(figsize=(15,5))\n",
    "plt.subplot(1,3,1)\n",
    "p1 = app['sup_devices.num'].hist(bins=20, color='orange', alpha=0.5)\n",
    "p1.set(xlabel='N Supporting Devices', ylabel='Log (Count)')\n",
    "plt.title('Number of Supporting Devices')\n",
    "plt.yscale('log')\n",
    "\n",
    "#Number of supported languages\n",
    "plt.subplot(1,3,2)\n",
    "p2 = app['lang.num'].hist(bins=20, color='lightgrey')\n",
    "p2.set(xlabel='N Supporting Languages', ylabel='Log (Count)')\n",
    "plt.title('Number of Supporting Languages')\n",
    "plt.yscale('log')\n",
    "\n",
    "#Number of screenshots showed for display \n",
    "plt.subplot(1,3,3)\n",
    "sc = np.unique(app['ipadSc_urls.num'])\n",
    "p3 = (app['ipadSc_urls.num'].value_counts()/ntot*100).loc[sc].plot(kind='barh', color='lightcoral')\n",
    "p3.set(xlabel='N Screenshots', ylabel='Percent')\n",
    "plt.title('Number of Screenshots Display')\n",
    "\n",
    "plt.tight_layout()\n",
    "plt.show()"
   ]
  },
  {
   "cell_type": "markdown",
   "metadata": {},
   "source": [
    "## Analytic Questions \n",
    "Preliminary analysis was oriented by the following analytic questions.\n",
    "### 1. What are the most popular iOS Apps in the Apple store? How do their characteristics compare to other Apps? "
   ]
  },
  {
   "cell_type": "markdown",
   "metadata": {},
   "source": [
    "We identified Top100 Apps based on total rating counts. For your information, the Top10 popular Apps are: Facebook, Instagram, Clash of Clans, Temple Run, Pandora, Pinterest, Bible, Candy Crush Saga, Spotify, and Angry Birds. How many of them are on your iPhone/iPad? "
   ]
  },
  {
   "cell_type": "code",
   "execution_count": 17,
   "metadata": {
    "scrolled": false
   },
   "outputs": [
    {
     "data": {
      "text/html": [
       "<div>\n",
       "<style scoped>\n",
       "    .dataframe tbody tr th:only-of-type {\n",
       "        vertical-align: middle;\n",
       "    }\n",
       "\n",
       "    .dataframe tbody tr th {\n",
       "        vertical-align: top;\n",
       "    }\n",
       "\n",
       "    .dataframe thead th {\n",
       "        text-align: right;\n",
       "    }\n",
       "</style>\n",
       "<table border=\"1\" class=\"dataframe\">\n",
       "  <thead>\n",
       "    <tr style=\"text-align: right;\">\n",
       "      <th></th>\n",
       "      <th>id</th>\n",
       "      <th>track_name</th>\n",
       "      <th>size_bytes</th>\n",
       "      <th>currency</th>\n",
       "      <th>price</th>\n",
       "      <th>rating_count_tot</th>\n",
       "      <th>rating_count_ver</th>\n",
       "      <th>user_rating</th>\n",
       "      <th>user_rating_ver</th>\n",
       "      <th>ver</th>\n",
       "      <th>cont_rating</th>\n",
       "      <th>prime_genre</th>\n",
       "      <th>sup_devices.num</th>\n",
       "      <th>ipadSc_urls.num</th>\n",
       "      <th>lang.num</th>\n",
       "      <th>vpp_lic</th>\n",
       "    </tr>\n",
       "  </thead>\n",
       "  <tbody>\n",
       "    <tr>\n",
       "      <th>17</th>\n",
       "      <td>284882215</td>\n",
       "      <td>Facebook</td>\n",
       "      <td>389879808</td>\n",
       "      <td>USD</td>\n",
       "      <td>0.0</td>\n",
       "      <td>2974676</td>\n",
       "      <td>212</td>\n",
       "      <td>3.5</td>\n",
       "      <td>3.5</td>\n",
       "      <td>95.0</td>\n",
       "      <td>4+</td>\n",
       "      <td>Social Networking</td>\n",
       "      <td>37</td>\n",
       "      <td>1</td>\n",
       "      <td>29</td>\n",
       "      <td>1</td>\n",
       "    </tr>\n",
       "    <tr>\n",
       "      <th>591</th>\n",
       "      <td>389801252</td>\n",
       "      <td>Instagram</td>\n",
       "      <td>113954816</td>\n",
       "      <td>USD</td>\n",
       "      <td>0.0</td>\n",
       "      <td>2161558</td>\n",
       "      <td>1289</td>\n",
       "      <td>4.5</td>\n",
       "      <td>4.0</td>\n",
       "      <td>10.23</td>\n",
       "      <td>12+</td>\n",
       "      <td>Photo &amp; Video</td>\n",
       "      <td>37</td>\n",
       "      <td>0</td>\n",
       "      <td>29</td>\n",
       "      <td>1</td>\n",
       "    </tr>\n",
       "    <tr>\n",
       "      <th>1561</th>\n",
       "      <td>529479190</td>\n",
       "      <td>Clash of Clans</td>\n",
       "      <td>116476928</td>\n",
       "      <td>USD</td>\n",
       "      <td>0.0</td>\n",
       "      <td>2130805</td>\n",
       "      <td>579</td>\n",
       "      <td>4.5</td>\n",
       "      <td>4.5</td>\n",
       "      <td>9.24.12</td>\n",
       "      <td>9+</td>\n",
       "      <td>Games</td>\n",
       "      <td>38</td>\n",
       "      <td>5</td>\n",
       "      <td>18</td>\n",
       "      <td>1</td>\n",
       "    </tr>\n",
       "    <tr>\n",
       "      <th>810</th>\n",
       "      <td>420009108</td>\n",
       "      <td>Temple Run</td>\n",
       "      <td>65921024</td>\n",
       "      <td>USD</td>\n",
       "      <td>0.0</td>\n",
       "      <td>1724546</td>\n",
       "      <td>3842</td>\n",
       "      <td>4.5</td>\n",
       "      <td>4.0</td>\n",
       "      <td>1.6.2</td>\n",
       "      <td>9+</td>\n",
       "      <td>Games</td>\n",
       "      <td>40</td>\n",
       "      <td>5</td>\n",
       "      <td>1</td>\n",
       "      <td>1</td>\n",
       "    </tr>\n",
       "    <tr>\n",
       "      <th>8</th>\n",
       "      <td>284035177</td>\n",
       "      <td>Pandora - Music &amp; Radio</td>\n",
       "      <td>130242560</td>\n",
       "      <td>USD</td>\n",
       "      <td>0.0</td>\n",
       "      <td>1126879</td>\n",
       "      <td>3594</td>\n",
       "      <td>4.0</td>\n",
       "      <td>4.5</td>\n",
       "      <td>8.4.1</td>\n",
       "      <td>12+</td>\n",
       "      <td>Music</td>\n",
       "      <td>37</td>\n",
       "      <td>4</td>\n",
       "      <td>1</td>\n",
       "      <td>1</td>\n",
       "    </tr>\n",
       "    <tr>\n",
       "      <th>863</th>\n",
       "      <td>429047995</td>\n",
       "      <td>Pinterest</td>\n",
       "      <td>74778624</td>\n",
       "      <td>USD</td>\n",
       "      <td>0.0</td>\n",
       "      <td>1061624</td>\n",
       "      <td>1814</td>\n",
       "      <td>4.5</td>\n",
       "      <td>4.0</td>\n",
       "      <td>6.26</td>\n",
       "      <td>12+</td>\n",
       "      <td>Social Networking</td>\n",
       "      <td>37</td>\n",
       "      <td>5</td>\n",
       "      <td>27</td>\n",
       "      <td>1</td>\n",
       "    </tr>\n",
       "    <tr>\n",
       "      <th>5</th>\n",
       "      <td>282935706</td>\n",
       "      <td>Bible</td>\n",
       "      <td>92774400</td>\n",
       "      <td>USD</td>\n",
       "      <td>0.0</td>\n",
       "      <td>985920</td>\n",
       "      <td>5320</td>\n",
       "      <td>4.5</td>\n",
       "      <td>5.0</td>\n",
       "      <td>7.5.1</td>\n",
       "      <td>4+</td>\n",
       "      <td>Reference</td>\n",
       "      <td>37</td>\n",
       "      <td>5</td>\n",
       "      <td>45</td>\n",
       "      <td>1</td>\n",
       "    </tr>\n",
       "    <tr>\n",
       "      <th>1731</th>\n",
       "      <td>553834731</td>\n",
       "      <td>Candy Crush Saga</td>\n",
       "      <td>222846976</td>\n",
       "      <td>USD</td>\n",
       "      <td>0.0</td>\n",
       "      <td>961794</td>\n",
       "      <td>2453</td>\n",
       "      <td>4.5</td>\n",
       "      <td>4.5</td>\n",
       "      <td>1.101.0</td>\n",
       "      <td>4+</td>\n",
       "      <td>Games</td>\n",
       "      <td>43</td>\n",
       "      <td>5</td>\n",
       "      <td>24</td>\n",
       "      <td>1</td>\n",
       "    </tr>\n",
       "    <tr>\n",
       "      <th>202</th>\n",
       "      <td>324684580</td>\n",
       "      <td>Spotify Music</td>\n",
       "      <td>132510720</td>\n",
       "      <td>USD</td>\n",
       "      <td>0.0</td>\n",
       "      <td>878563</td>\n",
       "      <td>8253</td>\n",
       "      <td>4.5</td>\n",
       "      <td>4.5</td>\n",
       "      <td>8.4.3</td>\n",
       "      <td>12+</td>\n",
       "      <td>Music</td>\n",
       "      <td>37</td>\n",
       "      <td>5</td>\n",
       "      <td>18</td>\n",
       "      <td>1</td>\n",
       "    </tr>\n",
       "    <tr>\n",
       "      <th>310</th>\n",
       "      <td>343200656</td>\n",
       "      <td>Angry Birds</td>\n",
       "      <td>175966208</td>\n",
       "      <td>USD</td>\n",
       "      <td>0.0</td>\n",
       "      <td>824451</td>\n",
       "      <td>107</td>\n",
       "      <td>4.5</td>\n",
       "      <td>3.0</td>\n",
       "      <td>7.4.0</td>\n",
       "      <td>4+</td>\n",
       "      <td>Games</td>\n",
       "      <td>38</td>\n",
       "      <td>0</td>\n",
       "      <td>10</td>\n",
       "      <td>1</td>\n",
       "    </tr>\n",
       "  </tbody>\n",
       "</table>\n",
       "</div>"
      ],
      "text/plain": [
       "             id               track_name  size_bytes currency  price  \\\n",
       "17    284882215                 Facebook   389879808      USD    0.0   \n",
       "591   389801252                Instagram   113954816      USD    0.0   \n",
       "1561  529479190           Clash of Clans   116476928      USD    0.0   \n",
       "810   420009108               Temple Run    65921024      USD    0.0   \n",
       "8     284035177  Pandora - Music & Radio   130242560      USD    0.0   \n",
       "863   429047995                Pinterest    74778624      USD    0.0   \n",
       "5     282935706                    Bible    92774400      USD    0.0   \n",
       "1731  553834731         Candy Crush Saga   222846976      USD    0.0   \n",
       "202   324684580            Spotify Music   132510720      USD    0.0   \n",
       "310   343200656              Angry Birds   175966208      USD    0.0   \n",
       "\n",
       "      rating_count_tot  rating_count_ver  user_rating  user_rating_ver  \\\n",
       "17             2974676               212          3.5              3.5   \n",
       "591            2161558              1289          4.5              4.0   \n",
       "1561           2130805               579          4.5              4.5   \n",
       "810            1724546              3842          4.5              4.0   \n",
       "8              1126879              3594          4.0              4.5   \n",
       "863            1061624              1814          4.5              4.0   \n",
       "5               985920              5320          4.5              5.0   \n",
       "1731            961794              2453          4.5              4.5   \n",
       "202             878563              8253          4.5              4.5   \n",
       "310             824451               107          4.5              3.0   \n",
       "\n",
       "          ver cont_rating        prime_genre  sup_devices.num  \\\n",
       "17       95.0          4+  Social Networking               37   \n",
       "591     10.23         12+      Photo & Video               37   \n",
       "1561  9.24.12          9+              Games               38   \n",
       "810     1.6.2          9+              Games               40   \n",
       "8       8.4.1         12+              Music               37   \n",
       "863      6.26         12+  Social Networking               37   \n",
       "5       7.5.1          4+          Reference               37   \n",
       "1731  1.101.0          4+              Games               43   \n",
       "202     8.4.3         12+              Music               37   \n",
       "310     7.4.0          4+              Games               38   \n",
       "\n",
       "      ipadSc_urls.num  lang.num  vpp_lic  \n",
       "17                  1        29        1  \n",
       "591                 0        29        1  \n",
       "1561                5        18        1  \n",
       "810                 5         1        1  \n",
       "8                   4         1        1  \n",
       "863                 5        27        1  \n",
       "5                   5        45        1  \n",
       "1731                5        24        1  \n",
       "202                 5        18        1  \n",
       "310                 0        10        1  "
      ]
     },
     "execution_count": 17,
     "metadata": {},
     "output_type": "execute_result"
    }
   ],
   "source": [
    "#Create datasets for the Top100 and Others \n",
    "top = pd.DataFrame(app.sort_values('rating_count_tot', ascending=False).head(100))\n",
    "ntop=100\n",
    "top.head(10)"
   ]
  },
  {
   "cell_type": "markdown",
   "metadata": {},
   "source": [
    "We first created a dataset contains all Apps excluding the Top100 Apps. And then we created a binary 'popular' indicating popularity based on total rating counts. "
   ]
  },
  {
   "cell_type": "code",
   "execution_count": 19,
   "metadata": {},
   "outputs": [],
   "source": [
    "#Create others dataset \n",
    "others = pd.DataFrame(app.sort_values('rating_count_tot', ascending=True).head(7098))\n",
    "nothers=7098\n",
    "\n",
    "#Create a new binary variable: popular\n",
    "top['popular'] = 1\n",
    "others['popular'] = 0"
   ]
  },
  {
   "cell_type": "markdown",
   "metadata": {},
   "source": [
    "To compare the Top100 and other Apps, relative differences in statistics were examined. As we can see from the table below, on average, price of the Top100 Apps is 88% lower than others; user rating for all versions and the current version of the Top100 Apps are 21% and 31% higher than other Apps, respectively; number of screenshots of the Top100 Apps is 8% more than other Apps; number of supporting languages of the Top100 Apps is 1.25 times more than others. In terms of number of supporting devices, the difference of 0.4% is insignificant. "
   ]
  },
  {
   "cell_type": "code",
   "execution_count": 20,
   "metadata": {
    "scrolled": true
   },
   "outputs": [
    {
     "data": {
      "text/html": [
       "<div>\n",
       "<style scoped>\n",
       "    .dataframe tbody tr th:only-of-type {\n",
       "        vertical-align: middle;\n",
       "    }\n",
       "\n",
       "    .dataframe tbody tr th {\n",
       "        vertical-align: top;\n",
       "    }\n",
       "\n",
       "    .dataframe thead th {\n",
       "        text-align: right;\n",
       "    }\n",
       "</style>\n",
       "<table border=\"1\" class=\"dataframe\">\n",
       "  <thead>\n",
       "    <tr style=\"text-align: right;\">\n",
       "      <th></th>\n",
       "      <th>price</th>\n",
       "      <th>user_rating</th>\n",
       "      <th>user_rating_ver</th>\n",
       "      <th>sup_devices.num</th>\n",
       "      <th>ipadSc_urls.num</th>\n",
       "      <th>lang.num</th>\n",
       "    </tr>\n",
       "  </thead>\n",
       "  <tbody>\n",
       "    <tr>\n",
       "      <th>count</th>\n",
       "      <td>-0.985912</td>\n",
       "      <td>-0.985912</td>\n",
       "      <td>-0.985912</td>\n",
       "      <td>-0.985912</td>\n",
       "      <td>-0.985912</td>\n",
       "      <td>-0.985912</td>\n",
       "    </tr>\n",
       "    <tr>\n",
       "      <th>mean</th>\n",
       "      <td>-0.880457</td>\n",
       "      <td>0.211365</td>\n",
       "      <td>0.308728</td>\n",
       "      <td>0.003729</td>\n",
       "      <td>0.080160</td>\n",
       "      <td>1.246439</td>\n",
       "    </tr>\n",
       "    <tr>\n",
       "      <th>std</th>\n",
       "      <td>-0.858585</td>\n",
       "      <td>-0.659151</td>\n",
       "      <td>-0.638284</td>\n",
       "      <td>-0.119881</td>\n",
       "      <td>-0.110156</td>\n",
       "      <td>0.405930</td>\n",
       "    </tr>\n",
       "    <tr>\n",
       "      <th>min</th>\n",
       "      <td>NaN</td>\n",
       "      <td>inf</td>\n",
       "      <td>NaN</td>\n",
       "      <td>0.333333</td>\n",
       "      <td>NaN</td>\n",
       "      <td>inf</td>\n",
       "    </tr>\n",
       "    <tr>\n",
       "      <th>25%</th>\n",
       "      <td>NaN</td>\n",
       "      <td>0.142857</td>\n",
       "      <td>1.000000</td>\n",
       "      <td>0.000000</td>\n",
       "      <td>0.333333</td>\n",
       "      <td>0.750000</td>\n",
       "    </tr>\n",
       "    <tr>\n",
       "      <th>50%</th>\n",
       "      <td>NaN</td>\n",
       "      <td>0.125000</td>\n",
       "      <td>0.125000</td>\n",
       "      <td>0.000000</td>\n",
       "      <td>0.000000</td>\n",
       "      <td>9.000000</td>\n",
       "    </tr>\n",
       "    <tr>\n",
       "      <th>75%</th>\n",
       "      <td>-1.000000</td>\n",
       "      <td>0.000000</td>\n",
       "      <td>0.000000</td>\n",
       "      <td>0.000000</td>\n",
       "      <td>0.000000</td>\n",
       "      <td>1.031250</td>\n",
       "    </tr>\n",
       "    <tr>\n",
       "      <th>max</th>\n",
       "      <td>-0.976699</td>\n",
       "      <td>0.000000</td>\n",
       "      <td>0.000000</td>\n",
       "      <td>-0.085106</td>\n",
       "      <td>0.000000</td>\n",
       "      <td>-0.400000</td>\n",
       "    </tr>\n",
       "  </tbody>\n",
       "</table>\n",
       "</div>"
      ],
      "text/plain": [
       "          price  user_rating  user_rating_ver  sup_devices.num  \\\n",
       "count -0.985912    -0.985912        -0.985912        -0.985912   \n",
       "mean  -0.880457     0.211365         0.308728         0.003729   \n",
       "std   -0.858585    -0.659151        -0.638284        -0.119881   \n",
       "min         NaN          inf              NaN         0.333333   \n",
       "25%         NaN     0.142857         1.000000         0.000000   \n",
       "50%         NaN     0.125000         0.125000         0.000000   \n",
       "75%   -1.000000     0.000000         0.000000         0.000000   \n",
       "max   -0.976699     0.000000         0.000000        -0.085106   \n",
       "\n",
       "       ipadSc_urls.num  lang.num  \n",
       "count        -0.985912 -0.985912  \n",
       "mean          0.080160  1.246439  \n",
       "std          -0.110156  0.405930  \n",
       "min                NaN       inf  \n",
       "25%           0.333333  0.750000  \n",
       "50%           0.000000  9.000000  \n",
       "75%           0.000000  1.031250  \n",
       "max           0.000000 -0.400000  "
      ]
     },
     "execution_count": 20,
     "metadata": {},
     "output_type": "execute_result"
    }
   ],
   "source": [
    "relative_diff = (top.describe() - others.describe()) / others.describe()\n",
    "#Keep vars of interest \n",
    "relative_diff.drop(columns = ['id', 'rating_count_tot', 'rating_count_ver',\n",
    "                              'size_bytes', 'vpp_lic', 'popular'])"
   ]
  },
  {
   "cell_type": "markdown",
   "metadata": {},
   "source": [
    "First of all, let's take a look at price. Among these Top100 Apps, all of them are free or no more than \\$3.99. The reason could be \\$3.99 is a reasonal amount of money that people feel comfortable to spend on an App. Because it is \\$1 away from a five dollar bill,  psychologically it doesn't feel expensive. "
   ]
  },
  {
   "cell_type": "code",
   "execution_count": 22,
   "metadata": {},
   "outputs": [
    {
     "data": {
      "image/png": "[encoded data removed]",
      "text/plain": [
       "<Figure size 720x360 with 1 Axes>"
      ]
     },
     "metadata": {},
     "output_type": "display_data"
    }
   ],
   "source": [
    "#Price\n",
    "plt.figure(figsize=(10,5))\n",
    "\n",
    "#plt.subplot(1,2,2)\n",
    "top_price = np.unique(top['price'])\n",
    "others_price = np.unique(others['price'])\n",
    "p1 = (top['price'].value_counts()/ntop).loc[top_price].plot(kind='bar', color='steelblue', alpha=1.0, label='Top100')\n",
    "p2 = (others['price'].value_counts()/nothers).loc[others_price].plot(kind='bar', color='sandybrown', alpha=0.5, label='Others')\n",
    "\n",
    "plt.xlabel('Price($)')\n",
    "plt.ylabel('Count')\n",
    "plt.yscale('log')\n",
    "plt.title('Price ($)')\n",
    "plt.legend(loc='upper right')\n",
    "\n",
    "plt.tight_layout()\n",
    "plt.show()"
   ]
  },
  {
   "cell_type": "markdown",
   "metadata": {},
   "source": [
    "With respect to primary genre, in comparison, there are 2.5 times more social networking Apps among the Top100 than other Apps, 2 times more weather Apps, and there are 1 time more reference, food & drink and music Apps among the Top100 than other Apps. There are similar percent of Apps in games, sports, shopping, navigation, and news in Top100 and Others. However, among Top100 Apps, fewer are in health & fitness, photo & video, entertainment, lifestyle, book, and unitility. There is no App in education, productivity, business, medical, and catalogs in the Top100 group.  "
   ]
  },
  {
   "cell_type": "code",
   "execution_count": 23,
   "metadata": {
    "scrolled": true
   },
   "outputs": [
    {
     "data": {
      "text/html": [
       "<div>\n",
       "<style scoped>\n",
       "    .dataframe tbody tr th:only-of-type {\n",
       "        vertical-align: middle;\n",
       "    }\n",
       "\n",
       "    .dataframe tbody tr th {\n",
       "        vertical-align: top;\n",
       "    }\n",
       "\n",
       "    .dataframe thead th {\n",
       "        text-align: right;\n",
       "    }\n",
       "</style>\n",
       "<table border=\"1\" class=\"dataframe\">\n",
       "  <thead>\n",
       "    <tr style=\"text-align: right;\">\n",
       "      <th></th>\n",
       "      <th>genre</th>\n",
       "      <th>pct_Top100</th>\n",
       "      <th>pct_Others</th>\n",
       "      <th>relative_diff</th>\n",
       "    </tr>\n",
       "  </thead>\n",
       "  <tbody>\n",
       "    <tr>\n",
       "      <th>1</th>\n",
       "      <td>Social Networking</td>\n",
       "      <td>7.0</td>\n",
       "      <td>2.0</td>\n",
       "      <td>2.500000</td>\n",
       "    </tr>\n",
       "    <tr>\n",
       "      <th>4</th>\n",
       "      <td>Weather</td>\n",
       "      <td>3.0</td>\n",
       "      <td>1.0</td>\n",
       "      <td>2.000000</td>\n",
       "    </tr>\n",
       "    <tr>\n",
       "      <th>10</th>\n",
       "      <td>Finance</td>\n",
       "      <td>2.0</td>\n",
       "      <td>1.0</td>\n",
       "      <td>1.000000</td>\n",
       "    </tr>\n",
       "    <tr>\n",
       "      <th>3</th>\n",
       "      <td>Music</td>\n",
       "      <td>4.0</td>\n",
       "      <td>2.0</td>\n",
       "      <td>1.000000</td>\n",
       "    </tr>\n",
       "    <tr>\n",
       "      <th>12</th>\n",
       "      <td>Food &amp; Drink</td>\n",
       "      <td>2.0</td>\n",
       "      <td>1.0</td>\n",
       "      <td>1.000000</td>\n",
       "    </tr>\n",
       "    <tr>\n",
       "      <th>7</th>\n",
       "      <td>Travel</td>\n",
       "      <td>2.0</td>\n",
       "      <td>1.0</td>\n",
       "      <td>1.000000</td>\n",
       "    </tr>\n",
       "    <tr>\n",
       "      <th>8</th>\n",
       "      <td>Reference</td>\n",
       "      <td>2.0</td>\n",
       "      <td>1.0</td>\n",
       "      <td>1.000000</td>\n",
       "    </tr>\n",
       "    <tr>\n",
       "      <th>0</th>\n",
       "      <td>Games</td>\n",
       "      <td>60.0</td>\n",
       "      <td>54.0</td>\n",
       "      <td>0.111111</td>\n",
       "    </tr>\n",
       "    <tr>\n",
       "      <th>13</th>\n",
       "      <td>News</td>\n",
       "      <td>1.0</td>\n",
       "      <td>1.0</td>\n",
       "      <td>0.000000</td>\n",
       "    </tr>\n",
       "    <tr>\n",
       "      <th>11</th>\n",
       "      <td>Shopping</td>\n",
       "      <td>2.0</td>\n",
       "      <td>2.0</td>\n",
       "      <td>0.000000</td>\n",
       "    </tr>\n",
       "    <tr>\n",
       "      <th>9</th>\n",
       "      <td>Sports</td>\n",
       "      <td>2.0</td>\n",
       "      <td>2.0</td>\n",
       "      <td>0.000000</td>\n",
       "    </tr>\n",
       "    <tr>\n",
       "      <th>17</th>\n",
       "      <td>Navigation</td>\n",
       "      <td>1.0</td>\n",
       "      <td>1.0</td>\n",
       "      <td>0.000000</td>\n",
       "    </tr>\n",
       "    <tr>\n",
       "      <th>6</th>\n",
       "      <td>Health &amp; Fitness</td>\n",
       "      <td>2.0</td>\n",
       "      <td>3.0</td>\n",
       "      <td>-0.333333</td>\n",
       "    </tr>\n",
       "    <tr>\n",
       "      <th>5</th>\n",
       "      <td>Photo &amp; Video</td>\n",
       "      <td>3.0</td>\n",
       "      <td>5.0</td>\n",
       "      <td>-0.400000</td>\n",
       "    </tr>\n",
       "    <tr>\n",
       "      <th>2</th>\n",
       "      <td>Entertainment</td>\n",
       "      <td>4.0</td>\n",
       "      <td>7.0</td>\n",
       "      <td>-0.428571</td>\n",
       "    </tr>\n",
       "    <tr>\n",
       "      <th>14</th>\n",
       "      <td>Book</td>\n",
       "      <td>1.0</td>\n",
       "      <td>2.0</td>\n",
       "      <td>-0.500000</td>\n",
       "    </tr>\n",
       "    <tr>\n",
       "      <th>15</th>\n",
       "      <td>Lifestyle</td>\n",
       "      <td>1.0</td>\n",
       "      <td>2.0</td>\n",
       "      <td>-0.500000</td>\n",
       "    </tr>\n",
       "    <tr>\n",
       "      <th>16</th>\n",
       "      <td>Utilities</td>\n",
       "      <td>1.0</td>\n",
       "      <td>3.0</td>\n",
       "      <td>-0.666667</td>\n",
       "    </tr>\n",
       "    <tr>\n",
       "      <th>18</th>\n",
       "      <td>Education</td>\n",
       "      <td>NaN</td>\n",
       "      <td>6.0</td>\n",
       "      <td>NaN</td>\n",
       "    </tr>\n",
       "    <tr>\n",
       "      <th>19</th>\n",
       "      <td>Productivity</td>\n",
       "      <td>NaN</td>\n",
       "      <td>3.0</td>\n",
       "      <td>NaN</td>\n",
       "    </tr>\n",
       "    <tr>\n",
       "      <th>20</th>\n",
       "      <td>Business</td>\n",
       "      <td>NaN</td>\n",
       "      <td>1.0</td>\n",
       "      <td>NaN</td>\n",
       "    </tr>\n",
       "    <tr>\n",
       "      <th>21</th>\n",
       "      <td>Medical</td>\n",
       "      <td>NaN</td>\n",
       "      <td>0.0</td>\n",
       "      <td>NaN</td>\n",
       "    </tr>\n",
       "    <tr>\n",
       "      <th>22</th>\n",
       "      <td>Catalogs</td>\n",
       "      <td>NaN</td>\n",
       "      <td>0.0</td>\n",
       "      <td>NaN</td>\n",
       "    </tr>\n",
       "  </tbody>\n",
       "</table>\n",
       "</div>"
      ],
      "text/plain": [
       "                genre  pct_Top100  pct_Others  relative_diff\n",
       "1   Social Networking         7.0         2.0       2.500000\n",
       "4             Weather         3.0         1.0       2.000000\n",
       "10            Finance         2.0         1.0       1.000000\n",
       "3               Music         4.0         2.0       1.000000\n",
       "12       Food & Drink         2.0         1.0       1.000000\n",
       "7              Travel         2.0         1.0       1.000000\n",
       "8           Reference         2.0         1.0       1.000000\n",
       "0               Games        60.0        54.0       0.111111\n",
       "13               News         1.0         1.0       0.000000\n",
       "11           Shopping         2.0         2.0       0.000000\n",
       "9              Sports         2.0         2.0       0.000000\n",
       "17         Navigation         1.0         1.0       0.000000\n",
       "6    Health & Fitness         2.0         3.0      -0.333333\n",
       "5       Photo & Video         3.0         5.0      -0.400000\n",
       "2       Entertainment         4.0         7.0      -0.428571\n",
       "14               Book         1.0         2.0      -0.500000\n",
       "15          Lifestyle         1.0         2.0      -0.500000\n",
       "16          Utilities         1.0         3.0      -0.666667\n",
       "18          Education         NaN         6.0            NaN\n",
       "19       Productivity         NaN         3.0            NaN\n",
       "20           Business         NaN         1.0            NaN\n",
       "21            Medical         NaN         0.0            NaN\n",
       "22           Catalogs         NaN         0.0            NaN"
      ]
     },
     "execution_count": 23,
     "metadata": {},
     "output_type": "execute_result"
    }
   ],
   "source": [
    "#Top100\n",
    "top_genre = pd.value_counts(top['prime_genre']).reset_index()\n",
    "top_genre.columns = ['genre', 'pct_Top100']\n",
    "\n",
    "#Others\n",
    "others_genre = pd.value_counts(others['prime_genre']).reset_index()\n",
    "others_genre.columns = ['genre', 'Others']\n",
    "others_genre['pct_Others'] = round(others_genre['Others']/nothers*100, 0)\n",
    "\n",
    "comp = pd.merge(top_genre, others_genre, on='genre', how='outer')\n",
    "#Hobson: I decided to use this equation rather than Top100/Others to show direction of differences\n",
    "comp['relative_diff'] = (comp['pct_Top100'] - comp['pct_Others']) / comp['pct_Others']\n",
    "comp = comp.drop(columns=['Others']).sort_values(by=['relative_diff'], ascending=False)\n",
    "comp"
   ]
  },
  {
   "cell_type": "code",
   "execution_count": 26,
   "metadata": {
    "scrolled": true
   },
   "outputs": [
    {
     "data": {
      "image/png": "[encoded data removed]",
      "text/plain": [
       "<Figure size 720x360 with 1 Axes>"
      ]
     },
     "metadata": {},
     "output_type": "display_data"
    }
   ],
   "source": [
    "plt.figure(figsize=(10,5))\n",
    "plt.barh('genre', 'relative_diff', data=comp, align='center', color='steelblue')\n",
    "plt.title ('Top100 vs. Others', fontsize=14)\n",
    "plt.xlabel('Relative Difference in Percent')\n",
    "plt.gca().invert_yaxis()\n",
    "\n",
    "plt.show()"
   ]
  },
  {
   "cell_type": "markdown",
   "metadata": {},
   "source": [
    "In terms of content rating, there is about 10% less 4+ Apps and 20% less 17+ Apps in the Top100 than other Apps. However, there are 31% more 12+ Apps and 14% more Apps in the Top100 than other Apps. The reason could be 9+ and 12+ are less content restricted than 17+. Although 4+ is least content restricted, it tends to target at a smaller market composed of children and parents (e.g., The Dance of the Little Water Drops). "
   ]
  },
  {
   "cell_type": "code",
   "execution_count": 43,
   "metadata": {
    "scrolled": true
   },
   "outputs": [
    {
     "data": {
      "text/html": [
       "<div>\n",
       "<style scoped>\n",
       "    .dataframe tbody tr th:only-of-type {\n",
       "        vertical-align: middle;\n",
       "    }\n",
       "\n",
       "    .dataframe tbody tr th {\n",
       "        vertical-align: top;\n",
       "    }\n",
       "\n",
       "    .dataframe thead th {\n",
       "        text-align: right;\n",
       "    }\n",
       "</style>\n",
       "<table border=\"1\" class=\"dataframe\">\n",
       "  <thead>\n",
       "    <tr style=\"text-align: right;\">\n",
       "      <th></th>\n",
       "      <th>cont</th>\n",
       "      <th>pct_Top100</th>\n",
       "      <th>pct_Others</th>\n",
       "      <th>relative_diff</th>\n",
       "    </tr>\n",
       "  </thead>\n",
       "  <tbody>\n",
       "    <tr>\n",
       "      <th>1</th>\n",
       "      <td>12+</td>\n",
       "      <td>21</td>\n",
       "      <td>16.0</td>\n",
       "      <td>0.312500</td>\n",
       "    </tr>\n",
       "    <tr>\n",
       "      <th>2</th>\n",
       "      <td>9+</td>\n",
       "      <td>16</td>\n",
       "      <td>14.0</td>\n",
       "      <td>0.142857</td>\n",
       "    </tr>\n",
       "    <tr>\n",
       "      <th>0</th>\n",
       "      <td>4+</td>\n",
       "      <td>56</td>\n",
       "      <td>62.0</td>\n",
       "      <td>-0.096774</td>\n",
       "    </tr>\n",
       "    <tr>\n",
       "      <th>3</th>\n",
       "      <td>17+</td>\n",
       "      <td>7</td>\n",
       "      <td>9.0</td>\n",
       "      <td>-0.222222</td>\n",
       "    </tr>\n",
       "  </tbody>\n",
       "</table>\n",
       "</div>"
      ],
      "text/plain": [
       "  cont  pct_Top100  pct_Others  relative_diff\n",
       "1  12+          21        16.0       0.312500\n",
       "2   9+          16        14.0       0.142857\n",
       "0   4+          56        62.0      -0.096774\n",
       "3  17+           7         9.0      -0.222222"
      ]
     },
     "execution_count": 43,
     "metadata": {},
     "output_type": "execute_result"
    }
   ],
   "source": [
    "#Top100\n",
    "top_cont = pd.value_counts(top['cont_rating']).reset_index()\n",
    "top_cont.columns = ['cont', 'pct_Top100']\n",
    "\n",
    "#Others\n",
    "others_cont = pd.value_counts(others['cont_rating']).reset_index()\n",
    "others_cont.columns = ['cont', 'Others']\n",
    "others_cont['pct_Others'] = round(others_cont['Others']/nothers*100, 0)\n",
    "\n",
    "comp_cont = pd.merge(top_cont, others_cont, on='cont', how='outer')\n",
    "comp_cont['relative_diff'] = (comp_cont['pct_Top100']-comp_cont['pct_Others'])/comp_cont['pct_Others']\n",
    "comp_cont = comp_cont.drop(columns=['Others']).sort_values(by=['relative_diff'], ascending=False)\n",
    "comp_cont"
   ]
  },
  {
   "cell_type": "code",
   "execution_count": 28,
   "metadata": {},
   "outputs": [
    {
     "data": {
      "image/png": "[encoded data removed]",
      "text/plain": [
       "<Figure size 720x360 with 1 Axes>"
      ]
     },
     "metadata": {},
     "output_type": "display_data"
    }
   ],
   "source": [
    "plt.figure(figsize=(10,5))\n",
    "plt.barh('cont', 'relative_diff', data=comp_cont, align='center', color='lightcoral')\n",
    "plt.title ('Top100 vs. Others', fontsize=14)\n",
    "plt.xlabel('Relative Difference in Percent')\n",
    "plt.gca().invert_yaxis()\n",
    "\n",
    "plt.show()"
   ]
  },
  {
   "cell_type": "markdown",
   "metadata": {},
   "source": [
    "In general, these Top100 Apps have relatively higher user ratings. Comparing to other Apps, on average, all versions are rated 0.74 point higher, and the current version is rated 1 point higher. Users are more satisfied with these Top100 Apps.  "
   ]
  },
  {
   "cell_type": "code",
   "execution_count": 196,
   "metadata": {
    "scrolled": true
   },
   "outputs": [
    {
     "name": "stdout",
     "output_type": "stream",
     "text": [
      "4.26 4.24\n",
      "3.52 3.24\n"
     ]
    }
   ],
   "source": [
    "print(np.mean(top['user_rating']), np.mean(top['user_rating_ver']))\n",
    "print(round(np.mean(others['user_rating']),2), round(np.mean(others['user_rating_ver']),2))"
   ]
  },
  {
   "cell_type": "markdown",
   "metadata": {},
   "source": [
    "As we can see from the plots, ratings for all versions and current version follow similar patterns. For all versions, all of the Top100 Apps are reated above 2.5 follwing a logrithmatic distribution with a majority of 4.5 (60%), while ratings for other Apps follow a bimodal distribution with peaks at 0 (13%) and 4.5 (37%). For the current version, similarly, all Top100 Apps are rated above 2.5 with the majority of 4.5 (60%) except that one App has a rating of 0. While ratings for other Apps follow a bimodal distribution with peaks at 0 (20%) and 4.5 (30%). In terms of the perfect rating, among the Top100 Apps, there are 8% Apps have a rating of 5 for both all versions and the current version. While among other Apps, there are 7% Apps have perfect rating for all versions and 13% for the current version. The popular Apps have less perfect ratings for the current version. The reason could be users had higher expectation for the updated version and then realized it didn't improve much."
   ]
  },
  {
   "cell_type": "code",
   "execution_count": 65,
   "metadata": {},
   "outputs": [
    {
     "data": {
      "image/png": "[encoded data removed]",
      "text/plain": [
       "<Figure size 720x360 with 2 Axes>"
      ]
     },
     "metadata": {},
     "output_type": "display_data"
    }
   ],
   "source": [
    "#User rating\n",
    "plt.figure(figsize=(10,5))\n",
    "\n",
    "plt.subplot(1,2,1)\n",
    "p1 = top['user_rating'].hist(bins=10, alpha=1.0, label='Top100', color='steelblue')\n",
    "p2 = others['user_rating'].hist(bins=10, alpha=0.5, label='Others', color='sandybrown')\n",
    "\n",
    "plt.xlabel('User Rating')\n",
    "plt.ylabel('Log (Count)')\n",
    "plt.yscale('log')\n",
    "plt.title('Average User Rating for All Versions', fontsize=10)\n",
    "plt.xticks(np.arange(0,5.5,0.5))\n",
    "plt.legend(loc='upper left')\n",
    "\n",
    "plt.subplot(1,2,2)\n",
    "p1 = top['user_rating_ver'].hist(bins=10, alpha=1.0, label='Top100', color='darkslateblue')\n",
    "p2 = others['user_rating_ver'].hist(bins=10, alpha=0.5, label='Others', color='olivedrab')\n",
    "\n",
    "plt.xlabel('User Rating')\n",
    "plt.ylabel('Log (Count)')\n",
    "plt.yscale('log')\n",
    "plt.title('Average User Rating for Current Version', fontsize=10)\n",
    "plt.xticks(np.arange(0,5.5,0.5))\n",
    "plt.legend(loc='upper center')\n",
    "\n",
    "plt.tight_layout()\n",
    "\n",
    "plt.show()"
   ]
  },
  {
   "cell_type": "markdown",
   "metadata": {},
   "source": [
    "Similarly to other Apps, the majority of the Top100 Apps supports over 35 devices and less than five languages, and most of them have five screenshots display. As for number of supporting devices, there are two gaps among Top100 Apps. One is between 12 and 24, the other is between 24 and 37-43. In terms of number of supporting languages, the Top100 follows a bimodal distribution rather than logrithmatic distrition, with peak values at 1, 10, and 33. Comparing to other Apps, Top100 has 50% more Apps with 1 screenshot, 20% more Apps with 2 screenshots, and 6% more Apps with 5 screenshots. And Top100 has 32% less Apps with no screenshot and 50% less Apps with 2 screenshots. It is reasonable that popular Apps provide at least 1 or close to maximum screenshots to better present their features.  "
   ]
  },
  {
   "cell_type": "code",
   "execution_count": 56,
   "metadata": {
    "scrolled": true
   },
   "outputs": [
    {
     "data": {
      "image/png": "[encoded data removed]",
      "text/plain": [
       "<Figure size 1440x360 with 3 Axes>"
      ]
     },
     "metadata": {},
     "output_type": "display_data"
    },
    {
     "data": {
      "text/plain": [
       "<Figure size 432x288 with 0 Axes>"
      ]
     },
     "metadata": {},
     "output_type": "display_data"
    }
   ],
   "source": [
    "#Number of supporting devices\n",
    "plt.figure(figsize=(20,5))\n",
    "\n",
    "plt.subplot(1,3,1)\n",
    "p1 = top['sup_devices.num'].hist(bins=20, color='steelblue', alpha=1.0, label='Top100')\n",
    "p2 = others['sup_devices.num'].hist(bins=20, color='sandybrown', alpha=0.5, label='Others')\n",
    "\n",
    "plt.xlabel('N Supporting Devices')\n",
    "plt.ylabel('Log (Count)')\n",
    "plt.yscale('log')\n",
    "plt.xticks(np.arange(0,49,3))\n",
    "plt.title('Number of Supporting Devices')\n",
    "plt.legend(loc='upper left')\n",
    "\n",
    "#Number of supported languages\n",
    "plt.subplot(1,3,2)\n",
    "p3 = top['lang.num'].hist(bins=20, color='darkslateblue', alpha=1.0, label='Top100')\n",
    "p4 = others['lang.num'].hist(bins=20, color='olivedrab', alpha=0.5, label='Others')\n",
    "\n",
    "plt.xlabel('N Supporting Languages')\n",
    "plt.ylabel('Log (Count)')\n",
    "plt.yscale('log')\n",
    "plt.xticks(np.arange(0,80,5))\n",
    "plt.title('Number of Supporting Languages')\n",
    "plt.legend(loc='upper right')\n",
    "\n",
    "\n",
    "#Number of screenshots showed for display \n",
    "plt.subplot(1,3,3)\n",
    "#Top100\n",
    "top_sc = pd.value_counts(top['ipadSc_urls.num']).reset_index()\n",
    "top_sc.columns = ['screens', 'pct_Top100']\n",
    "\n",
    "#Others\n",
    "others_sc = pd.value_counts(others['ipadSc_urls.num']).reset_index()\n",
    "others_sc.columns = ['screens', 'Others']\n",
    "others_sc['pct_Others'] = round(others_sc['Others']/nothers*100, 0)\n",
    "\n",
    "comp_sc = pd.merge(top_sc, others_sc, on='screens', how='outer')\n",
    "comp_sc['relative_diff'] = (comp_sc['pct_Top100']-comp_sc['pct_Others'])/comp_sc['pct_Others']\n",
    "comp_sc = comp_sc.drop(columns=['Others']).sort_values(by=['relative_diff'], ascending=False)\n",
    "\n",
    "plt.barh('screens', 'relative_diff', data=comp_sc, align='center', color='lightcoral')\n",
    "plt.title ('Number of Screenshots Display')\n",
    "plt.xlabel('Relative Difference in Percent')\n",
    "plt.gca().invert_yaxis()\n",
    "\n",
    "plt.show()\n",
    "\n",
    "plt.tight_layout()\n",
    "plt.show()"
   ]
  },
  {
   "cell_type": "markdown",
   "metadata": {},
   "source": [
    "To summarize, the Top100 Apps are cheaper, have more screenshots, support more languages, and users are more satisfied with them. Specifically, an App is likely to be popular if it is less than \\$4, it's about social networking or weather, with a content rating of 9+ or 12+, has an average user rating of 2.5 or above, supports 37 or more devices, and has 4-5 screenshots display. "
   ]
  },
  {
   "cell_type": "markdown",
   "metadata": {},
   "source": [
    "### 2. What features of an App correlate to user's satisfaction? "
   ]
  },
  {
   "cell_type": "markdown",
   "metadata": {
    "scrolled": true
   },
   "source": [
    "To adress this question, we generated a correlation matrix among all numerical variables. As we can see from the correlation matrix, both number of screenshots display and number of supported languages have relatively higher correlation with user ratings (similar for all version and current version), 0.27-0.28 and 0.17-0.18, respectively."
   ]
  },
  {
   "cell_type": "code",
   "execution_count": 64,
   "metadata": {
    "scrolled": false
   },
   "outputs": [
    {
     "data": {
      "text/html": [
       "<style  type=\"text/css\" >\n",
       "    #T_c8f45312_b677_11e9_813d_acde48001122row0_col0 {\n",
       "            background-color:  #b40426;\n",
       "        }    #T_c8f45312_b677_11e9_813d_acde48001122row0_col1 {\n",
       "            background-color:  #5470de;\n",
       "        }    #T_c8f45312_b677_11e9_813d_acde48001122row0_col2 {\n",
       "            background-color:  #485fd1;\n",
       "        }    #T_c8f45312_b677_11e9_813d_acde48001122row0_col3 {\n",
       "            background-color:  #3b4cc0;\n",
       "        }    #T_c8f45312_b677_11e9_813d_acde48001122row0_col4 {\n",
       "            background-color:  #5977e3;\n",
       "        }    #T_c8f45312_b677_11e9_813d_acde48001122row0_col5 {\n",
       "            background-color:  #445acc;\n",
       "        }    #T_c8f45312_b677_11e9_813d_acde48001122row1_col0 {\n",
       "            background-color:  #688aef;\n",
       "        }    #T_c8f45312_b677_11e9_813d_acde48001122row1_col1 {\n",
       "            background-color:  #b40426;\n",
       "        }    #T_c8f45312_b677_11e9_813d_acde48001122row1_col2 {\n",
       "            background-color:  #f18d6f;\n",
       "        }    #T_c8f45312_b677_11e9_813d_acde48001122row1_col3 {\n",
       "            background-color:  #4e68d8;\n",
       "        }    #T_c8f45312_b677_11e9_813d_acde48001122row1_col4 {\n",
       "            background-color:  #9bbcff;\n",
       "        }    #T_c8f45312_b677_11e9_813d_acde48001122row1_col5 {\n",
       "            background-color:  #7da0f9;\n",
       "        }    #T_c8f45312_b677_11e9_813d_acde48001122row2_col0 {\n",
       "            background-color:  #6282ea;\n",
       "        }    #T_c8f45312_b677_11e9_813d_acde48001122row2_col1 {\n",
       "            background-color:  #f08b6e;\n",
       "        }    #T_c8f45312_b677_11e9_813d_acde48001122row2_col2 {\n",
       "            background-color:  #b40426;\n",
       "        }    #T_c8f45312_b677_11e9_813d_acde48001122row2_col3 {\n",
       "            background-color:  #5572df;\n",
       "        }    #T_c8f45312_b677_11e9_813d_acde48001122row2_col4 {\n",
       "            background-color:  #9fbfff;\n",
       "        }    #T_c8f45312_b677_11e9_813d_acde48001122row2_col5 {\n",
       "            background-color:  #7ea1fa;\n",
       "        }    #T_c8f45312_b677_11e9_813d_acde48001122row3_col0 {\n",
       "            background-color:  #3b4cc0;\n",
       "        }    #T_c8f45312_b677_11e9_813d_acde48001122row3_col1 {\n",
       "            background-color:  #3b4cc0;\n",
       "        }    #T_c8f45312_b677_11e9_813d_acde48001122row3_col2 {\n",
       "            background-color:  #3b4cc0;\n",
       "        }    #T_c8f45312_b677_11e9_813d_acde48001122row3_col3 {\n",
       "            background-color:  #b40426;\n",
       "        }    #T_c8f45312_b677_11e9_813d_acde48001122row3_col4 {\n",
       "            background-color:  #3b4cc0;\n",
       "        }    #T_c8f45312_b677_11e9_813d_acde48001122row3_col5 {\n",
       "            background-color:  #3b4cc0;\n",
       "        }    #T_c8f45312_b677_11e9_813d_acde48001122row4_col0 {\n",
       "            background-color:  #6e90f2;\n",
       "        }    #T_c8f45312_b677_11e9_813d_acde48001122row4_col1 {\n",
       "            background-color:  #9dbdff;\n",
       "        }    #T_c8f45312_b677_11e9_813d_acde48001122row4_col2 {\n",
       "            background-color:  #9bbcff;\n",
       "        }    #T_c8f45312_b677_11e9_813d_acde48001122row4_col3 {\n",
       "            background-color:  #4f69d9;\n",
       "        }    #T_c8f45312_b677_11e9_813d_acde48001122row4_col4 {\n",
       "            background-color:  #b40426;\n",
       "        }    #T_c8f45312_b677_11e9_813d_acde48001122row4_col5 {\n",
       "            background-color:  #6180e9;\n",
       "        }    #T_c8f45312_b677_11e9_813d_acde48001122row5_col0 {\n",
       "            background-color:  #5875e1;\n",
       "        }    #T_c8f45312_b677_11e9_813d_acde48001122row5_col1 {\n",
       "            background-color:  #7da0f9;\n",
       "        }    #T_c8f45312_b677_11e9_813d_acde48001122row5_col2 {\n",
       "            background-color:  #779af7;\n",
       "        }    #T_c8f45312_b677_11e9_813d_acde48001122row5_col3 {\n",
       "            background-color:  #4e68d8;\n",
       "        }    #T_c8f45312_b677_11e9_813d_acde48001122row5_col4 {\n",
       "            background-color:  #6180e9;\n",
       "        }    #T_c8f45312_b677_11e9_813d_acde48001122row5_col5 {\n",
       "            background-color:  #b40426;\n",
       "        }</style>  \n",
       "<table id=\"T_c8f45312_b677_11e9_813d_acde48001122\" > \n",
       "<thead>    <tr> \n",
       "        <th class=\"blank level0\" ></th> \n",
       "        <th class=\"col_heading level0 col0\" >price</th> \n",
       "        <th class=\"col_heading level0 col1\" >user_rating</th> \n",
       "        <th class=\"col_heading level0 col2\" >user_rating_ver</th> \n",
       "        <th class=\"col_heading level0 col3\" >sup_devices.num</th> \n",
       "        <th class=\"col_heading level0 col4\" >ipadSc_urls.num</th> \n",
       "        <th class=\"col_heading level0 col5\" >lang.num</th> \n",
       "    </tr></thead> \n",
       "<tbody>    <tr> \n",
       "        <th id=\"T_c8f45312_b677_11e9_813d_acde48001122level0_row0\" class=\"row_heading level0 row0\" >price</th> \n",
       "        <td id=\"T_c8f45312_b677_11e9_813d_acde48001122row0_col0\" class=\"data row0 col0\" >1</td> \n",
       "        <td id=\"T_c8f45312_b677_11e9_813d_acde48001122row0_col1\" class=\"data row0 col1\" >0.047</td> \n",
       "        <td id=\"T_c8f45312_b677_11e9_813d_acde48001122row0_col2\" class=\"data row0 col2\" >0.025</td> \n",
       "        <td id=\"T_c8f45312_b677_11e9_813d_acde48001122row0_col3\" class=\"data row0 col3\" >-0.12</td> \n",
       "        <td id=\"T_c8f45312_b677_11e9_813d_acde48001122row0_col4\" class=\"data row0 col4\" >0.066</td> \n",
       "        <td id=\"T_c8f45312_b677_11e9_813d_acde48001122row0_col5\" class=\"data row0 col5\" >-0.0067</td> \n",
       "    </tr>    <tr> \n",
       "        <th id=\"T_c8f45312_b677_11e9_813d_acde48001122level0_row1\" class=\"row_heading level0 row1\" >user_rating</th> \n",
       "        <td id=\"T_c8f45312_b677_11e9_813d_acde48001122row1_col0\" class=\"data row1 col0\" >0.047</td> \n",
       "        <td id=\"T_c8f45312_b677_11e9_813d_acde48001122row1_col1\" class=\"data row1 col1\" >1</td> \n",
       "        <td id=\"T_c8f45312_b677_11e9_813d_acde48001122row1_col2\" class=\"data row1 col2\" >0.77</td> \n",
       "        <td id=\"T_c8f45312_b677_11e9_813d_acde48001122row1_col3\" class=\"data row1 col3\" >-0.042</td> \n",
       "        <td id=\"T_c8f45312_b677_11e9_813d_acde48001122row1_col4\" class=\"data row1 col4\" >0.27</td> \n",
       "        <td id=\"T_c8f45312_b677_11e9_813d_acde48001122row1_col5\" class=\"data row1 col5\" >0.17</td> \n",
       "    </tr>    <tr> \n",
       "        <th id=\"T_c8f45312_b677_11e9_813d_acde48001122level0_row2\" class=\"row_heading level0 row2\" >user_rating_ver</th> \n",
       "        <td id=\"T_c8f45312_b677_11e9_813d_acde48001122row2_col0\" class=\"data row2 col0\" >0.025</td> \n",
       "        <td id=\"T_c8f45312_b677_11e9_813d_acde48001122row2_col1\" class=\"data row2 col1\" >0.77</td> \n",
       "        <td id=\"T_c8f45312_b677_11e9_813d_acde48001122row2_col2\" class=\"data row2 col2\" >1</td> \n",
       "        <td id=\"T_c8f45312_b677_11e9_813d_acde48001122row2_col3\" class=\"data row2 col3\" >-0.019</td> \n",
       "        <td id=\"T_c8f45312_b677_11e9_813d_acde48001122row2_col4\" class=\"data row2 col4\" >0.28</td> \n",
       "        <td id=\"T_c8f45312_b677_11e9_813d_acde48001122row2_col5\" class=\"data row2 col5\" >0.18</td> \n",
       "    </tr>    <tr> \n",
       "        <th id=\"T_c8f45312_b677_11e9_813d_acde48001122level0_row3\" class=\"row_heading level0 row3\" >sup_devices.num</th> \n",
       "        <td id=\"T_c8f45312_b677_11e9_813d_acde48001122row3_col0\" class=\"data row3 col0\" >-0.12</td> \n",
       "        <td id=\"T_c8f45312_b677_11e9_813d_acde48001122row3_col1\" class=\"data row3 col1\" >-0.042</td> \n",
       "        <td id=\"T_c8f45312_b677_11e9_813d_acde48001122row3_col2\" class=\"data row3 col2\" >-0.019</td> \n",
       "        <td id=\"T_c8f45312_b677_11e9_813d_acde48001122row3_col3\" class=\"data row3 col3\" >1</td> \n",
       "        <td id=\"T_c8f45312_b677_11e9_813d_acde48001122row3_col4\" class=\"data row3 col4\" >-0.038</td> \n",
       "        <td id=\"T_c8f45312_b677_11e9_813d_acde48001122row3_col5\" class=\"data row3 col5\" >-0.042</td> \n",
       "    </tr>    <tr> \n",
       "        <th id=\"T_c8f45312_b677_11e9_813d_acde48001122level0_row4\" class=\"row_heading level0 row4\" >ipadSc_urls.num</th> \n",
       "        <td id=\"T_c8f45312_b677_11e9_813d_acde48001122row4_col0\" class=\"data row4 col0\" >0.066</td> \n",
       "        <td id=\"T_c8f45312_b677_11e9_813d_acde48001122row4_col1\" class=\"data row4 col1\" >0.27</td> \n",
       "        <td id=\"T_c8f45312_b677_11e9_813d_acde48001122row4_col2\" class=\"data row4 col2\" >0.28</td> \n",
       "        <td id=\"T_c8f45312_b677_11e9_813d_acde48001122row4_col3\" class=\"data row4 col3\" >-0.038</td> \n",
       "        <td id=\"T_c8f45312_b677_11e9_813d_acde48001122row4_col4\" class=\"data row4 col4\" >1</td> \n",
       "        <td id=\"T_c8f45312_b677_11e9_813d_acde48001122row4_col5\" class=\"data row4 col5\" >0.088</td> \n",
       "    </tr>    <tr> \n",
       "        <th id=\"T_c8f45312_b677_11e9_813d_acde48001122level0_row5\" class=\"row_heading level0 row5\" >lang.num</th> \n",
       "        <td id=\"T_c8f45312_b677_11e9_813d_acde48001122row5_col0\" class=\"data row5 col0\" >-0.0067</td> \n",
       "        <td id=\"T_c8f45312_b677_11e9_813d_acde48001122row5_col1\" class=\"data row5 col1\" >0.17</td> \n",
       "        <td id=\"T_c8f45312_b677_11e9_813d_acde48001122row5_col2\" class=\"data row5 col2\" >0.18</td> \n",
       "        <td id=\"T_c8f45312_b677_11e9_813d_acde48001122row5_col3\" class=\"data row5 col3\" >-0.042</td> \n",
       "        <td id=\"T_c8f45312_b677_11e9_813d_acde48001122row5_col4\" class=\"data row5 col4\" >0.088</td> \n",
       "        <td id=\"T_c8f45312_b677_11e9_813d_acde48001122row5_col5\" class=\"data row5 col5\" >1</td> \n",
       "    </tr></tbody> \n",
       "</table> "
      ],
      "text/plain": [
       "<pandas.io.formats.style.Styler at 0x1a179d0ba8>"
      ]
     },
     "execution_count": 64,
     "metadata": {},
     "output_type": "execute_result"
    }
   ],
   "source": [
    "#Correlation matrix for variables of interest \n",
    "app2 = app.drop(columns = ['id', 'rating_count_tot', 'rating_count_ver',\n",
    "                              'size_bytes', 'vpp_lic'])\n",
    "corr = app2.corr()\n",
    "corr.style.background_gradient(cmap='coolwarm').set_precision(2)"
   ]
  },
  {
   "cell_type": "code",
   "execution_count": 139,
   "metadata": {
    "scrolled": true
   },
   "outputs": [
    {
     "data": {
      "image/png": "[encoded data removed]",
      "text/plain": [
       "<Figure size 720x360 with 2 Axes>"
      ]
     },
     "metadata": {},
     "output_type": "display_data"
    }
   ],
   "source": [
    "#Hobson: should I just skip these two plots? \n",
    "plt.figure(figsize=(10,5))\n",
    "plt.subplot(1,2,1)\n",
    "plt.scatter(app['user_rating'], app['ipadSc_urls.num'], 1500, alpha=0.5)\n",
    "plt.xlabel('User Rating for All Versions')\n",
    "plt.ylabel('Number of Screenshots Display')\n",
    "plt.xticks(np.arange(-2,9,1))\n",
    "plt.yticks(np.arange(-2,9,1))\n",
    "\n",
    "#Hobson: the bubble plot is better than the scatter plot but I still don't see much information.\n",
    "plt.subplot(1,2,2)\n",
    "plt.scatter(app['user_rating'], app['lang.num'], 1000, alpha=0.5)\n",
    "plt.xlabel('User Rating for All Versions')\n",
    "plt.ylabel('Number of Supporting Languages')\n",
    "plt.xticks(np.arange(-2,9,1))\n",
    "plt.yticks(np.arange(-10,100,10))\n",
    "plt.show()"
   ]
  },
  {
   "cell_type": "markdown",
   "metadata": {},
   "source": [
    "### 3. How consistent are user ratings? Have the Apps been improved over time? \n",
    "\n",
    "This question focuses on all Apps in the dataset. It is examined through the correlation and difference between user ratings for all versions and the current version. The correlation between all version rating and current version rating is 0.77, indicating user ratings are fairly consistent. "
   ]
  },
  {
   "cell_type": "code",
   "execution_count": 67,
   "metadata": {},
   "outputs": [
    {
     "data": {
      "text/plain": [
       "SpearmanrResult(correlation=0.7117754487827789, pvalue=0.0)"
      ]
     },
     "execution_count": 67,
     "metadata": {},
     "output_type": "execute_result"
    }
   ],
   "source": [
    "#Hobson: is this the correct correlation to use? It is a little lower than the pearson correlation. \n",
    "from scipy.stats import spearmanr\n",
    "spearmanr(app['user_rating'], app['user_rating_ver'])"
   ]
  },
  {
   "cell_type": "code",
   "execution_count": 68,
   "metadata": {},
   "outputs": [
    {
     "data": {
      "text/plain": [
       "array([[1.        , 0.77413985],\n",
       "       [0.77413985, 1.        ]])"
      ]
     },
     "execution_count": 68,
     "metadata": {},
     "output_type": "execute_result"
    }
   ],
   "source": [
    "np.corrcoef(app['user_rating'], app['user_rating_ver'])"
   ]
  },
  {
   "cell_type": "code",
   "execution_count": 69,
   "metadata": {
    "scrolled": true
   },
   "outputs": [
    {
     "data": {
      "image/png": "[encoded data removed]",
      "text/plain": [
       "<Figure size 432x288 with 1 Axes>"
      ]
     },
     "metadata": {},
     "output_type": "display_data"
    }
   ],
   "source": [
    "#Hobson: I can see some expected pattern here but still looks weird. \n",
    "plt.scatter(app['user_rating'], app['user_rating_ver'], 1000, alpha=0.5)\n",
    "plt.xticks(np.arange(-2,8,1))\n",
    "plt.yticks(np.arange(-2,8,1))\n",
    "plt.show()"
   ]
  },
  {
   "cell_type": "markdown",
   "metadata": {},
   "source": [
    "In general, the Apps are not improved over time, as shown by the mean difference rating of -0.27 between current version and all versions. However, if we look at the Top100 Apps, the mean difference shrinks to -0.02, indicating on average, they are rated very similar on different versions. "
   ]
  },
  {
   "cell_type": "code",
   "execution_count": 70,
   "metadata": {},
   "outputs": [
    {
     "data": {
      "text/plain": [
       "count    7197.000000\n",
       "mean       -0.273378\n",
       "std         1.151339\n",
       "min        -5.000000\n",
       "25%         0.000000\n",
       "50%         0.000000\n",
       "75%         0.000000\n",
       "max         3.500000\n",
       "Name: rating_diff, dtype: float64"
      ]
     },
     "execution_count": 70,
     "metadata": {},
     "output_type": "execute_result"
    }
   ],
   "source": [
    "#For all Apps \n",
    "app['rating_diff'] = app['user_rating_ver'] - app['user_rating']\n",
    "app['rating_diff'].describe()"
   ]
  },
  {
   "cell_type": "code",
   "execution_count": 71,
   "metadata": {},
   "outputs": [
    {
     "data": {
      "image/png": "[encoded data removed]",
      "text/plain": [
       "<Figure size 432x288 with 1 Axes>"
      ]
     },
     "metadata": {},
     "output_type": "display_data"
    }
   ],
   "source": [
    "ax = app['rating_diff'].hist(bins=20, color=\"steelblue\")\n",
    "ax.set(xlabel='User Rating Diff', ylabel='Log (Count)')\n",
    "plt.title('Current Version Rating Minus All Version Rating')\n",
    "plt.yscale('log')\n",
    "plt.xticks(np.arange(-5,4,1))\n",
    "plt.show()"
   ]
  },
  {
   "cell_type": "code",
   "execution_count": 120,
   "metadata": {},
   "outputs": [
    {
     "data": {
      "text/plain": [
       "count    100.000000\n",
       "mean      -0.020000\n",
       "std        0.531436\n",
       "min       -2.500000\n",
       "25%        0.000000\n",
       "50%        0.000000\n",
       "75%        0.000000\n",
       "max        1.500000\n",
       "Name: rating_diff, dtype: float64"
      ]
     },
     "execution_count": 120,
     "metadata": {},
     "output_type": "execute_result"
    }
   ],
   "source": [
    "#For Top100 Apps \n",
    "top['rating_diff'] = top['user_rating_ver'] - top['user_rating']\n",
    "top['rating_diff'].describe()"
   ]
  },
  {
   "cell_type": "code",
   "execution_count": 128,
   "metadata": {},
   "outputs": [
    {
     "data": {
      "image/png": "[encoded data removed]",
      "text/plain": [
       "<Figure size 432x288 with 1 Axes>"
      ]
     },
     "metadata": {},
     "output_type": "display_data"
    }
   ],
   "source": [
    "ax = top['rating_diff'].hist(bins=20, color='lightcoral')\n",
    "ax.set(xlabel='User Rating Diff', ylabel='Log (Count)')\n",
    "plt.title('Current Version Rating Minus All Version Rating')\n",
    "plt.yscale('log')\n",
    "plt.show()"
   ]
  },
  {
   "cell_type": "markdown",
   "metadata": {},
   "source": [
    "## Future Research"
   ]
  },
  {
   "cell_type": "markdown",
   "metadata": {},
   "source": [
    "For future research, we can build a model to predict user satisfaction using supervised learning technique, e.g., regression. The dependent variable would be user_rating and the independent variables could be number of screenshots display and number of supported languages. We can also build a model to predict whether the App will be popular or not using logistic regression. The outcome variable would be the binary variable 'popular'. The predictors could be genre, content rating, price, user ratings, number of screenshots, and number of supporting devices. We can use ROC curve to examine classification accuracy.  "
   ]
  }
 ],
 "metadata": {
  "kernelspec": {
   "display_name": "Python 3",
   "language": "python",
   "name": "python3"
  },
  "language_info": {
   "codemirror_mode": {
    "name": "ipython",
    "version": 3
   },
   "file_extension": ".py",
   "mimetype": "text/x-python",
   "name": "python",
   "nbconvert_exporter": "python",
   "pygments_lexer": "ipython3",
   "version": "3.6.5"
  }
 },
 "nbformat": 4,
 "nbformat_minor": 2
}
