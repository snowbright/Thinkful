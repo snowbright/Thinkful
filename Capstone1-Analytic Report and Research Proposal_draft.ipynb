{
 "cells": [
  {
   "cell_type": "markdown",
   "metadata": {},
   "source": [
    "# Apple iOS App Data Exploration "
   ]
  },
  {
   "cell_type": "markdown",
   "metadata": {},
   "source": [
    "## Data\n",
    "\n",
    "Data was extracted from the iTunes Search API in July 2017. This dataset contains information of over 7000 Apple iOS mobile applications. Data was obtained from [kaggle](https://www.kaggle.com/ramamet4/app-store-apple-data-set-10k-apps).\n",
    "\n",
    "This study assumes it is representative of the iOS App population. The dataset consists of two tables, AppleStore and appleStore_description. \n",
    "\n",
    "The AppleStore file contains App ID, App name, size, currency, price, user rating counts for all versions, user rating counts for the current version, average user rating for all versions, average user rating for the current version, latest version code, content rating, primary genre, number of supporting devices, number of screenshots showed for display, number of supported languages, and Vpp device based licensing enabled. The second table provides detailed description for the Apps included in the first table."
   ]
  },
  {
   "cell_type": "code",
   "execution_count": 1,
   "metadata": {
    "scrolled": false
   },
   "outputs": [
    {
     "data": {
      "text/html": [
       "<div>\n",
       "<style scoped>\n",
       "    .dataframe tbody tr th:only-of-type {\n",
       "        vertical-align: middle;\n",
       "    }\n",
       "\n",
       "    .dataframe tbody tr th {\n",
       "        vertical-align: top;\n",
       "    }\n",
       "\n",
       "    .dataframe thead th {\n",
       "        text-align: right;\n",
       "    }\n",
       "</style>\n",
       "<table border=\"1\" class=\"dataframe\">\n",
       "  <thead>\n",
       "    <tr style=\"text-align: right;\">\n",
       "      <th></th>\n",
       "      <th>id</th>\n",
       "      <th>track_name</th>\n",
       "      <th>size_bytes</th>\n",
       "      <th>currency</th>\n",
       "      <th>price</th>\n",
       "      <th>rating_count_tot</th>\n",
       "      <th>rating_count_ver</th>\n",
       "      <th>user_rating</th>\n",
       "      <th>user_rating_ver</th>\n",
       "      <th>ver</th>\n",
       "      <th>cont_rating</th>\n",
       "      <th>prime_genre</th>\n",
       "      <th>sup_devices.num</th>\n",
       "      <th>ipadSc_urls.num</th>\n",
       "      <th>lang.num</th>\n",
       "      <th>vpp_lic</th>\n",
       "    </tr>\n",
       "  </thead>\n",
       "  <tbody>\n",
       "    <tr>\n",
       "      <th>1</th>\n",
       "      <td>281656475</td>\n",
       "      <td>PAC-MAN Premium</td>\n",
       "      <td>100788224</td>\n",
       "      <td>USD</td>\n",
       "      <td>3.99</td>\n",
       "      <td>21292</td>\n",
       "      <td>26</td>\n",
       "      <td>4.0</td>\n",
       "      <td>4.5</td>\n",
       "      <td>6.3.5</td>\n",
       "      <td>4+</td>\n",
       "      <td>Games</td>\n",
       "      <td>38</td>\n",
       "      <td>5</td>\n",
       "      <td>10</td>\n",
       "      <td>1</td>\n",
       "    </tr>\n",
       "    <tr>\n",
       "      <th>2</th>\n",
       "      <td>281796108</td>\n",
       "      <td>Evernote - stay organized</td>\n",
       "      <td>158578688</td>\n",
       "      <td>USD</td>\n",
       "      <td>0.00</td>\n",
       "      <td>161065</td>\n",
       "      <td>26</td>\n",
       "      <td>4.0</td>\n",
       "      <td>3.5</td>\n",
       "      <td>8.2.2</td>\n",
       "      <td>4+</td>\n",
       "      <td>Productivity</td>\n",
       "      <td>37</td>\n",
       "      <td>5</td>\n",
       "      <td>23</td>\n",
       "      <td>1</td>\n",
       "    </tr>\n",
       "    <tr>\n",
       "      <th>3</th>\n",
       "      <td>281940292</td>\n",
       "      <td>WeatherBug - Local Weather, Radar, Maps, Alerts</td>\n",
       "      <td>100524032</td>\n",
       "      <td>USD</td>\n",
       "      <td>0.00</td>\n",
       "      <td>188583</td>\n",
       "      <td>2822</td>\n",
       "      <td>3.5</td>\n",
       "      <td>4.5</td>\n",
       "      <td>5.0.0</td>\n",
       "      <td>4+</td>\n",
       "      <td>Weather</td>\n",
       "      <td>37</td>\n",
       "      <td>5</td>\n",
       "      <td>3</td>\n",
       "      <td>1</td>\n",
       "    </tr>\n",
       "  </tbody>\n",
       "</table>\n",
       "</div>"
      ],
      "text/plain": [
       "          id                                       track_name  size_bytes  \\\n",
       "1  281656475                                  PAC-MAN Premium   100788224   \n",
       "2  281796108                        Evernote - stay organized   158578688   \n",
       "3  281940292  WeatherBug - Local Weather, Radar, Maps, Alerts   100524032   \n",
       "\n",
       "  currency  price  rating_count_tot  rating_count_ver  user_rating  \\\n",
       "1      USD   3.99             21292                26          4.0   \n",
       "2      USD   0.00            161065                26          4.0   \n",
       "3      USD   0.00            188583              2822          3.5   \n",
       "\n",
       "   user_rating_ver    ver cont_rating   prime_genre  sup_devices.num  \\\n",
       "1              4.5  6.3.5          4+         Games               38   \n",
       "2              3.5  8.2.2          4+  Productivity               37   \n",
       "3              4.5  5.0.0          4+       Weather               37   \n",
       "\n",
       "   ipadSc_urls.num  lang.num  vpp_lic  \n",
       "1                5        10        1  \n",
       "2                5        23        1  \n",
       "3                5         3        1  "
      ]
     },
     "execution_count": 1,
     "metadata": {},
     "output_type": "execute_result"
    }
   ],
   "source": [
    "#Data exploration\n",
    "import pandas as pd\n",
    "import numpy as np\n",
    "from scipy.stats import pearsonr\n",
    "import matplotlib.pyplot as plt\n",
    "%matplotlib inline\n",
    "\n",
    "t1 = pd.read_csv(\"AppleStore.csv\", index_col=0)\n",
    "t2 = pd.read_csv(\"appleStore_description.csv\")\n",
    "\n",
    "app = pd.DataFrame(t1)\n",
    "app.head(3)"
   ]
  },
  {
   "cell_type": "code",
   "execution_count": 266,
   "metadata": {},
   "outputs": [],
   "source": [
    "#app.columns"
   ]
  },
  {
   "cell_type": "markdown",
   "metadata": {},
   "source": [
    "Check cardinality of variables. "
   ]
  },
  {
   "cell_type": "code",
   "execution_count": 9,
   "metadata": {
    "scrolled": true
   },
   "outputs": [
    {
     "data": {
      "text/plain": [
       "array([0. , 1. , 1.5, 2. , 2.5, 3. , 3.5, 4. , 4.5, 5. ])"
      ]
     },
     "execution_count": 9,
     "metadata": {},
     "output_type": "execute_result"
    }
   ],
   "source": [
    "np.unique(app['user_rating'])"
   ]
  },
  {
   "cell_type": "code",
   "execution_count": 200,
   "metadata": {},
   "outputs": [
    {
     "data": {
      "text/plain": [
       "array([0. , 1. , 1.5, 2. , 2.5, 3. , 3.5, 4. , 4.5, 5. ])"
      ]
     },
     "execution_count": 200,
     "metadata": {},
     "output_type": "execute_result"
    }
   ],
   "source": [
    "np.unique(app['user_rating_ver'])"
   ]
  },
  {
   "cell_type": "code",
   "execution_count": 10,
   "metadata": {
    "scrolled": true
   },
   "outputs": [
    {
     "data": {
      "text/plain": [
       "array([ 9, 11, 12, 13, 15, 16, 23, 24, 25, 26, 33, 35, 36, 37, 38, 39, 40,\n",
       "       43, 45, 47])"
      ]
     },
     "execution_count": 10,
     "metadata": {},
     "output_type": "execute_result"
    }
   ],
   "source": [
    "np.unique(app['sup_devices.num'])"
   ]
  },
  {
   "cell_type": "code",
   "execution_count": 11,
   "metadata": {},
   "outputs": [
    {
     "data": {
      "text/plain": [
       "array([0, 1, 2, 3, 4, 5])"
      ]
     },
     "execution_count": 11,
     "metadata": {},
     "output_type": "execute_result"
    }
   ],
   "source": [
    "np.unique(app['ipadSc_urls.num'])"
   ]
  },
  {
   "cell_type": "code",
   "execution_count": 12,
   "metadata": {},
   "outputs": [
    {
     "data": {
      "text/plain": [
       "array([ 0,  1,  2,  3,  4,  5,  6,  7,  8,  9, 10, 11, 12, 13, 14, 15, 16,\n",
       "       17, 18, 19, 20, 21, 22, 23, 24, 25, 26, 27, 28, 29, 30, 31, 32, 33,\n",
       "       34, 35, 36, 37, 39, 40, 41, 42, 43, 45, 46, 47, 50, 54, 55, 56, 58,\n",
       "       59, 63, 68, 69, 74, 75])"
      ]
     },
     "execution_count": 12,
     "metadata": {},
     "output_type": "execute_result"
    }
   ],
   "source": [
    "np.unique(app['lang.num'])"
   ]
  },
  {
   "cell_type": "code",
   "execution_count": 13,
   "metadata": {},
   "outputs": [
    {
     "data": {
      "text/plain": [
       "array([  0.  ,   0.99,   1.99,   2.99,   3.99,   4.99,   5.99,   6.99,\n",
       "         7.99,   8.99,   9.99,  11.99,  12.99,  13.99,  14.99,  15.99,\n",
       "        16.99,  17.99,  18.99,  19.99,  20.99,  21.99,  22.99,  23.99,\n",
       "        24.99,  27.99,  29.99,  34.99,  39.99,  47.99,  49.99,  59.99,\n",
       "        74.99,  99.99, 249.99, 299.99])"
      ]
     },
     "execution_count": 13,
     "metadata": {},
     "output_type": "execute_result"
    }
   ],
   "source": [
    "np.unique(app['price'])"
   ]
  },
  {
   "cell_type": "code",
   "execution_count": 265,
   "metadata": {},
   "outputs": [
    {
     "data": {
      "text/plain": [
       "array(['Book', 'Business', 'Catalogs', 'Education', 'Entertainment',\n",
       "       'Finance', 'Food & Drink', 'Games', 'Health & Fitness',\n",
       "       'Lifestyle', 'Medical', 'Music', 'Navigation', 'News',\n",
       "       'Photo & Video', 'Productivity', 'Reference', 'Shopping',\n",
       "       'Social Networking', 'Sports', 'Travel', 'Utilities', 'Weather'],\n",
       "      dtype=object)"
      ]
     },
     "execution_count": 265,
     "metadata": {},
     "output_type": "execute_result"
    }
   ],
   "source": [
    "np.unique(app['prime_genre'])"
   ]
  },
  {
   "cell_type": "markdown",
   "metadata": {},
   "source": [
    "Summary statistics for numerical variables are presented below. As we can see, most Apps are free or cheap with \\$1.99 at the 75th percentile. However, an educational App LAMP Words For Life is priced at \\$299.99. The average total rating count is 12,893 with a large standard deviation of 75,734, the maximum total rating count is 2,974,676. In terms of usring rating, average user rating for all versions is higher than user rating for the current version, 3.53 vs. 3.25 on a 0-5 scale. On average, these Apps can support 5 languages, however, the maximum reaches to 75 languages! Curious to know, this app is the Google Photos. "
   ]
  },
  {
   "cell_type": "code",
   "execution_count": 8,
   "metadata": {
    "scrolled": true
   },
   "outputs": [
    {
     "data": {
      "text/html": [
       "<div>\n",
       "<style scoped>\n",
       "    .dataframe tbody tr th:only-of-type {\n",
       "        vertical-align: middle;\n",
       "    }\n",
       "\n",
       "    .dataframe tbody tr th {\n",
       "        vertical-align: top;\n",
       "    }\n",
       "\n",
       "    .dataframe thead th {\n",
       "        text-align: right;\n",
       "    }\n",
       "</style>\n",
       "<table border=\"1\" class=\"dataframe\">\n",
       "  <thead>\n",
       "    <tr style=\"text-align: right;\">\n",
       "      <th></th>\n",
       "      <th>Unnamed: 0</th>\n",
       "      <th>id</th>\n",
       "      <th>size_bytes</th>\n",
       "      <th>price</th>\n",
       "      <th>rating_count_tot</th>\n",
       "      <th>rating_count_ver</th>\n",
       "      <th>user_rating</th>\n",
       "      <th>user_rating_ver</th>\n",
       "      <th>sup_devices.num</th>\n",
       "      <th>ipadSc_urls.num</th>\n",
       "      <th>lang.num</th>\n",
       "      <th>vpp_lic</th>\n",
       "    </tr>\n",
       "  </thead>\n",
       "  <tbody>\n",
       "    <tr>\n",
       "      <th>count</th>\n",
       "      <td>7197.000000</td>\n",
       "      <td>7.197000e+03</td>\n",
       "      <td>7.197000e+03</td>\n",
       "      <td>7197.000000</td>\n",
       "      <td>7.197000e+03</td>\n",
       "      <td>7197.000000</td>\n",
       "      <td>7197.000000</td>\n",
       "      <td>7197.000000</td>\n",
       "      <td>7197.000000</td>\n",
       "      <td>7197.000000</td>\n",
       "      <td>7197.000000</td>\n",
       "      <td>7197.000000</td>\n",
       "    </tr>\n",
       "    <tr>\n",
       "      <th>mean</th>\n",
       "      <td>4759.069612</td>\n",
       "      <td>8.631310e+08</td>\n",
       "      <td>1.991345e+08</td>\n",
       "      <td>1.726218</td>\n",
       "      <td>1.289291e+04</td>\n",
       "      <td>460.373906</td>\n",
       "      <td>3.526956</td>\n",
       "      <td>3.253578</td>\n",
       "      <td>37.361817</td>\n",
       "      <td>3.707100</td>\n",
       "      <td>5.434903</td>\n",
       "      <td>0.993053</td>\n",
       "    </tr>\n",
       "    <tr>\n",
       "      <th>std</th>\n",
       "      <td>3093.625213</td>\n",
       "      <td>2.712368e+08</td>\n",
       "      <td>3.592069e+08</td>\n",
       "      <td>5.833006</td>\n",
       "      <td>7.573941e+04</td>\n",
       "      <td>3920.455183</td>\n",
       "      <td>1.517948</td>\n",
       "      <td>1.809363</td>\n",
       "      <td>3.737715</td>\n",
       "      <td>1.986005</td>\n",
       "      <td>7.919593</td>\n",
       "      <td>0.083066</td>\n",
       "    </tr>\n",
       "    <tr>\n",
       "      <th>min</th>\n",
       "      <td>1.000000</td>\n",
       "      <td>2.816565e+08</td>\n",
       "      <td>5.898240e+05</td>\n",
       "      <td>0.000000</td>\n",
       "      <td>0.000000e+00</td>\n",
       "      <td>0.000000</td>\n",
       "      <td>0.000000</td>\n",
       "      <td>0.000000</td>\n",
       "      <td>9.000000</td>\n",
       "      <td>0.000000</td>\n",
       "      <td>0.000000</td>\n",
       "      <td>0.000000</td>\n",
       "    </tr>\n",
       "    <tr>\n",
       "      <th>25%</th>\n",
       "      <td>2090.000000</td>\n",
       "      <td>6.000937e+08</td>\n",
       "      <td>4.692275e+07</td>\n",
       "      <td>0.000000</td>\n",
       "      <td>2.800000e+01</td>\n",
       "      <td>1.000000</td>\n",
       "      <td>3.500000</td>\n",
       "      <td>2.500000</td>\n",
       "      <td>37.000000</td>\n",
       "      <td>3.000000</td>\n",
       "      <td>1.000000</td>\n",
       "      <td>1.000000</td>\n",
       "    </tr>\n",
       "    <tr>\n",
       "      <th>50%</th>\n",
       "      <td>4380.000000</td>\n",
       "      <td>9.781482e+08</td>\n",
       "      <td>9.715302e+07</td>\n",
       "      <td>0.000000</td>\n",
       "      <td>3.000000e+02</td>\n",
       "      <td>23.000000</td>\n",
       "      <td>4.000000</td>\n",
       "      <td>4.000000</td>\n",
       "      <td>37.000000</td>\n",
       "      <td>5.000000</td>\n",
       "      <td>1.000000</td>\n",
       "      <td>1.000000</td>\n",
       "    </tr>\n",
       "    <tr>\n",
       "      <th>75%</th>\n",
       "      <td>7223.000000</td>\n",
       "      <td>1.082310e+09</td>\n",
       "      <td>1.819249e+08</td>\n",
       "      <td>1.990000</td>\n",
       "      <td>2.793000e+03</td>\n",
       "      <td>140.000000</td>\n",
       "      <td>4.500000</td>\n",
       "      <td>4.500000</td>\n",
       "      <td>38.000000</td>\n",
       "      <td>5.000000</td>\n",
       "      <td>8.000000</td>\n",
       "      <td>1.000000</td>\n",
       "    </tr>\n",
       "    <tr>\n",
       "      <th>max</th>\n",
       "      <td>11097.000000</td>\n",
       "      <td>1.188376e+09</td>\n",
       "      <td>4.025970e+09</td>\n",
       "      <td>299.990000</td>\n",
       "      <td>2.974676e+06</td>\n",
       "      <td>177050.000000</td>\n",
       "      <td>5.000000</td>\n",
       "      <td>5.000000</td>\n",
       "      <td>47.000000</td>\n",
       "      <td>5.000000</td>\n",
       "      <td>75.000000</td>\n",
       "      <td>1.000000</td>\n",
       "    </tr>\n",
       "  </tbody>\n",
       "</table>\n",
       "</div>"
      ],
      "text/plain": [
       "         Unnamed: 0            id    size_bytes        price  \\\n",
       "count   7197.000000  7.197000e+03  7.197000e+03  7197.000000   \n",
       "mean    4759.069612  8.631310e+08  1.991345e+08     1.726218   \n",
       "std     3093.625213  2.712368e+08  3.592069e+08     5.833006   \n",
       "min        1.000000  2.816565e+08  5.898240e+05     0.000000   \n",
       "25%     2090.000000  6.000937e+08  4.692275e+07     0.000000   \n",
       "50%     4380.000000  9.781482e+08  9.715302e+07     0.000000   \n",
       "75%     7223.000000  1.082310e+09  1.819249e+08     1.990000   \n",
       "max    11097.000000  1.188376e+09  4.025970e+09   299.990000   \n",
       "\n",
       "       rating_count_tot  rating_count_ver  user_rating  user_rating_ver  \\\n",
       "count      7.197000e+03       7197.000000  7197.000000      7197.000000   \n",
       "mean       1.289291e+04        460.373906     3.526956         3.253578   \n",
       "std        7.573941e+04       3920.455183     1.517948         1.809363   \n",
       "min        0.000000e+00          0.000000     0.000000         0.000000   \n",
       "25%        2.800000e+01          1.000000     3.500000         2.500000   \n",
       "50%        3.000000e+02         23.000000     4.000000         4.000000   \n",
       "75%        2.793000e+03        140.000000     4.500000         4.500000   \n",
       "max        2.974676e+06     177050.000000     5.000000         5.000000   \n",
       "\n",
       "       sup_devices.num  ipadSc_urls.num     lang.num      vpp_lic  \n",
       "count      7197.000000      7197.000000  7197.000000  7197.000000  \n",
       "mean         37.361817         3.707100     5.434903     0.993053  \n",
       "std           3.737715         1.986005     7.919593     0.083066  \n",
       "min           9.000000         0.000000     0.000000     0.000000  \n",
       "25%          37.000000         3.000000     1.000000     1.000000  \n",
       "50%          37.000000         5.000000     1.000000     1.000000  \n",
       "75%          38.000000         5.000000     8.000000     1.000000  \n",
       "max          47.000000         5.000000    75.000000     1.000000  "
      ]
     },
     "execution_count": 8,
     "metadata": {},
     "output_type": "execute_result"
    }
   ],
   "source": [
    "app.describe()"
   ]
  },
  {
   "cell_type": "code",
   "execution_count": 185,
   "metadata": {},
   "outputs": [
    {
     "data": {
      "text/html": [
       "<div>\n",
       "<style scoped>\n",
       "    .dataframe tbody tr th:only-of-type {\n",
       "        vertical-align: middle;\n",
       "    }\n",
       "\n",
       "    .dataframe tbody tr th {\n",
       "        vertical-align: top;\n",
       "    }\n",
       "\n",
       "    .dataframe thead th {\n",
       "        text-align: right;\n",
       "    }\n",
       "</style>\n",
       "<table border=\"1\" class=\"dataframe\">\n",
       "  <thead>\n",
       "    <tr style=\"text-align: right;\">\n",
       "      <th></th>\n",
       "      <th>id</th>\n",
       "      <th>track_name</th>\n",
       "      <th>size_bytes</th>\n",
       "      <th>currency</th>\n",
       "      <th>price</th>\n",
       "      <th>rating_count_tot</th>\n",
       "      <th>rating_count_ver</th>\n",
       "      <th>user_rating</th>\n",
       "      <th>user_rating_ver</th>\n",
       "      <th>ver</th>\n",
       "      <th>cont_rating</th>\n",
       "      <th>prime_genre</th>\n",
       "      <th>sup_devices.num</th>\n",
       "      <th>ipadSc_urls.num</th>\n",
       "      <th>lang.num</th>\n",
       "      <th>vpp_lic</th>\n",
       "    </tr>\n",
       "  </thead>\n",
       "  <tbody>\n",
       "    <tr>\n",
       "      <th>1714</th>\n",
       "      <td>551215116</td>\n",
       "      <td>LAMP Words For Life</td>\n",
       "      <td>583263232</td>\n",
       "      <td>USD</td>\n",
       "      <td>299.99</td>\n",
       "      <td>41</td>\n",
       "      <td>0</td>\n",
       "      <td>4.0</td>\n",
       "      <td>0.0</td>\n",
       "      <td>1.5.5</td>\n",
       "      <td>4+</td>\n",
       "      <td>Education</td>\n",
       "      <td>24</td>\n",
       "      <td>5</td>\n",
       "      <td>1</td>\n",
       "      <td>1</td>\n",
       "    </tr>\n",
       "  </tbody>\n",
       "</table>\n",
       "</div>"
      ],
      "text/plain": [
       "             id           track_name  size_bytes currency   price  \\\n",
       "1714  551215116  LAMP Words For Life   583263232      USD  299.99   \n",
       "\n",
       "      rating_count_tot  rating_count_ver  user_rating  user_rating_ver    ver  \\\n",
       "1714                41                 0          4.0              0.0  1.5.5   \n",
       "\n",
       "     cont_rating prime_genre  sup_devices.num  ipadSc_urls.num  lang.num  \\\n",
       "1714          4+   Education               24                5         1   \n",
       "\n",
       "      vpp_lic  \n",
       "1714        1  "
      ]
     },
     "execution_count": 185,
     "metadata": {},
     "output_type": "execute_result"
    }
   ],
   "source": [
    "app[app['price']>299]"
   ]
  },
  {
   "cell_type": "code",
   "execution_count": 186,
   "metadata": {},
   "outputs": [
    {
     "data": {
      "text/html": [
       "<div>\n",
       "<style scoped>\n",
       "    .dataframe tbody tr th:only-of-type {\n",
       "        vertical-align: middle;\n",
       "    }\n",
       "\n",
       "    .dataframe tbody tr th {\n",
       "        vertical-align: top;\n",
       "    }\n",
       "\n",
       "    .dataframe thead th {\n",
       "        text-align: right;\n",
       "    }\n",
       "</style>\n",
       "<table border=\"1\" class=\"dataframe\">\n",
       "  <thead>\n",
       "    <tr style=\"text-align: right;\">\n",
       "      <th></th>\n",
       "      <th>id</th>\n",
       "      <th>track_name</th>\n",
       "      <th>size_bytes</th>\n",
       "      <th>currency</th>\n",
       "      <th>price</th>\n",
       "      <th>rating_count_tot</th>\n",
       "      <th>rating_count_ver</th>\n",
       "      <th>user_rating</th>\n",
       "      <th>user_rating_ver</th>\n",
       "      <th>ver</th>\n",
       "      <th>cont_rating</th>\n",
       "      <th>prime_genre</th>\n",
       "      <th>sup_devices.num</th>\n",
       "      <th>ipadSc_urls.num</th>\n",
       "      <th>lang.num</th>\n",
       "      <th>vpp_lic</th>\n",
       "    </tr>\n",
       "  </thead>\n",
       "  <tbody>\n",
       "    <tr>\n",
       "      <th>4130</th>\n",
       "      <td>962194608</td>\n",
       "      <td>Google Photos - unlimited photo and video storage</td>\n",
       "      <td>160215040</td>\n",
       "      <td>USD</td>\n",
       "      <td>0.0</td>\n",
       "      <td>88742</td>\n",
       "      <td>1145</td>\n",
       "      <td>5.0</td>\n",
       "      <td>5.0</td>\n",
       "      <td>2.17.0</td>\n",
       "      <td>4+</td>\n",
       "      <td>Photo &amp; Video</td>\n",
       "      <td>37</td>\n",
       "      <td>5</td>\n",
       "      <td>75</td>\n",
       "      <td>1</td>\n",
       "    </tr>\n",
       "  </tbody>\n",
       "</table>\n",
       "</div>"
      ],
      "text/plain": [
       "             id                                         track_name  \\\n",
       "4130  962194608  Google Photos - unlimited photo and video storage   \n",
       "\n",
       "      size_bytes currency  price  rating_count_tot  rating_count_ver  \\\n",
       "4130   160215040      USD    0.0             88742              1145   \n",
       "\n",
       "      user_rating  user_rating_ver     ver cont_rating    prime_genre  \\\n",
       "4130          5.0              5.0  2.17.0          4+  Photo & Video   \n",
       "\n",
       "      sup_devices.num  ipadSc_urls.num  lang.num  vpp_lic  \n",
       "4130               37                5        75        1  "
      ]
     },
     "execution_count": 186,
     "metadata": {},
     "output_type": "execute_result"
    }
   ],
   "source": [
    "app[app['lang.num']==75]"
   ]
  },
  {
   "cell_type": "markdown",
   "metadata": {},
   "source": [
    "Two categorical variables in the dataset are primary genre and content rating (ordinal). There are 23 genres with the majority in Games. There are four content ratings and most of them are 4+. "
   ]
  },
  {
   "cell_type": "code",
   "execution_count": 114,
   "metadata": {
    "scrolled": false
   },
   "outputs": [
    {
     "data": {
      "image/png": "[encoded data removed]",
      "text/plain": [
       "<Figure size 720x360 with 1 Axes>"
      ]
     },
     "metadata": {},
     "output_type": "display_data"
    }
   ],
   "source": [
    "#Genre distribution\n",
    "app['prime_genre'].value_counts().plot(kind='bar', figsize=(10,5))\n",
    "plt.ylabel('Count')\n",
    "plt.title('Primary Genre')\n",
    "plt.show()"
   ]
  },
  {
   "cell_type": "code",
   "execution_count": 157,
   "metadata": {
    "scrolled": true
   },
   "outputs": [
    {
     "data": {
      "image/png": "[encoded data removed]",
      "text/plain": [
       "<Figure size 360x360 with 1 Axes>"
      ]
     },
     "metadata": {},
     "output_type": "display_data"
    }
   ],
   "source": [
    "#Content rating \n",
    "plt.figure(figsize=(5,5))\n",
    "app.groupby('cont_rating').size().plot(kind='pie')\n",
    "plt.title('Content Rating')\n",
    "plt.show()"
   ]
  },
  {
   "cell_type": "markdown",
   "metadata": {},
   "source": [
    "As we can see from the descrptive statistics, price is very skewed. In order to see the details, we only display those less than \\$15. "
   ]
  },
  {
   "cell_type": "code",
   "execution_count": 157,
   "metadata": {},
   "outputs": [
    {
     "data": {
      "image/png": "[encoded data removed]",
      "text/plain": [
       "<Figure size 720x360 with 2 Axes>"
      ]
     },
     "metadata": {},
     "output_type": "display_data"
    }
   ],
   "source": [
    "#Price \n",
    "plt.figure(figsize=(10,5))\n",
    "\n",
    "plt.subplot(1,2,1)\n",
    "p1 = app['price'].hist(bins=100)\n",
    "p1.set(xlabel='Log Price($)', ylabel='Count')\n",
    "plt.xscale('log')\n",
    "plt.yscale('log')\n",
    "plt.title('Price ($)')\n",
    "\n",
    "plt.subplot(1,2,2)\n",
    "sub_price = app[app['price'] < 15]\n",
    "p2 = sub_price['price'].value_counts().plot(kind='bar', figsize=(10,5), color='salmon')\n",
    "p2.set(xlabel='Price($)', ylabel='Count')\n",
    "plt.title('Price ($)')\n",
    "\n",
    "plt.tight_layout()\n",
    "plt.show()"
   ]
  },
  {
   "cell_type": "code",
   "execution_count": 158,
   "metadata": {},
   "outputs": [
    {
     "data": {
      "image/png": "[encoded data removed]",
      "text/plain": [
       "<Figure size 720x360 with 1 Axes>"
      ]
     },
     "metadata": {},
     "output_type": "display_data"
    }
   ],
   "source": [
    "#Hobson: Even though price should be continuous, given low cardinality, maybe this plot is better than plots above? \n",
    "plt.figure(figsize=(10,5))\n",
    "p2 = app['price'].value_counts().plot(kind='bar', color='salmon')\n",
    "p2.set(xlabel='Price($)', ylabel='Count')\n",
    "plt.title('Price ($)')\n",
    "\n",
    "plt.show()"
   ]
  },
  {
   "cell_type": "code",
   "execution_count": 93,
   "metadata": {},
   "outputs": [
    {
     "data": {
      "image/png": "[encoded data removed]",
      "text/plain": [
       "<Figure size 720x360 with 1 Axes>"
      ]
     },
     "metadata": {},
     "output_type": "display_data"
    }
   ],
   "source": [
    "#User rating user_rating\n",
    "plt.figure(figsize=(10,5))\n",
    "\n",
    "p1 = app['user_rating'].hist(bins=10, alpha=1.0, label='All Versions')\n",
    "p2 = app['user_rating_ver'].hist(bins=10, alpha=0.5, label='Current Version')\n",
    "\n",
    "plt.xlabel('User Rating')\n",
    "plt.ylabel('Count')\n",
    "plt.xticks(np.arange(0,6,0.5))\n",
    "plt.title('Average User Rating: All Versions vs. Current Version')\n",
    "plt.legend(loc='upper left')\n",
    "\n",
    "plt.show()"
   ]
  },
  {
   "cell_type": "code",
   "execution_count": 110,
   "metadata": {},
   "outputs": [
    {
     "data": {
      "image/png": "[encoded data removed]",
      "text/plain": [
       "<Figure size 1080x360 with 3 Axes>"
      ]
     },
     "metadata": {},
     "output_type": "display_data"
    }
   ],
   "source": [
    "#Number of supporting devices\n",
    "plt.figure(figsize=(15,5))\n",
    "plt.subplot(1,3,1)\n",
    "ax = app['sup_devices.num'].hist(bins=20, color='green',alpha=0.5)\n",
    "ax.set(xlabel='N Supporting Devices', ylabel='Count')\n",
    "plt.title('Number of Supporting Devices')\n",
    "\n",
    "#Number of supported languages\n",
    "plt.subplot(1,3,2)\n",
    "ax = app['lang.num'].hist(bins=20, color='orange', alpha=0.5)\n",
    "ax.set(xlabel='N Supporting Languages', ylabel='Count')\n",
    "plt.title('Number of Supporting Languages')\n",
    "\n",
    "#Number of screenshots showed for display \n",
    "plt.subplot(1,3,3)\n",
    "app.groupby('ipadSc_urls.num').size().plot(kind='barh', color='purple')\n",
    "plt.xlabel('N Screenshots')\n",
    "plt.ylabel('Count')\n",
    "plt.title('Number of Screenshots Display')\n",
    "\n",
    "plt.tight_layout()\n",
    "plt.show()"
   ]
  },
  {
   "cell_type": "markdown",
   "metadata": {},
   "source": [
    "## Analytic Questions \n",
    "### Q1. What are the most popular iOS Apps in the Apple store? How do their characteristics compare to other Apps? "
   ]
  },
  {
   "cell_type": "code",
   "execution_count": 188,
   "metadata": {
    "scrolled": true
   },
   "outputs": [
    {
     "data": {
      "text/html": [
       "<div>\n",
       "<style scoped>\n",
       "    .dataframe tbody tr th:only-of-type {\n",
       "        vertical-align: middle;\n",
       "    }\n",
       "\n",
       "    .dataframe tbody tr th {\n",
       "        vertical-align: top;\n",
       "    }\n",
       "\n",
       "    .dataframe thead th {\n",
       "        text-align: right;\n",
       "    }\n",
       "</style>\n",
       "<table border=\"1\" class=\"dataframe\">\n",
       "  <thead>\n",
       "    <tr style=\"text-align: right;\">\n",
       "      <th></th>\n",
       "      <th>id</th>\n",
       "      <th>track_name</th>\n",
       "      <th>size_bytes</th>\n",
       "      <th>currency</th>\n",
       "      <th>price</th>\n",
       "      <th>rating_count_tot</th>\n",
       "      <th>rating_count_ver</th>\n",
       "      <th>user_rating</th>\n",
       "      <th>user_rating_ver</th>\n",
       "      <th>ver</th>\n",
       "      <th>cont_rating</th>\n",
       "      <th>prime_genre</th>\n",
       "      <th>sup_devices.num</th>\n",
       "      <th>ipadSc_urls.num</th>\n",
       "      <th>lang.num</th>\n",
       "      <th>vpp_lic</th>\n",
       "      <th>popular</th>\n",
       "    </tr>\n",
       "  </thead>\n",
       "  <tbody>\n",
       "    <tr>\n",
       "      <th>17</th>\n",
       "      <td>284882215</td>\n",
       "      <td>Facebook</td>\n",
       "      <td>389879808</td>\n",
       "      <td>USD</td>\n",
       "      <td>0.0</td>\n",
       "      <td>2974676</td>\n",
       "      <td>212</td>\n",
       "      <td>3.5</td>\n",
       "      <td>3.5</td>\n",
       "      <td>95.0</td>\n",
       "      <td>4+</td>\n",
       "      <td>Social Networking</td>\n",
       "      <td>37</td>\n",
       "      <td>1</td>\n",
       "      <td>29</td>\n",
       "      <td>1</td>\n",
       "      <td>1</td>\n",
       "    </tr>\n",
       "    <tr>\n",
       "      <th>591</th>\n",
       "      <td>389801252</td>\n",
       "      <td>Instagram</td>\n",
       "      <td>113954816</td>\n",
       "      <td>USD</td>\n",
       "      <td>0.0</td>\n",
       "      <td>2161558</td>\n",
       "      <td>1289</td>\n",
       "      <td>4.5</td>\n",
       "      <td>4.0</td>\n",
       "      <td>10.23</td>\n",
       "      <td>12+</td>\n",
       "      <td>Photo &amp; Video</td>\n",
       "      <td>37</td>\n",
       "      <td>0</td>\n",
       "      <td>29</td>\n",
       "      <td>1</td>\n",
       "      <td>1</td>\n",
       "    </tr>\n",
       "    <tr>\n",
       "      <th>1561</th>\n",
       "      <td>529479190</td>\n",
       "      <td>Clash of Clans</td>\n",
       "      <td>116476928</td>\n",
       "      <td>USD</td>\n",
       "      <td>0.0</td>\n",
       "      <td>2130805</td>\n",
       "      <td>579</td>\n",
       "      <td>4.5</td>\n",
       "      <td>4.5</td>\n",
       "      <td>9.24.12</td>\n",
       "      <td>9+</td>\n",
       "      <td>Games</td>\n",
       "      <td>38</td>\n",
       "      <td>5</td>\n",
       "      <td>18</td>\n",
       "      <td>1</td>\n",
       "      <td>1</td>\n",
       "    </tr>\n",
       "    <tr>\n",
       "      <th>810</th>\n",
       "      <td>420009108</td>\n",
       "      <td>Temple Run</td>\n",
       "      <td>65921024</td>\n",
       "      <td>USD</td>\n",
       "      <td>0.0</td>\n",
       "      <td>1724546</td>\n",
       "      <td>3842</td>\n",
       "      <td>4.5</td>\n",
       "      <td>4.0</td>\n",
       "      <td>1.6.2</td>\n",
       "      <td>9+</td>\n",
       "      <td>Games</td>\n",
       "      <td>40</td>\n",
       "      <td>5</td>\n",
       "      <td>1</td>\n",
       "      <td>1</td>\n",
       "      <td>1</td>\n",
       "    </tr>\n",
       "    <tr>\n",
       "      <th>8</th>\n",
       "      <td>284035177</td>\n",
       "      <td>Pandora - Music &amp; Radio</td>\n",
       "      <td>130242560</td>\n",
       "      <td>USD</td>\n",
       "      <td>0.0</td>\n",
       "      <td>1126879</td>\n",
       "      <td>3594</td>\n",
       "      <td>4.0</td>\n",
       "      <td>4.5</td>\n",
       "      <td>8.4.1</td>\n",
       "      <td>12+</td>\n",
       "      <td>Music</td>\n",
       "      <td>37</td>\n",
       "      <td>4</td>\n",
       "      <td>1</td>\n",
       "      <td>1</td>\n",
       "      <td>1</td>\n",
       "    </tr>\n",
       "    <tr>\n",
       "      <th>863</th>\n",
       "      <td>429047995</td>\n",
       "      <td>Pinterest</td>\n",
       "      <td>74778624</td>\n",
       "      <td>USD</td>\n",
       "      <td>0.0</td>\n",
       "      <td>1061624</td>\n",
       "      <td>1814</td>\n",
       "      <td>4.5</td>\n",
       "      <td>4.0</td>\n",
       "      <td>6.26</td>\n",
       "      <td>12+</td>\n",
       "      <td>Social Networking</td>\n",
       "      <td>37</td>\n",
       "      <td>5</td>\n",
       "      <td>27</td>\n",
       "      <td>1</td>\n",
       "      <td>1</td>\n",
       "    </tr>\n",
       "    <tr>\n",
       "      <th>5</th>\n",
       "      <td>282935706</td>\n",
       "      <td>Bible</td>\n",
       "      <td>92774400</td>\n",
       "      <td>USD</td>\n",
       "      <td>0.0</td>\n",
       "      <td>985920</td>\n",
       "      <td>5320</td>\n",
       "      <td>4.5</td>\n",
       "      <td>5.0</td>\n",
       "      <td>7.5.1</td>\n",
       "      <td>4+</td>\n",
       "      <td>Reference</td>\n",
       "      <td>37</td>\n",
       "      <td>5</td>\n",
       "      <td>45</td>\n",
       "      <td>1</td>\n",
       "      <td>1</td>\n",
       "    </tr>\n",
       "    <tr>\n",
       "      <th>1731</th>\n",
       "      <td>553834731</td>\n",
       "      <td>Candy Crush Saga</td>\n",
       "      <td>222846976</td>\n",
       "      <td>USD</td>\n",
       "      <td>0.0</td>\n",
       "      <td>961794</td>\n",
       "      <td>2453</td>\n",
       "      <td>4.5</td>\n",
       "      <td>4.5</td>\n",
       "      <td>1.101.0</td>\n",
       "      <td>4+</td>\n",
       "      <td>Games</td>\n",
       "      <td>43</td>\n",
       "      <td>5</td>\n",
       "      <td>24</td>\n",
       "      <td>1</td>\n",
       "      <td>1</td>\n",
       "    </tr>\n",
       "    <tr>\n",
       "      <th>202</th>\n",
       "      <td>324684580</td>\n",
       "      <td>Spotify Music</td>\n",
       "      <td>132510720</td>\n",
       "      <td>USD</td>\n",
       "      <td>0.0</td>\n",
       "      <td>878563</td>\n",
       "      <td>8253</td>\n",
       "      <td>4.5</td>\n",
       "      <td>4.5</td>\n",
       "      <td>8.4.3</td>\n",
       "      <td>12+</td>\n",
       "      <td>Music</td>\n",
       "      <td>37</td>\n",
       "      <td>5</td>\n",
       "      <td>18</td>\n",
       "      <td>1</td>\n",
       "      <td>1</td>\n",
       "    </tr>\n",
       "    <tr>\n",
       "      <th>310</th>\n",
       "      <td>343200656</td>\n",
       "      <td>Angry Birds</td>\n",
       "      <td>175966208</td>\n",
       "      <td>USD</td>\n",
       "      <td>0.0</td>\n",
       "      <td>824451</td>\n",
       "      <td>107</td>\n",
       "      <td>4.5</td>\n",
       "      <td>3.0</td>\n",
       "      <td>7.4.0</td>\n",
       "      <td>4+</td>\n",
       "      <td>Games</td>\n",
       "      <td>38</td>\n",
       "      <td>0</td>\n",
       "      <td>10</td>\n",
       "      <td>1</td>\n",
       "      <td>1</td>\n",
       "    </tr>\n",
       "  </tbody>\n",
       "</table>\n",
       "</div>"
      ],
      "text/plain": [
       "             id               track_name  size_bytes currency  price  \\\n",
       "17    284882215                 Facebook   389879808      USD    0.0   \n",
       "591   389801252                Instagram   113954816      USD    0.0   \n",
       "1561  529479190           Clash of Clans   116476928      USD    0.0   \n",
       "810   420009108               Temple Run    65921024      USD    0.0   \n",
       "8     284035177  Pandora - Music & Radio   130242560      USD    0.0   \n",
       "863   429047995                Pinterest    74778624      USD    0.0   \n",
       "5     282935706                    Bible    92774400      USD    0.0   \n",
       "1731  553834731         Candy Crush Saga   222846976      USD    0.0   \n",
       "202   324684580            Spotify Music   132510720      USD    0.0   \n",
       "310   343200656              Angry Birds   175966208      USD    0.0   \n",
       "\n",
       "      rating_count_tot  rating_count_ver  user_rating  user_rating_ver  \\\n",
       "17             2974676               212          3.5              3.5   \n",
       "591            2161558              1289          4.5              4.0   \n",
       "1561           2130805               579          4.5              4.5   \n",
       "810            1724546              3842          4.5              4.0   \n",
       "8              1126879              3594          4.0              4.5   \n",
       "863            1061624              1814          4.5              4.0   \n",
       "5               985920              5320          4.5              5.0   \n",
       "1731            961794              2453          4.5              4.5   \n",
       "202             878563              8253          4.5              4.5   \n",
       "310             824451               107          4.5              3.0   \n",
       "\n",
       "          ver cont_rating        prime_genre  sup_devices.num  \\\n",
       "17       95.0          4+  Social Networking               37   \n",
       "591     10.23         12+      Photo & Video               37   \n",
       "1561  9.24.12          9+              Games               38   \n",
       "810     1.6.2          9+              Games               40   \n",
       "8       8.4.1         12+              Music               37   \n",
       "863      6.26         12+  Social Networking               37   \n",
       "5       7.5.1          4+          Reference               37   \n",
       "1731  1.101.0          4+              Games               43   \n",
       "202     8.4.3         12+              Music               37   \n",
       "310     7.4.0          4+              Games               38   \n",
       "\n",
       "      ipadSc_urls.num  lang.num  vpp_lic  popular  \n",
       "17                  1        29        1        1  \n",
       "591                 0        29        1        1  \n",
       "1561                5        18        1        1  \n",
       "810                 5         1        1        1  \n",
       "8                   4         1        1        1  \n",
       "863                 5        27        1        1  \n",
       "5                   5        45        1        1  \n",
       "1731                5        24        1        1  \n",
       "202                 5        18        1        1  \n",
       "310                 0        10        1        1  "
      ]
     },
     "execution_count": 188,
     "metadata": {},
     "output_type": "execute_result"
    }
   ],
   "source": [
    "#Top 100 popular Apps overall\n",
    "top = app.sort_values('rating_count_tot', ascending=False).head(100)\n",
    "others = app.sort_values('rating_count_tot', ascending=True).head(7098)\n",
    "\n",
    "#Create a new binary variable: popular\n",
    "top['popular'] = 1\n",
    "others['popular'] = 0\n",
    "\n",
    "top.head(10)"
   ]
  },
  {
   "cell_type": "code",
   "execution_count": 119,
   "metadata": {},
   "outputs": [],
   "source": [
    "#others.head(10)"
   ]
  },
  {
   "cell_type": "code",
   "execution_count": 189,
   "metadata": {
    "scrolled": true
   },
   "outputs": [
    {
     "data": {
      "text/html": [
       "<div>\n",
       "<style scoped>\n",
       "    .dataframe tbody tr th:only-of-type {\n",
       "        vertical-align: middle;\n",
       "    }\n",
       "\n",
       "    .dataframe tbody tr th {\n",
       "        vertical-align: top;\n",
       "    }\n",
       "\n",
       "    .dataframe thead th {\n",
       "        text-align: right;\n",
       "    }\n",
       "</style>\n",
       "<table border=\"1\" class=\"dataframe\">\n",
       "  <thead>\n",
       "    <tr style=\"text-align: right;\">\n",
       "      <th></th>\n",
       "      <th>id</th>\n",
       "      <th>size_bytes</th>\n",
       "      <th>price</th>\n",
       "      <th>rating_count_tot</th>\n",
       "      <th>rating_count_ver</th>\n",
       "      <th>user_rating</th>\n",
       "      <th>user_rating_ver</th>\n",
       "      <th>sup_devices.num</th>\n",
       "      <th>ipadSc_urls.num</th>\n",
       "      <th>lang.num</th>\n",
       "      <th>vpp_lic</th>\n",
       "      <th>popular</th>\n",
       "    </tr>\n",
       "  </thead>\n",
       "  <tbody>\n",
       "    <tr>\n",
       "      <th>count</th>\n",
       "      <td>1.000000e+02</td>\n",
       "      <td>1.000000e+02</td>\n",
       "      <td>100.000000</td>\n",
       "      <td>1.000000e+02</td>\n",
       "      <td>100.000000</td>\n",
       "      <td>100.000000</td>\n",
       "      <td>100.000000</td>\n",
       "      <td>100.000000</td>\n",
       "      <td>100.000000</td>\n",
       "      <td>100.000000</td>\n",
       "      <td>100.00</td>\n",
       "      <td>100.0</td>\n",
       "    </tr>\n",
       "    <tr>\n",
       "      <th>mean</th>\n",
       "      <td>4.937498e+08</td>\n",
       "      <td>2.332309e+08</td>\n",
       "      <td>0.208900</td>\n",
       "      <td>4.606431e+05</td>\n",
       "      <td>7481.350000</td>\n",
       "      <td>4.260000</td>\n",
       "      <td>4.240000</td>\n",
       "      <td>37.500000</td>\n",
       "      <td>4.000000</td>\n",
       "      <td>12.000000</td>\n",
       "      <td>0.99</td>\n",
       "      <td>1.0</td>\n",
       "    </tr>\n",
       "    <tr>\n",
       "      <th>std</th>\n",
       "      <td>2.153645e+08</td>\n",
       "      <td>3.647365e+08</td>\n",
       "      <td>0.830098</td>\n",
       "      <td>4.253726e+05</td>\n",
       "      <td>23596.884201</td>\n",
       "      <td>0.519712</td>\n",
       "      <td>0.657052</td>\n",
       "      <td>3.295237</td>\n",
       "      <td>1.769552</td>\n",
       "      <td>11.006885</td>\n",
       "      <td>0.10</td>\n",
       "      <td>0.0</td>\n",
       "    </tr>\n",
       "    <tr>\n",
       "      <th>min</th>\n",
       "      <td>2.819403e+08</td>\n",
       "      <td>8.573952e+06</td>\n",
       "      <td>0.000000</td>\n",
       "      <td>1.875290e+05</td>\n",
       "      <td>0.000000</td>\n",
       "      <td>2.500000</td>\n",
       "      <td>0.000000</td>\n",
       "      <td>12.000000</td>\n",
       "      <td>0.000000</td>\n",
       "      <td>1.000000</td>\n",
       "      <td>0.00</td>\n",
       "      <td>1.0</td>\n",
       "    </tr>\n",
       "    <tr>\n",
       "      <th>25%</th>\n",
       "      <td>3.211847e+08</td>\n",
       "      <td>1.000200e+08</td>\n",
       "      <td>0.000000</td>\n",
       "      <td>2.574952e+05</td>\n",
       "      <td>215.750000</td>\n",
       "      <td>4.000000</td>\n",
       "      <td>4.000000</td>\n",
       "      <td>37.000000</td>\n",
       "      <td>4.000000</td>\n",
       "      <td>1.750000</td>\n",
       "      <td>1.00</td>\n",
       "      <td>1.0</td>\n",
       "    </tr>\n",
       "    <tr>\n",
       "      <th>50%</th>\n",
       "      <td>4.381827e+08</td>\n",
       "      <td>1.306214e+08</td>\n",
       "      <td>0.000000</td>\n",
       "      <td>3.440075e+05</td>\n",
       "      <td>916.500000</td>\n",
       "      <td>4.500000</td>\n",
       "      <td>4.500000</td>\n",
       "      <td>37.000000</td>\n",
       "      <td>5.000000</td>\n",
       "      <td>10.000000</td>\n",
       "      <td>1.00</td>\n",
       "      <td>1.0</td>\n",
       "    </tr>\n",
       "    <tr>\n",
       "      <th>75%</th>\n",
       "      <td>5.860913e+08</td>\n",
       "      <td>1.769695e+08</td>\n",
       "      <td>0.000000</td>\n",
       "      <td>4.680940e+05</td>\n",
       "      <td>3518.250000</td>\n",
       "      <td>4.500000</td>\n",
       "      <td>4.500000</td>\n",
       "      <td>38.000000</td>\n",
       "      <td>5.000000</td>\n",
       "      <td>16.250000</td>\n",
       "      <td>1.00</td>\n",
       "      <td>1.0</td>\n",
       "    </tr>\n",
       "    <tr>\n",
       "      <th>max</th>\n",
       "      <td>1.153883e+09</td>\n",
       "      <td>1.944321e+09</td>\n",
       "      <td>6.990000</td>\n",
       "      <td>2.974676e+06</td>\n",
       "      <td>177050.000000</td>\n",
       "      <td>5.000000</td>\n",
       "      <td>5.000000</td>\n",
       "      <td>43.000000</td>\n",
       "      <td>5.000000</td>\n",
       "      <td>45.000000</td>\n",
       "      <td>1.00</td>\n",
       "      <td>1.0</td>\n",
       "    </tr>\n",
       "  </tbody>\n",
       "</table>\n",
       "</div>"
      ],
      "text/plain": [
       "                 id    size_bytes       price  rating_count_tot  \\\n",
       "count  1.000000e+02  1.000000e+02  100.000000      1.000000e+02   \n",
       "mean   4.937498e+08  2.332309e+08    0.208900      4.606431e+05   \n",
       "std    2.153645e+08  3.647365e+08    0.830098      4.253726e+05   \n",
       "min    2.819403e+08  8.573952e+06    0.000000      1.875290e+05   \n",
       "25%    3.211847e+08  1.000200e+08    0.000000      2.574952e+05   \n",
       "50%    4.381827e+08  1.306214e+08    0.000000      3.440075e+05   \n",
       "75%    5.860913e+08  1.769695e+08    0.000000      4.680940e+05   \n",
       "max    1.153883e+09  1.944321e+09    6.990000      2.974676e+06   \n",
       "\n",
       "       rating_count_ver  user_rating  user_rating_ver  sup_devices.num  \\\n",
       "count        100.000000   100.000000       100.000000       100.000000   \n",
       "mean        7481.350000     4.260000         4.240000        37.500000   \n",
       "std        23596.884201     0.519712         0.657052         3.295237   \n",
       "min            0.000000     2.500000         0.000000        12.000000   \n",
       "25%          215.750000     4.000000         4.000000        37.000000   \n",
       "50%          916.500000     4.500000         4.500000        37.000000   \n",
       "75%         3518.250000     4.500000         4.500000        38.000000   \n",
       "max       177050.000000     5.000000         5.000000        43.000000   \n",
       "\n",
       "       ipadSc_urls.num    lang.num  vpp_lic  popular  \n",
       "count       100.000000  100.000000   100.00    100.0  \n",
       "mean          4.000000   12.000000     0.99      1.0  \n",
       "std           1.769552   11.006885     0.10      0.0  \n",
       "min           0.000000    1.000000     0.00      1.0  \n",
       "25%           4.000000    1.750000     1.00      1.0  \n",
       "50%           5.000000   10.000000     1.00      1.0  \n",
       "75%           5.000000   16.250000     1.00      1.0  \n",
       "max           5.000000   45.000000     1.00      1.0  "
      ]
     },
     "execution_count": 189,
     "metadata": {},
     "output_type": "execute_result"
    }
   ],
   "source": [
    "top.describe()"
   ]
  },
  {
   "cell_type": "markdown",
   "metadata": {},
   "source": [
    "We identified Top100 Apps based on total rating counts. For your information, the Top10 popular Apps are: Facebook, Instagram, Clash of Clans, Temple Run, Pandora, Pinterest, Bible, Candy Crush Saga, Spotify, and Angry Birds. How many of them are on your iPhone? \n",
    "\n",
    "First of all, let's take a look at price. Among these Top100 Apps, almost all of them are free with a few cost \\$0.99."
   ]
  },
  {
   "cell_type": "code",
   "execution_count": 187,
   "metadata": {},
   "outputs": [
    {
     "data": {
      "image/png": "[encoded data removed]",
      "text/plain": [
       "<Figure size 720x360 with 1 Axes>"
      ]
     },
     "metadata": {},
     "output_type": "display_data"
    }
   ],
   "source": [
    "#Price \n",
    "plt.figure(figsize=(10,5))\n",
    "\n",
    "#plt.subplot(1,2,2)\n",
    "p1 = top['price'].value_counts().plot(kind='bar', color='tomato', alpha=1.0, label='Top100')\n",
    "p2 = others['price'].value_counts().plot(kind='bar', color='salmon', alpha=0.5, label='Others')\n",
    "\n",
    "plt.xlabel('Price($)')\n",
    "plt.ylabel('Count')\n",
    "plt.title('Price ($)')\n",
    "plt.legend(loc='upper right')\n",
    "\n",
    "plt.tight_layout()\n",
    "plt.show()"
   ]
  },
  {
   "cell_type": "markdown",
   "metadata": {},
   "source": [
    "In terms of primary genre, 60% of them are games, followed by social networking (7%), music (4%), entertainment (4%) and weather (3%), which is slightly different from other Apps with Game (~55%) followed by entertainment, education, photo & video, utilities, and health & fitness. "
   ]
  },
  {
   "cell_type": "code",
   "execution_count": 161,
   "metadata": {
    "scrolled": true
   },
   "outputs": [
    {
     "data": {
      "image/png": "[encoded data removed]",
      "text/plain": [
       "<Figure size 720x504 with 2 Axes>"
      ]
     },
     "metadata": {},
     "output_type": "display_data"
    }
   ],
   "source": [
    "#Primary Genre \n",
    "plt.figure(figsize=(10,5))\n",
    "\n",
    "plt.subplot(1,2,1)\n",
    "p1 = top['prime_genre'].value_counts().plot(kind='barh', figsize=(10,7), fontsize=13)\n",
    "p1.set_title ('Primary Genre: Top100', fontsize=16)\n",
    "p1.set_xticks(np.arange(0,70,10))\n",
    "#ax.text(0.5, 0.5, , color='black', fontsize=10)\n",
    "p1.invert_yaxis()\n",
    "\n",
    "plt.subplot(1,2,2)\n",
    "p2 = (others['prime_genre'].value_counts()/7098*100).plot(kind='barh', figsize=(10,7), fontsize=13)\n",
    "p2.set_title ('Primary Genre: Others', fontsize=16)\n",
    "p2.set_xticks(np.arange(0,70,10))\n",
    "p2.invert_yaxis()\n",
    "\n",
    "plt.tight_layout()\n",
    "\n",
    "plt.show()"
   ]
  },
  {
   "cell_type": "markdown",
   "metadata": {},
   "source": [
    "In terms of content rating, the composition is similar between Top100 and other Apps. Most of the apps are 4+, followed by 12+, 9+, and 17+. "
   ]
  },
  {
   "cell_type": "code",
   "execution_count": 141,
   "metadata": {},
   "outputs": [
    {
     "data": {
      "image/png": "[encoded data removed]",
      "text/plain": [
       "<Figure size 720x360 with 2 Axes>"
      ]
     },
     "metadata": {},
     "output_type": "display_data"
    }
   ],
   "source": [
    "#Content rating \n",
    "plt.figure(figsize=(10,5))\n",
    "\n",
    "plt.subplot(1,2,1)\n",
    "\n",
    "p1 = top.groupby('cont_rating').size().plot(kind='pie')\n",
    "p1.set_title('Content Rating: Top100')\n",
    "\n",
    "plt.subplot(1,2,2)\n",
    "\n",
    "p2 = others.groupby('cont_rating').size().plot(kind='pie')\n",
    "p2.set_title('Content Rating: Others')\n",
    "\n",
    "plt.show()"
   ]
  },
  {
   "cell_type": "markdown",
   "metadata": {},
   "source": [
    "In general, these Top100 Apps have relatively higher user ratings. Comparing to other Apps, on average, all versions are rated 4.26 versus 3.52, and the current version is rated 4.24 versus 3.24. Users are more satisfied with these Top100 Apps.  "
   ]
  },
  {
   "cell_type": "code",
   "execution_count": 196,
   "metadata": {
    "scrolled": true
   },
   "outputs": [
    {
     "name": "stdout",
     "output_type": "stream",
     "text": [
      "4.26 4.24\n",
      "3.52 3.24\n"
     ]
    }
   ],
   "source": [
    "print(np.mean(top['user_rating']), np.mean(top['user_rating_ver']))\n",
    "print(round(np.mean(others['user_rating']),2), round(np.mean(others['user_rating_ver']),2))"
   ]
  },
  {
   "cell_type": "markdown",
   "metadata": {},
   "source": [
    "As we can see from the plots, ratings for all versions and current version follow a similar pattern. Although majority is rated 5, a large number of them are rated 0. While, the Top100 Apps are rated between 3.5 and 5 with majority rated above 4.5. "
   ]
  },
  {
   "cell_type": "code",
   "execution_count": 199,
   "metadata": {},
   "outputs": [
    {
     "data": {
      "image/png": "[encoded data removed]",
      "text/plain": [
       "<Figure size 720x360 with 2 Axes>"
      ]
     },
     "metadata": {},
     "output_type": "display_data"
    }
   ],
   "source": [
    "#User rating user_rating\n",
    "plt.figure(figsize=(10,5))\n",
    "\n",
    "plt.subplot(1,2,1)\n",
    "p1 = top['user_rating'].hist(bins=10, alpha=1.0, label='Top100')\n",
    "p2 = others['user_rating'].hist(bins=10, alpha=0.5, label='Others')\n",
    "\n",
    "plt.xlabel('User Rating')\n",
    "plt.ylabel('Count')\n",
    "plt.title('Average User Rating for All Versions', fontsize=10)\n",
    "plt.xticks(np.arange(0,5.5,0.5))\n",
    "plt.legend(loc='upper left')\n",
    "\n",
    "plt.subplot(1,2,2)\n",
    "p1 = top['user_rating_ver'].hist(bins=10, alpha=1.0, label='Top100', color='brown')\n",
    "p2 = others['user_rating_ver'].hist(bins=10, alpha=0.5, label='Others', color='darkkhaki')\n",
    "\n",
    "plt.xlabel('User Rating')\n",
    "plt.ylabel('Count')\n",
    "plt.title('Average User Rating for Current Version', fontsize=10)\n",
    "plt.xticks(np.arange(0,5.5,0.5))\n",
    "plt.legend(loc='upper left')\n",
    "\n",
    "plt.tight_layout()\n",
    "\n",
    "plt.show()"
   ]
  },
  {
   "cell_type": "markdown",
   "metadata": {},
   "source": [
    "Similarly to other Apps, the majority of the Top100 Apps supports over 35 devices and less than five languages, and most of them have five screenshots display."
   ]
  },
  {
   "cell_type": "code",
   "execution_count": 204,
   "metadata": {},
   "outputs": [
    {
     "data": {
      "image/png": "[encoded data removed]",
      "text/plain": [
       "<Figure size 1080x360 with 3 Axes>"
      ]
     },
     "metadata": {},
     "output_type": "display_data"
    }
   ],
   "source": [
    "#Number of supporting devices\n",
    "plt.figure(figsize=(15,5))\n",
    "\n",
    "plt.subplot(1,3,1\n",
    "p1 = top['sup_devices.num'].hist(bins=20, color='darkslategrey', alpha=1.0, label='Top100')\n",
    "p2 = others['sup_devices.num'].hist(bins=20, color='teal', alpha=0.5, label='Others')\n",
    "\n",
    "plt.xlabel('N Supporting Devices')\n",
    "plt.ylabel('Count')\n",
    "plt.xticks(np.arange(0,49,3))\n",
    "plt.title('Number of Supporting Devices', fontsize=10)\n",
    "plt.legend(loc='upper left')\n",
    "\n",
    "#Number of supported languages\n",
    "plt.subplot(1,3,2)\n",
    "p3 = top['lang.num'].hist(bins=20, color='saddlebrown', alpha=1.0, label='Top100')\n",
    "p4 = others['lang.num'].hist(bins=20, color='chocolate', alpha=0.5, label='Others')\n",
    "\n",
    "plt.xlabel('N Supporting Languages')\n",
    "plt.ylabel('Count')\n",
    "plt.xticks(np.arange(0,80,5))\n",
    "plt.title('Number of Supporting Languages', fontsize=10)\n",
    "plt.legend(loc='upper right')\n",
    "\n",
    "\n",
    "#Number of screenshots showed for display \n",
    "plt.subplot(1,3,3)\n",
    "p5 = top.groupby('ipadSc_urls.num').size().plot(kind='barh', color='blueviolet', alpha=1.0, label='Top100')\n",
    "p6 = others.groupby('ipadSc_urls.num').size().plot(kind='barh', color='indigo', alpha=0.5, label='Others')\n",
    "\n",
    "plt.xlabel('N Screenshots')\n",
    "plt.ylabel('Count')\n",
    "plt.title('Number of Screenshots Display', fontsize=10)\n",
    "plt.legend(loc='lower right')\n",
    "\n",
    "plt.tight_layout()\n",
    "plt.show()"
   ]
  },
  {
   "cell_type": "markdown",
   "metadata": {},
   "source": [
    "### Q2. What features of an App correlate to user's satisfaction? "
   ]
  },
  {
   "cell_type": "markdown",
   "metadata": {
    "scrolled": true
   },
   "source": [
    "To adress this question, we generated a correlation matrix among all numerical variables. As we can see from the correlation matrix, both number of screenshots display and number of supported languages have relatively higher correlation with user ratings (similar for all version and current version), 0.27-0.28 and 0.17-0.18, respectively."
   ]
  },
  {
   "cell_type": "code",
   "execution_count": 244,
   "metadata": {
    "scrolled": false
   },
   "outputs": [
    {
     "data": {
      "text/html": [
       "<style  type=\"text/css\" >\n",
       "    #T_ebf03be8_af00_11e9_807a_8c8590544bc7row0_col0 {\n",
       "            background-color:  #b40426;\n",
       "        }    #T_ebf03be8_af00_11e9_807a_8c8590544bc7row0_col1 {\n",
       "            background-color:  #7a9df8;\n",
       "        }    #T_ebf03be8_af00_11e9_807a_8c8590544bc7row0_col2 {\n",
       "            background-color:  #455cce;\n",
       "        }    #T_ebf03be8_af00_11e9_807a_8c8590544bc7row0_col3 {\n",
       "            background-color:  #3b4cc0;\n",
       "        }    #T_ebf03be8_af00_11e9_807a_8c8590544bc7row0_col4 {\n",
       "            background-color:  #3b4cc0;\n",
       "        }    #T_ebf03be8_af00_11e9_807a_8c8590544bc7row0_col5 {\n",
       "            background-color:  #3b4cc0;\n",
       "        }    #T_ebf03be8_af00_11e9_807a_8c8590544bc7row0_col6 {\n",
       "            background-color:  #3b4cc0;\n",
       "        }    #T_ebf03be8_af00_11e9_807a_8c8590544bc7row0_col7 {\n",
       "            background-color:  #6485ec;\n",
       "        }    #T_ebf03be8_af00_11e9_807a_8c8590544bc7row0_col8 {\n",
       "            background-color:  #5572df;\n",
       "        }    #T_ebf03be8_af00_11e9_807a_8c8590544bc7row0_col9 {\n",
       "            background-color:  #3b4cc0;\n",
       "        }    #T_ebf03be8_af00_11e9_807a_8c8590544bc7row0_col10 {\n",
       "            background-color:  #688aef;\n",
       "        }    #T_ebf03be8_af00_11e9_807a_8c8590544bc7row1_col0 {\n",
       "            background-color:  #86a9fc;\n",
       "        }    #T_ebf03be8_af00_11e9_807a_8c8590544bc7row1_col1 {\n",
       "            background-color:  #b40426;\n",
       "        }    #T_ebf03be8_af00_11e9_807a_8c8590544bc7row1_col2 {\n",
       "            background-color:  #93b5fe;\n",
       "        }    #T_ebf03be8_af00_11e9_807a_8c8590544bc7row1_col3 {\n",
       "            background-color:  #7093f3;\n",
       "        }    #T_ebf03be8_af00_11e9_807a_8c8590544bc7row1_col4 {\n",
       "            background-color:  #506bda;\n",
       "        }    #T_ebf03be8_af00_11e9_807a_8c8590544bc7row1_col5 {\n",
       "            background-color:  #80a3fa;\n",
       "        }    #T_ebf03be8_af00_11e9_807a_8c8590544bc7row1_col6 {\n",
       "            background-color:  #7396f5;\n",
       "        }    #T_ebf03be8_af00_11e9_807a_8c8590544bc7row1_col7 {\n",
       "            background-color:  #3b4cc0;\n",
       "        }    #T_ebf03be8_af00_11e9_807a_8c8590544bc7row1_col8 {\n",
       "            background-color:  #7597f6;\n",
       "        }    #T_ebf03be8_af00_11e9_807a_8c8590544bc7row1_col9 {\n",
       "            background-color:  #5f7fe8;\n",
       "        }    #T_ebf03be8_af00_11e9_807a_8c8590544bc7row1_col10 {\n",
       "            background-color:  #3b4cc0;\n",
       "        }    #T_ebf03be8_af00_11e9_807a_8c8590544bc7row2_col0 {\n",
       "            background-color:  #5a78e4;\n",
       "        }    #T_ebf03be8_af00_11e9_807a_8c8590544bc7row2_col1 {\n",
       "            background-color:  #9bbcff;\n",
       "        }    #T_ebf03be8_af00_11e9_807a_8c8590544bc7row2_col2 {\n",
       "            background-color:  #b40426;\n",
       "        }    #T_ebf03be8_af00_11e9_807a_8c8590544bc7row2_col3 {\n",
       "            background-color:  #6485ec;\n",
       "        }    #T_ebf03be8_af00_11e9_807a_8c8590544bc7row2_col4 {\n",
       "            background-color:  #4a63d3;\n",
       "        }    #T_ebf03be8_af00_11e9_807a_8c8590544bc7row2_col5 {\n",
       "            background-color:  #7a9df8;\n",
       "        }    #T_ebf03be8_af00_11e9_807a_8c8590544bc7row2_col6 {\n",
       "            background-color:  #6180e9;\n",
       "        }    #T_ebf03be8_af00_11e9_807a_8c8590544bc7row2_col7 {\n",
       "            background-color:  #3b4cc0;\n",
       "        }    #T_ebf03be8_af00_11e9_807a_8c8590544bc7row2_col8 {\n",
       "            background-color:  #5977e3;\n",
       "        }    #T_ebf03be8_af00_11e9_807a_8c8590544bc7row2_col9 {\n",
       "            background-color:  #5b7ae5;\n",
       "        }    #T_ebf03be8_af00_11e9_807a_8c8590544bc7row2_col10 {\n",
       "            background-color:  #5a78e4;\n",
       "        }    #T_ebf03be8_af00_11e9_807a_8c8590544bc7row3_col0 {\n",
       "            background-color:  #3b4cc0;\n",
       "        }    #T_ebf03be8_af00_11e9_807a_8c8590544bc7row3_col1 {\n",
       "            background-color:  #6485ec;\n",
       "        }    #T_ebf03be8_af00_11e9_807a_8c8590544bc7row3_col2 {\n",
       "            background-color:  #4f69d9;\n",
       "        }    #T_ebf03be8_af00_11e9_807a_8c8590544bc7row3_col3 {\n",
       "            background-color:  #b40426;\n",
       "        }    #T_ebf03be8_af00_11e9_807a_8c8590544bc7row3_col4 {\n",
       "            background-color:  #82a6fb;\n",
       "        }    #T_ebf03be8_af00_11e9_807a_8c8590544bc7row3_col5 {\n",
       "            background-color:  #84a7fc;\n",
       "        }    #T_ebf03be8_af00_11e9_807a_8c8590544bc7row3_col6 {\n",
       "            background-color:  #7396f5;\n",
       "        }    #T_ebf03be8_af00_11e9_807a_8c8590544bc7row3_col7 {\n",
       "            background-color:  #5e7de7;\n",
       "        }    #T_ebf03be8_af00_11e9_807a_8c8590544bc7row3_col8 {\n",
       "            background-color:  #4a63d3;\n",
       "        }    #T_ebf03be8_af00_11e9_807a_8c8590544bc7row3_col9 {\n",
       "            background-color:  #88abfd;\n",
       "        }    #T_ebf03be8_af00_11e9_807a_8c8590544bc7row3_col10 {\n",
       "            background-color:  #6384eb;\n",
       "        }    #T_ebf03be8_af00_11e9_807a_8c8590544bc7row4_col0 {\n",
       "            background-color:  #5b7ae5;\n",
       "        }    #T_ebf03be8_af00_11e9_807a_8c8590544bc7row4_col1 {\n",
       "            background-color:  #6485ec;\n",
       "        }    #T_ebf03be8_af00_11e9_807a_8c8590544bc7row4_col2 {\n",
       "            background-color:  #5572df;\n",
       "        }    #T_ebf03be8_af00_11e9_807a_8c8590544bc7row4_col3 {\n",
       "            background-color:  #9fbfff;\n",
       "        }    #T_ebf03be8_af00_11e9_807a_8c8590544bc7row4_col4 {\n",
       "            background-color:  #b40426;\n",
       "        }    #T_ebf03be8_af00_11e9_807a_8c8590544bc7row4_col5 {\n",
       "            background-color:  #80a3fa;\n",
       "        }    #T_ebf03be8_af00_11e9_807a_8c8590544bc7row4_col6 {\n",
       "            background-color:  #7093f3;\n",
       "        }    #T_ebf03be8_af00_11e9_807a_8c8590544bc7row4_col7 {\n",
       "            background-color:  #6687ed;\n",
       "        }    #T_ebf03be8_af00_11e9_807a_8c8590544bc7row4_col8 {\n",
       "            background-color:  #4c66d6;\n",
       "        }    #T_ebf03be8_af00_11e9_807a_8c8590544bc7row4_col9 {\n",
       "            background-color:  #6282ea;\n",
       "        }    #T_ebf03be8_af00_11e9_807a_8c8590544bc7row4_col10 {\n",
       "            background-color:  #6485ec;\n",
       "        }    #T_ebf03be8_af00_11e9_807a_8c8590544bc7row5_col0 {\n",
       "            background-color:  #3e51c5;\n",
       "        }    #T_ebf03be8_af00_11e9_807a_8c8590544bc7row5_col1 {\n",
       "            background-color:  #779af7;\n",
       "        }    #T_ebf03be8_af00_11e9_807a_8c8590544bc7row5_col2 {\n",
       "            background-color:  #688aef;\n",
       "        }    #T_ebf03be8_af00_11e9_807a_8c8590544bc7row5_col3 {\n",
       "            background-color:  #88abfd;\n",
       "        }    #T_ebf03be8_af00_11e9_807a_8c8590544bc7row5_col4 {\n",
       "            background-color:  #6384eb;\n",
       "        }    #T_ebf03be8_af00_11e9_807a_8c8590544bc7row5_col5 {\n",
       "            background-color:  #b40426;\n",
       "        }    #T_ebf03be8_af00_11e9_807a_8c8590544bc7row5_col6 {\n",
       "            background-color:  #ee8669;\n",
       "        }    #T_ebf03be8_af00_11e9_807a_8c8590544bc7row5_col7 {\n",
       "            background-color:  #4f69d9;\n",
       "        }    #T_ebf03be8_af00_11e9_807a_8c8590544bc7row5_col8 {\n",
       "            background-color:  #9bbcff;\n",
       "        }    #T_ebf03be8_af00_11e9_807a_8c8590544bc7row5_col9 {\n",
       "            background-color:  #93b5fe;\n",
       "        }    #T_ebf03be8_af00_11e9_807a_8c8590544bc7row5_col10 {\n",
       "            background-color:  #799cf8;\n",
       "        }    #T_ebf03be8_af00_11e9_807a_8c8590544bc7row6_col0 {\n",
       "            background-color:  #516ddb;\n",
       "        }    #T_ebf03be8_af00_11e9_807a_8c8590544bc7row6_col1 {\n",
       "            background-color:  #7da0f9;\n",
       "        }    #T_ebf03be8_af00_11e9_807a_8c8590544bc7row6_col2 {\n",
       "            background-color:  #6282ea;\n",
       "        }    #T_ebf03be8_af00_11e9_807a_8c8590544bc7row6_col3 {\n",
       "            background-color:  #89acfd;\n",
       "        }    #T_ebf03be8_af00_11e9_807a_8c8590544bc7row6_col4 {\n",
       "            background-color:  #6687ed;\n",
       "        }    #T_ebf03be8_af00_11e9_807a_8c8590544bc7row6_col5 {\n",
       "            background-color:  #ec7f63;\n",
       "        }    #T_ebf03be8_af00_11e9_807a_8c8590544bc7row6_col6 {\n",
       "            background-color:  #b40426;\n",
       "        }    #T_ebf03be8_af00_11e9_807a_8c8590544bc7row6_col7 {\n",
       "            background-color:  #5572df;\n",
       "        }    #T_ebf03be8_af00_11e9_807a_8c8590544bc7row6_col8 {\n",
       "            background-color:  #9fbfff;\n",
       "        }    #T_ebf03be8_af00_11e9_807a_8c8590544bc7row6_col9 {\n",
       "            background-color:  #94b6ff;\n",
       "        }    #T_ebf03be8_af00_11e9_807a_8c8590544bc7row6_col10 {\n",
       "            background-color:  #7295f4;\n",
       "        }    #T_ebf03be8_af00_11e9_807a_8c8590544bc7row7_col0 {\n",
       "            background-color:  #7a9df8;\n",
       "        }    #T_ebf03be8_af00_11e9_807a_8c8590544bc7row7_col1 {\n",
       "            background-color:  #4358cb;\n",
       "        }    #T_ebf03be8_af00_11e9_807a_8c8590544bc7row7_col2 {\n",
       "            background-color:  #3b4cc0;\n",
       "        }    #T_ebf03be8_af00_11e9_807a_8c8590544bc7row7_col3 {\n",
       "            background-color:  #7295f4;\n",
       "        }    #T_ebf03be8_af00_11e9_807a_8c8590544bc7row7_col4 {\n",
       "            background-color:  #5a78e4;\n",
       "        }    #T_ebf03be8_af00_11e9_807a_8c8590544bc7row7_col5 {\n",
       "            background-color:  #5f7fe8;\n",
       "        }    #T_ebf03be8_af00_11e9_807a_8c8590544bc7row7_col6 {\n",
       "            background-color:  #536edd;\n",
       "        }    #T_ebf03be8_af00_11e9_807a_8c8590544bc7row7_col7 {\n",
       "            background-color:  #b40426;\n",
       "        }    #T_ebf03be8_af00_11e9_807a_8c8590544bc7row7_col8 {\n",
       "            background-color:  #3b4cc0;\n",
       "        }    #T_ebf03be8_af00_11e9_807a_8c8590544bc7row7_col9 {\n",
       "            background-color:  #516ddb;\n",
       "        }    #T_ebf03be8_af00_11e9_807a_8c8590544bc7row7_col10 {\n",
       "            background-color:  #5977e3;\n",
       "        }    #T_ebf03be8_af00_11e9_807a_8c8590544bc7row8_col0 {\n",
       "            background-color:  #80a3fa;\n",
       "        }    #T_ebf03be8_af00_11e9_807a_8c8590544bc7row8_col1 {\n",
       "            background-color:  #92b4fe;\n",
       "        }    #T_ebf03be8_af00_11e9_807a_8c8590544bc7row8_col2 {\n",
       "            background-color:  #6e90f2;\n",
       "        }    #T_ebf03be8_af00_11e9_807a_8c8590544bc7row8_col3 {\n",
       "            background-color:  #7597f6;\n",
       "        }    #T_ebf03be8_af00_11e9_807a_8c8590544bc7row8_col4 {\n",
       "            background-color:  #5673e0;\n",
       "        }    #T_ebf03be8_af00_11e9_807a_8c8590544bc7row8_col5 {\n",
       "            background-color:  #bad0f8;\n",
       "        }    #T_ebf03be8_af00_11e9_807a_8c8590544bc7row8_col6 {\n",
       "            background-color:  #aec9fc;\n",
       "        }    #T_ebf03be8_af00_11e9_807a_8c8590544bc7row8_col7 {\n",
       "            background-color:  #506bda;\n",
       "        }    #T_ebf03be8_af00_11e9_807a_8c8590544bc7row8_col8 {\n",
       "            background-color:  #b40426;\n",
       "        }    #T_ebf03be8_af00_11e9_807a_8c8590544bc7row8_col9 {\n",
       "            background-color:  #799cf8;\n",
       "        }    #T_ebf03be8_af00_11e9_807a_8c8590544bc7row8_col10 {\n",
       "            background-color:  #799cf8;\n",
       "        }    #T_ebf03be8_af00_11e9_807a_8c8590544bc7row9_col0 {\n",
       "            background-color:  #4c66d6;\n",
       "        }    #T_ebf03be8_af00_11e9_807a_8c8590544bc7row9_col1 {\n",
       "            background-color:  #6485ec;\n",
       "        }    #T_ebf03be8_af00_11e9_807a_8c8590544bc7row9_col2 {\n",
       "            background-color:  #5875e1;\n",
       "        }    #T_ebf03be8_af00_11e9_807a_8c8590544bc7row9_col3 {\n",
       "            background-color:  #98b9ff;\n",
       "        }    #T_ebf03be8_af00_11e9_807a_8c8590544bc7row9_col4 {\n",
       "            background-color:  #536edd;\n",
       "        }    #T_ebf03be8_af00_11e9_807a_8c8590544bc7row9_col5 {\n",
       "            background-color:  #9ebeff;\n",
       "        }    #T_ebf03be8_af00_11e9_807a_8c8590544bc7row9_col6 {\n",
       "            background-color:  #8fb1fe;\n",
       "        }    #T_ebf03be8_af00_11e9_807a_8c8590544bc7row9_col7 {\n",
       "            background-color:  #4f69d9;\n",
       "        }    #T_ebf03be8_af00_11e9_807a_8c8590544bc7row9_col8 {\n",
       "            background-color:  #6180e9;\n",
       "        }    #T_ebf03be8_af00_11e9_807a_8c8590544bc7row9_col9 {\n",
       "            background-color:  #b40426;\n",
       "        }    #T_ebf03be8_af00_11e9_807a_8c8590544bc7row9_col10 {\n",
       "            background-color:  #6c8ff1;\n",
       "        }    #T_ebf03be8_af00_11e9_807a_8c8590544bc7row10_col0 {\n",
       "            background-color:  #7597f6;\n",
       "        }    #T_ebf03be8_af00_11e9_807a_8c8590544bc7row10_col1 {\n",
       "            background-color:  #3b4cc0;\n",
       "        }    #T_ebf03be8_af00_11e9_807a_8c8590544bc7row10_col2 {\n",
       "            background-color:  #516ddb;\n",
       "        }    #T_ebf03be8_af00_11e9_807a_8c8590544bc7row10_col3 {\n",
       "            background-color:  #6f92f3;\n",
       "        }    #T_ebf03be8_af00_11e9_807a_8c8590544bc7row10_col4 {\n",
       "            background-color:  #506bda;\n",
       "        }    #T_ebf03be8_af00_11e9_807a_8c8590544bc7row10_col5 {\n",
       "            background-color:  #81a4fb;\n",
       "        }    #T_ebf03be8_af00_11e9_807a_8c8590544bc7row10_col6 {\n",
       "            background-color:  #6788ee;\n",
       "        }    #T_ebf03be8_af00_11e9_807a_8c8590544bc7row10_col7 {\n",
       "            background-color:  #506bda;\n",
       "        }    #T_ebf03be8_af00_11e9_807a_8c8590544bc7row10_col8 {\n",
       "            background-color:  #5b7ae5;\n",
       "        }    #T_ebf03be8_af00_11e9_807a_8c8590544bc7row10_col9 {\n",
       "            background-color:  #6788ee;\n",
       "        }    #T_ebf03be8_af00_11e9_807a_8c8590544bc7row10_col10 {\n",
       "            background-color:  #b40426;\n",
       "        }</style>  \n",
       "<table id=\"T_ebf03be8_af00_11e9_807a_8c8590544bc7\" > \n",
       "<thead>    <tr> \n",
       "        <th class=\"blank level0\" ></th> \n",
       "        <th class=\"col_heading level0 col0\" >id</th> \n",
       "        <th class=\"col_heading level0 col1\" >size_bytes</th> \n",
       "        <th class=\"col_heading level0 col2\" >price</th> \n",
       "        <th class=\"col_heading level0 col3\" >rating_count_tot</th> \n",
       "        <th class=\"col_heading level0 col4\" >rating_count_ver</th> \n",
       "        <th class=\"col_heading level0 col5\" >user_rating</th> \n",
       "        <th class=\"col_heading level0 col6\" >user_rating_ver</th> \n",
       "        <th class=\"col_heading level0 col7\" >sup_devices.num</th> \n",
       "        <th class=\"col_heading level0 col8\" >ipadSc_urls.num</th> \n",
       "        <th class=\"col_heading level0 col9\" >lang.num</th> \n",
       "        <th class=\"col_heading level0 col10\" >vpp_lic</th> \n",
       "    </tr></thead> \n",
       "<tbody>    <tr> \n",
       "        <th id=\"T_ebf03be8_af00_11e9_807a_8c8590544bc7level0_row0\" class=\"row_heading level0 row0\" >id</th> \n",
       "        <td id=\"T_ebf03be8_af00_11e9_807a_8c8590544bc7row0_col0\" class=\"data row0 col0\" >1</td> \n",
       "        <td id=\"T_ebf03be8_af00_11e9_807a_8c8590544bc7row0_col1\" class=\"data row0 col1\" >0.077</td> \n",
       "        <td id=\"T_ebf03be8_af00_11e9_807a_8c8590544bc7row0_col2\" class=\"data row0 col2\" >-0.075</td> \n",
       "        <td id=\"T_ebf03be8_af00_11e9_807a_8c8590544bc7row0_col3\" class=\"data row0 col3\" >-0.2</td> \n",
       "        <td id=\"T_ebf03be8_af00_11e9_807a_8c8590544bc7row0_col4\" class=\"data row0 col4\" >-0.073</td> \n",
       "        <td id=\"T_ebf03be8_af00_11e9_807a_8c8590544bc7row0_col5\" class=\"data row0 col5\" >-0.19</td> \n",
       "        <td id=\"T_ebf03be8_af00_11e9_807a_8c8590544bc7row0_col6\" class=\"data row0 col6\" >-0.11</td> \n",
       "        <td id=\"T_ebf03be8_af00_11e9_807a_8c8590544bc7row0_col7\" class=\"data row0 col7\" >0.034</td> \n",
       "        <td id=\"T_ebf03be8_af00_11e9_807a_8c8590544bc7row0_col8\" class=\"data row0 col8\" >0.052</td> \n",
       "        <td id=\"T_ebf03be8_af00_11e9_807a_8c8590544bc7row0_col9\" class=\"data row0 col9\" >-0.13</td> \n",
       "        <td id=\"T_ebf03be8_af00_11e9_807a_8c8590544bc7row0_col10\" class=\"data row0 col10\" >0.018</td> \n",
       "    </tr>    <tr> \n",
       "        <th id=\"T_ebf03be8_af00_11e9_807a_8c8590544bc7level0_row1\" class=\"row_heading level0 row1\" >size_bytes</th> \n",
       "        <td id=\"T_ebf03be8_af00_11e9_807a_8c8590544bc7row1_col0\" class=\"data row1 col0\" >0.077</td> \n",
       "        <td id=\"T_ebf03be8_af00_11e9_807a_8c8590544bc7row1_col1\" class=\"data row1 col1\" >1</td> \n",
       "        <td id=\"T_ebf03be8_af00_11e9_807a_8c8590544bc7row1_col2\" class=\"data row1 col2\" >0.18</td> \n",
       "        <td id=\"T_ebf03be8_af00_11e9_807a_8c8590544bc7row1_col3\" class=\"data row1 col3\" >0.0045</td> \n",
       "        <td id=\"T_ebf03be8_af00_11e9_807a_8c8590544bc7row1_col4\" class=\"data row1 col4\" >0.0063</td> \n",
       "        <td id=\"T_ebf03be8_af00_11e9_807a_8c8590544bc7row1_col5\" class=\"data row1 col5\" >0.066</td> \n",
       "        <td id=\"T_ebf03be8_af00_11e9_807a_8c8590544bc7row1_col6\" class=\"data row1 col6\" >0.086</td> \n",
       "        <td id=\"T_ebf03be8_af00_11e9_807a_8c8590544bc7row1_col7\" class=\"data row1 col7\" >-0.12</td> \n",
       "        <td id=\"T_ebf03be8_af00_11e9_807a_8c8590544bc7row1_col8\" class=\"data row1 col8\" >0.15</td> \n",
       "        <td id=\"T_ebf03be8_af00_11e9_807a_8c8590544bc7row1_col9\" class=\"data row1 col9\" >0.0046</td> \n",
       "        <td id=\"T_ebf03be8_af00_11e9_807a_8c8590544bc7row1_col10\" class=\"data row1 col10\" >-0.15</td> \n",
       "    </tr>    <tr> \n",
       "        <th id=\"T_ebf03be8_af00_11e9_807a_8c8590544bc7level0_row2\" class=\"row_heading level0 row2\" >price</th> \n",
       "        <td id=\"T_ebf03be8_af00_11e9_807a_8c8590544bc7row2_col0\" class=\"data row2 col0\" >-0.075</td> \n",
       "        <td id=\"T_ebf03be8_af00_11e9_807a_8c8590544bc7row2_col1\" class=\"data row2 col1\" >0.18</td> \n",
       "        <td id=\"T_ebf03be8_af00_11e9_807a_8c8590544bc7row2_col2\" class=\"data row2 col2\" >1</td> \n",
       "        <td id=\"T_ebf03be8_af00_11e9_807a_8c8590544bc7row2_col3\" class=\"data row2 col3\" >-0.039</td> \n",
       "        <td id=\"T_ebf03be8_af00_11e9_807a_8c8590544bc7row2_col4\" class=\"data row2 col4\" >-0.018</td> \n",
       "        <td id=\"T_ebf03be8_af00_11e9_807a_8c8590544bc7row2_col5\" class=\"data row2 col5\" >0.047</td> \n",
       "        <td id=\"T_ebf03be8_af00_11e9_807a_8c8590544bc7row2_col6\" class=\"data row2 col6\" >0.025</td> \n",
       "        <td id=\"T_ebf03be8_af00_11e9_807a_8c8590544bc7row2_col7\" class=\"data row2 col7\" >-0.12</td> \n",
       "        <td id=\"T_ebf03be8_af00_11e9_807a_8c8590544bc7row2_col8\" class=\"data row2 col8\" >0.066</td> \n",
       "        <td id=\"T_ebf03be8_af00_11e9_807a_8c8590544bc7row2_col9\" class=\"data row2 col9\" >-0.0067</td> \n",
       "        <td id=\"T_ebf03be8_af00_11e9_807a_8c8590544bc7row2_col10\" class=\"data row2 col10\" >-0.03</td> \n",
       "    </tr>    <tr> \n",
       "        <th id=\"T_ebf03be8_af00_11e9_807a_8c8590544bc7level0_row3\" class=\"row_heading level0 row3\" >rating_count_tot</th> \n",
       "        <td id=\"T_ebf03be8_af00_11e9_807a_8c8590544bc7row3_col0\" class=\"data row3 col0\" >-0.2</td> \n",
       "        <td id=\"T_ebf03be8_af00_11e9_807a_8c8590544bc7row3_col1\" class=\"data row3 col1\" >0.0045</td> \n",
       "        <td id=\"T_ebf03be8_af00_11e9_807a_8c8590544bc7row3_col2\" class=\"data row3 col2\" >-0.039</td> \n",
       "        <td id=\"T_ebf03be8_af00_11e9_807a_8c8590544bc7row3_col3\" class=\"data row3 col3\" >1</td> \n",
       "        <td id=\"T_ebf03be8_af00_11e9_807a_8c8590544bc7row3_col4\" class=\"data row3 col4\" >0.16</td> \n",
       "        <td id=\"T_ebf03be8_af00_11e9_807a_8c8590544bc7row3_col5\" class=\"data row3 col5\" >0.083</td> \n",
       "        <td id=\"T_ebf03be8_af00_11e9_807a_8c8590544bc7row3_col6\" class=\"data row3 col6\" >0.089</td> \n",
       "        <td id=\"T_ebf03be8_af00_11e9_807a_8c8590544bc7row3_col7\" class=\"data row3 col7\" >0.0088</td> \n",
       "        <td id=\"T_ebf03be8_af00_11e9_807a_8c8590544bc7row3_col8\" class=\"data row3 col8\" >0.016</td> \n",
       "        <td id=\"T_ebf03be8_af00_11e9_807a_8c8590544bc7row3_col9\" class=\"data row3 col9\" >0.14</td> \n",
       "        <td id=\"T_ebf03be8_af00_11e9_807a_8c8590544bc7row3_col10\" class=\"data row3 col10\" >-0.00098</td> \n",
       "    </tr>    <tr> \n",
       "        <th id=\"T_ebf03be8_af00_11e9_807a_8c8590544bc7level0_row4\" class=\"row_heading level0 row4\" >rating_count_ver</th> \n",
       "        <td id=\"T_ebf03be8_af00_11e9_807a_8c8590544bc7row4_col0\" class=\"data row4 col0\" >-0.073</td> \n",
       "        <td id=\"T_ebf03be8_af00_11e9_807a_8c8590544bc7row4_col1\" class=\"data row4 col1\" >0.0063</td> \n",
       "        <td id=\"T_ebf03be8_af00_11e9_807a_8c8590544bc7row4_col2\" class=\"data row4 col2\" >-0.018</td> \n",
       "        <td id=\"T_ebf03be8_af00_11e9_807a_8c8590544bc7row4_col3\" class=\"data row4 col3\" >0.16</td> \n",
       "        <td id=\"T_ebf03be8_af00_11e9_807a_8c8590544bc7row4_col4\" class=\"data row4 col4\" >1</td> \n",
       "        <td id=\"T_ebf03be8_af00_11e9_807a_8c8590544bc7row4_col5\" class=\"data row4 col5\" >0.069</td> \n",
       "        <td id=\"T_ebf03be8_af00_11e9_807a_8c8590544bc7row4_col6\" class=\"data row4 col6\" >0.078</td> \n",
       "        <td id=\"T_ebf03be8_af00_11e9_807a_8c8590544bc7row4_col7\" class=\"data row4 col7\" >0.038</td> \n",
       "        <td id=\"T_ebf03be8_af00_11e9_807a_8c8590544bc7row4_col8\" class=\"data row4 col8\" >0.024</td> \n",
       "        <td id=\"T_ebf03be8_af00_11e9_807a_8c8590544bc7row4_col9\" class=\"data row4 col9\" >0.013</td> \n",
       "        <td id=\"T_ebf03be8_af00_11e9_807a_8c8590544bc7row4_col10\" class=\"data row4 col10\" >0.0065</td> \n",
       "    </tr>    <tr> \n",
       "        <th id=\"T_ebf03be8_af00_11e9_807a_8c8590544bc7level0_row5\" class=\"row_heading level0 row5\" >user_rating</th> \n",
       "        <td id=\"T_ebf03be8_af00_11e9_807a_8c8590544bc7row5_col0\" class=\"data row5 col0\" >-0.19</td> \n",
       "        <td id=\"T_ebf03be8_af00_11e9_807a_8c8590544bc7row5_col1\" class=\"data row5 col1\" >0.066</td> \n",
       "        <td id=\"T_ebf03be8_af00_11e9_807a_8c8590544bc7row5_col2\" class=\"data row5 col2\" >0.047</td> \n",
       "        <td id=\"T_ebf03be8_af00_11e9_807a_8c8590544bc7row5_col3\" class=\"data row5 col3\" >0.083</td> \n",
       "        <td id=\"T_ebf03be8_af00_11e9_807a_8c8590544bc7row5_col4\" class=\"data row5 col4\" >0.069</td> \n",
       "        <td id=\"T_ebf03be8_af00_11e9_807a_8c8590544bc7row5_col5\" class=\"data row5 col5\" >1</td> \n",
       "        <td id=\"T_ebf03be8_af00_11e9_807a_8c8590544bc7row5_col6\" class=\"data row5 col6\" >0.77</td> \n",
       "        <td id=\"T_ebf03be8_af00_11e9_807a_8c8590544bc7row5_col7\" class=\"data row5 col7\" >-0.042</td> \n",
       "        <td id=\"T_ebf03be8_af00_11e9_807a_8c8590544bc7row5_col8\" class=\"data row5 col8\" >0.27</td> \n",
       "        <td id=\"T_ebf03be8_af00_11e9_807a_8c8590544bc7row5_col9\" class=\"data row5 col9\" >0.17</td> \n",
       "        <td id=\"T_ebf03be8_af00_11e9_807a_8c8590544bc7row5_col10\" class=\"data row5 col10\" >0.07</td> \n",
       "    </tr>    <tr> \n",
       "        <th id=\"T_ebf03be8_af00_11e9_807a_8c8590544bc7level0_row6\" class=\"row_heading level0 row6\" >user_rating_ver</th> \n",
       "        <td id=\"T_ebf03be8_af00_11e9_807a_8c8590544bc7row6_col0\" class=\"data row6 col0\" >-0.11</td> \n",
       "        <td id=\"T_ebf03be8_af00_11e9_807a_8c8590544bc7row6_col1\" class=\"data row6 col1\" >0.086</td> \n",
       "        <td id=\"T_ebf03be8_af00_11e9_807a_8c8590544bc7row6_col2\" class=\"data row6 col2\" >0.025</td> \n",
       "        <td id=\"T_ebf03be8_af00_11e9_807a_8c8590544bc7row6_col3\" class=\"data row6 col3\" >0.089</td> \n",
       "        <td id=\"T_ebf03be8_af00_11e9_807a_8c8590544bc7row6_col4\" class=\"data row6 col4\" >0.078</td> \n",
       "        <td id=\"T_ebf03be8_af00_11e9_807a_8c8590544bc7row6_col5\" class=\"data row6 col5\" >0.77</td> \n",
       "        <td id=\"T_ebf03be8_af00_11e9_807a_8c8590544bc7row6_col6\" class=\"data row6 col6\" >1</td> \n",
       "        <td id=\"T_ebf03be8_af00_11e9_807a_8c8590544bc7row6_col7\" class=\"data row6 col7\" >-0.019</td> \n",
       "        <td id=\"T_ebf03be8_af00_11e9_807a_8c8590544bc7row6_col8\" class=\"data row6 col8\" >0.28</td> \n",
       "        <td id=\"T_ebf03be8_af00_11e9_807a_8c8590544bc7row6_col9\" class=\"data row6 col9\" >0.18</td> \n",
       "        <td id=\"T_ebf03be8_af00_11e9_807a_8c8590544bc7row6_col10\" class=\"data row6 col10\" >0.05</td> \n",
       "    </tr>    <tr> \n",
       "        <th id=\"T_ebf03be8_af00_11e9_807a_8c8590544bc7level0_row7\" class=\"row_heading level0 row7\" >sup_devices.num</th> \n",
       "        <td id=\"T_ebf03be8_af00_11e9_807a_8c8590544bc7row7_col0\" class=\"data row7 col0\" >0.034</td> \n",
       "        <td id=\"T_ebf03be8_af00_11e9_807a_8c8590544bc7row7_col1\" class=\"data row7 col1\" >-0.12</td> \n",
       "        <td id=\"T_ebf03be8_af00_11e9_807a_8c8590544bc7row7_col2\" class=\"data row7 col2\" >-0.12</td> \n",
       "        <td id=\"T_ebf03be8_af00_11e9_807a_8c8590544bc7row7_col3\" class=\"data row7 col3\" >0.0088</td> \n",
       "        <td id=\"T_ebf03be8_af00_11e9_807a_8c8590544bc7row7_col4\" class=\"data row7 col4\" >0.038</td> \n",
       "        <td id=\"T_ebf03be8_af00_11e9_807a_8c8590544bc7row7_col5\" class=\"data row7 col5\" >-0.042</td> \n",
       "        <td id=\"T_ebf03be8_af00_11e9_807a_8c8590544bc7row7_col6\" class=\"data row7 col6\" >-0.019</td> \n",
       "        <td id=\"T_ebf03be8_af00_11e9_807a_8c8590544bc7row7_col7\" class=\"data row7 col7\" >1</td> \n",
       "        <td id=\"T_ebf03be8_af00_11e9_807a_8c8590544bc7row7_col8\" class=\"data row7 col8\" >-0.038</td> \n",
       "        <td id=\"T_ebf03be8_af00_11e9_807a_8c8590544bc7row7_col9\" class=\"data row7 col9\" >-0.042</td> \n",
       "        <td id=\"T_ebf03be8_af00_11e9_807a_8c8590544bc7row7_col10\" class=\"data row7 col10\" >-0.037</td> \n",
       "    </tr>    <tr> \n",
       "        <th id=\"T_ebf03be8_af00_11e9_807a_8c8590544bc7level0_row8\" class=\"row_heading level0 row8\" >ipadSc_urls.num</th> \n",
       "        <td id=\"T_ebf03be8_af00_11e9_807a_8c8590544bc7row8_col0\" class=\"data row8 col0\" >0.052</td> \n",
       "        <td id=\"T_ebf03be8_af00_11e9_807a_8c8590544bc7row8_col1\" class=\"data row8 col1\" >0.15</td> \n",
       "        <td id=\"T_ebf03be8_af00_11e9_807a_8c8590544bc7row8_col2\" class=\"data row8 col2\" >0.066</td> \n",
       "        <td id=\"T_ebf03be8_af00_11e9_807a_8c8590544bc7row8_col3\" class=\"data row8 col3\" >0.016</td> \n",
       "        <td id=\"T_ebf03be8_af00_11e9_807a_8c8590544bc7row8_col4\" class=\"data row8 col4\" >0.024</td> \n",
       "        <td id=\"T_ebf03be8_af00_11e9_807a_8c8590544bc7row8_col5\" class=\"data row8 col5\" >0.27</td> \n",
       "        <td id=\"T_ebf03be8_af00_11e9_807a_8c8590544bc7row8_col6\" class=\"data row8 col6\" >0.28</td> \n",
       "        <td id=\"T_ebf03be8_af00_11e9_807a_8c8590544bc7row8_col7\" class=\"data row8 col7\" >-0.038</td> \n",
       "        <td id=\"T_ebf03be8_af00_11e9_807a_8c8590544bc7row8_col8\" class=\"data row8 col8\" >1</td> \n",
       "        <td id=\"T_ebf03be8_af00_11e9_807a_8c8590544bc7row8_col9\" class=\"data row8 col9\" >0.088</td> \n",
       "        <td id=\"T_ebf03be8_af00_11e9_807a_8c8590544bc7row8_col10\" class=\"data row8 col10\" >0.072</td> \n",
       "    </tr>    <tr> \n",
       "        <th id=\"T_ebf03be8_af00_11e9_807a_8c8590544bc7level0_row9\" class=\"row_heading level0 row9\" >lang.num</th> \n",
       "        <td id=\"T_ebf03be8_af00_11e9_807a_8c8590544bc7row9_col0\" class=\"data row9 col0\" >-0.13</td> \n",
       "        <td id=\"T_ebf03be8_af00_11e9_807a_8c8590544bc7row9_col1\" class=\"data row9 col1\" >0.0046</td> \n",
       "        <td id=\"T_ebf03be8_af00_11e9_807a_8c8590544bc7row9_col2\" class=\"data row9 col2\" >-0.0067</td> \n",
       "        <td id=\"T_ebf03be8_af00_11e9_807a_8c8590544bc7row9_col3\" class=\"data row9 col3\" >0.14</td> \n",
       "        <td id=\"T_ebf03be8_af00_11e9_807a_8c8590544bc7row9_col4\" class=\"data row9 col4\" >0.013</td> \n",
       "        <td id=\"T_ebf03be8_af00_11e9_807a_8c8590544bc7row9_col5\" class=\"data row9 col5\" >0.17</td> \n",
       "        <td id=\"T_ebf03be8_af00_11e9_807a_8c8590544bc7row9_col6\" class=\"data row9 col6\" >0.18</td> \n",
       "        <td id=\"T_ebf03be8_af00_11e9_807a_8c8590544bc7row9_col7\" class=\"data row9 col7\" >-0.042</td> \n",
       "        <td id=\"T_ebf03be8_af00_11e9_807a_8c8590544bc7row9_col8\" class=\"data row9 col8\" >0.088</td> \n",
       "        <td id=\"T_ebf03be8_af00_11e9_807a_8c8590544bc7row9_col9\" class=\"data row9 col9\" >1</td> \n",
       "        <td id=\"T_ebf03be8_af00_11e9_807a_8c8590544bc7row9_col10\" class=\"data row9 col10\" >0.032</td> \n",
       "    </tr>    <tr> \n",
       "        <th id=\"T_ebf03be8_af00_11e9_807a_8c8590544bc7level0_row10\" class=\"row_heading level0 row10\" >vpp_lic</th> \n",
       "        <td id=\"T_ebf03be8_af00_11e9_807a_8c8590544bc7row10_col0\" class=\"data row10 col0\" >0.018</td> \n",
       "        <td id=\"T_ebf03be8_af00_11e9_807a_8c8590544bc7row10_col1\" class=\"data row10 col1\" >-0.15</td> \n",
       "        <td id=\"T_ebf03be8_af00_11e9_807a_8c8590544bc7row10_col2\" class=\"data row10 col2\" >-0.03</td> \n",
       "        <td id=\"T_ebf03be8_af00_11e9_807a_8c8590544bc7row10_col3\" class=\"data row10 col3\" >-0.00098</td> \n",
       "        <td id=\"T_ebf03be8_af00_11e9_807a_8c8590544bc7row10_col4\" class=\"data row10 col4\" >0.0065</td> \n",
       "        <td id=\"T_ebf03be8_af00_11e9_807a_8c8590544bc7row10_col5\" class=\"data row10 col5\" >0.07</td> \n",
       "        <td id=\"T_ebf03be8_af00_11e9_807a_8c8590544bc7row10_col6\" class=\"data row10 col6\" >0.05</td> \n",
       "        <td id=\"T_ebf03be8_af00_11e9_807a_8c8590544bc7row10_col7\" class=\"data row10 col7\" >-0.037</td> \n",
       "        <td id=\"T_ebf03be8_af00_11e9_807a_8c8590544bc7row10_col8\" class=\"data row10 col8\" >0.072</td> \n",
       "        <td id=\"T_ebf03be8_af00_11e9_807a_8c8590544bc7row10_col9\" class=\"data row10 col9\" >0.032</td> \n",
       "        <td id=\"T_ebf03be8_af00_11e9_807a_8c8590544bc7row10_col10\" class=\"data row10 col10\" >1</td> \n",
       "    </tr></tbody> \n",
       "</table> "
      ],
      "text/plain": [
       "<pandas.io.formats.style.Styler at 0x1a1fd0a6d8>"
      ]
     },
     "execution_count": 244,
     "metadata": {},
     "output_type": "execute_result"
    }
   ],
   "source": [
    "corr = app.corr()\n",
    "corr.style.background_gradient(cmap='coolwarm').set_precision(2)"
   ]
  },
  {
   "cell_type": "code",
   "execution_count": 237,
   "metadata": {
    "scrolled": true
   },
   "outputs": [
    {
     "data": {
      "image/png": "[encoded data removed]",
      "text/plain": [
       "<Figure size 720x360 with 2 Axes>"
      ]
     },
     "metadata": {},
     "output_type": "display_data"
    }
   ],
   "source": [
    "#Hobson: should I just skip these two plots?\n",
    "plt.figure(figsize=(10,5))\n",
    "plt.subplot(1,2,1)\n",
    "plt.scatter(app['user_rating'], app['ipadSc_urls.num'], 1500, alpha=0.5)\n",
    "plt.xlabel('User Rating for All Versions')\n",
    "plt.ylabel('Number of Screenshots Display')\n",
    "\n",
    "#Hobson: the bubble plot is better than the scatter plot but I still don't see much information.\n",
    "plt.subplot(1,2,2)\n",
    "plt.scatter(app['user_rating'], app['lang.num'], 1000, alpha=0.5)\n",
    "plt.xlabel('User Rating for All Versions')\n",
    "plt.ylabel('Number of Supporting Languages')\n",
    "plt.show()"
   ]
  },
  {
   "cell_type": "markdown",
   "metadata": {},
   "source": [
    "### Q3. How consistent are user ratings? Have the Apps been improved over time? \n",
    "\n",
    "This question focuses on all Apps in the dataset. It is examined through the correlation and difference between user ratings for all versions and the current version. As we can see, the correlation between all version rating and current version rating is 0.77. Therefore, user ratings are fairly consistent. "
   ]
  },
  {
   "cell_type": "code",
   "execution_count": 14,
   "metadata": {},
   "outputs": [
    {
     "data": {
      "text/plain": [
       "SpearmanrResult(correlation=0.7117754487827789, pvalue=0.0)"
      ]
     },
     "execution_count": 14,
     "metadata": {},
     "output_type": "execute_result"
    }
   ],
   "source": [
    "#Hobson: is this the correct correlation to use? \n",
    "from scipy.stats import spearmanr\n",
    "spearmanr(app['user_rating'], app['user_rating_ver'])"
   ]
  },
  {
   "cell_type": "code",
   "execution_count": 27,
   "metadata": {},
   "outputs": [
    {
     "data": {
      "text/plain": [
       "array([[1.        , 0.77413985],\n",
       "       [0.77413985, 1.        ]])"
      ]
     },
     "execution_count": 27,
     "metadata": {},
     "output_type": "execute_result"
    }
   ],
   "source": [
    "np.corrcoef(app['user_rating'], app['user_rating_ver'])"
   ]
  },
  {
   "cell_type": "code",
   "execution_count": 249,
   "metadata": {
    "scrolled": true
   },
   "outputs": [
    {
     "data": {
      "image/png": "[encoded data removed]",
      "text/plain": [
       "<Figure size 432x288 with 1 Axes>"
      ]
     },
     "metadata": {},
     "output_type": "display_data"
    }
   ],
   "source": [
    "#Hobson: I didn't expect the plot like this. Anything wrong? \n",
    "plt.scatter(app['user_rating'], app['user_rating_ver'], 1000, alpha=0.5)\n",
    "plt.show()"
   ]
  },
  {
   "cell_type": "markdown",
   "metadata": {},
   "source": [
    "In general, the Apps are not improved over time, as shown by the mean difference rating of -0.27 between current version and all versions. However, if we look at the Top100 Apps, the mean difference shrinks to -0.02, indicating most of them are rated very similar over time. "
   ]
  },
  {
   "cell_type": "code",
   "execution_count": 250,
   "metadata": {},
   "outputs": [
    {
     "data": {
      "text/plain": [
       "count    7197.000000\n",
       "mean       -0.273378\n",
       "std         1.151339\n",
       "min        -5.000000\n",
       "25%         0.000000\n",
       "50%         0.000000\n",
       "75%         0.000000\n",
       "max         3.500000\n",
       "Name: rating_diff, dtype: float64"
      ]
     },
     "execution_count": 250,
     "metadata": {},
     "output_type": "execute_result"
    }
   ],
   "source": [
    "#For all Apps \n",
    "app['rating_diff'] = app['user_rating_ver'] - app['user_rating']\n",
    "app['rating_diff'].describe()"
   ]
  },
  {
   "cell_type": "code",
   "execution_count": 254,
   "metadata": {},
   "outputs": [
    {
     "data": {
      "image/png": "[encoded data removed]",
      "text/plain": [
       "<Figure size 432x288 with 1 Axes>"
      ]
     },
     "metadata": {},
     "output_type": "display_data"
    }
   ],
   "source": [
    "ax = app['rating_diff'].hist(bins=20, alpha=0.5)\n",
    "ax.set(xlabel='User Rating Diff', ylabel='Count')\n",
    "plt.title('Current Version Rating Minus All Version Rating')\n",
    "plt.xticks(np.arange(-5,4,1))\n",
    "plt.show()"
   ]
  },
  {
   "cell_type": "code",
   "execution_count": 257,
   "metadata": {},
   "outputs": [
    {
     "data": {
      "text/plain": [
       "count    100.000000\n",
       "mean      -0.020000\n",
       "std        0.531436\n",
       "min       -2.500000\n",
       "25%        0.000000\n",
       "50%        0.000000\n",
       "75%        0.000000\n",
       "max        1.500000\n",
       "Name: rating_diff, dtype: float64"
      ]
     },
     "execution_count": 257,
     "metadata": {},
     "output_type": "execute_result"
    }
   ],
   "source": [
    "#For Top100 Apps \n",
    "top['rating_diff'] = top['user_rating_ver'] - top['user_rating']\n",
    "top['rating_diff'].describe()"
   ]
  },
  {
   "cell_type": "code",
   "execution_count": 261,
   "metadata": {},
   "outputs": [
    {
     "data": {
      "image/png": "[encoded data removed]",
      "text/plain": [
       "<Figure size 432x288 with 1 Axes>"
      ]
     },
     "metadata": {},
     "output_type": "display_data"
    }
   ],
   "source": [
    "ax = top['rating_diff'].hist(bins=20, color='red', alpha=0.5)\n",
    "ax.set(xlabel='User Rating Diff', ylabel='Count')\n",
    "plt.title('Current Version Rating Minus All Version Rating')\n",
    "plt.show()"
   ]
  },
  {
   "cell_type": "markdown",
   "metadata": {},
   "source": [
    "### Future Research"
   ]
  },
  {
   "cell_type": "markdown",
   "metadata": {},
   "source": [
    "For future research, we can build a model to predict user satisfaction using supervised learning technique, e.g., regression. The dependent variable would be user_rating and the independent variables could be number of screenshots display and number of supported languages. We can also build a model to predict whether the App will be popular or not using logistic regression. The outcome variable would be the binary variable 'popular'. And use ROC curve to examine classification accuracy.  "
   ]
  }
 ],
 "metadata": {
  "kernelspec": {
   "display_name": "Python 3",
   "language": "python",
   "name": "python3"
  },
  "language_info": {
   "codemirror_mode": {
    "name": "ipython",
    "version": 3
   },
   "file_extension": ".py",
   "mimetype": "text/x-python",
   "name": "python",
   "nbconvert_exporter": "python",
   "pygments_lexer": "ipython3",
   "version": "3.6.5"
  }
 },
 "nbformat": 4,
 "nbformat_minor": 2
}
