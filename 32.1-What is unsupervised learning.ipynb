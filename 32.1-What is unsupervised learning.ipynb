{
 "cells": [
  {
   "cell_type": "markdown",
   "metadata": {},
   "source": [
    "# Assignment\n",
    "\n",
    "There is no deliverable to submit to complete this assignment, but we do encourage you to take a deliberate ~5 minutes to focus on the following two prompts. They'll force you to think through some of the key issues to grapple with when thinking about unsupervised learning and clustering."
   ]
  },
  {
   "cell_type": "markdown",
   "metadata": {},
   "source": [
    "1. Assume that we have a dataset of images that includes the images of red wines, white wines, red roses and white roses. If you were to cluster these observations, how would you do that? Would you like to cluster them with respect to their colors or anything else? Discuss the pros and cons of different clustering options."
   ]
  },
  {
   "cell_type": "markdown",
   "metadata": {},
   "source": [
    "If I do hard clustering, I can choose color or type or both. \n",
    "\n",
    "+ Color: red vs. white\n",
    "\n",
    "    + pros: reduce dimensions \n",
    "    + cons: ignore similarity between type\n",
    "    \n",
    "    \n",
    "+ Typle: wine vs. rose\n",
    "    \n",
    "    + pros: reduce dimensions \n",
    "    + cons: ingnore similarity between colors\n",
    "    \n",
    "    \n",
    "+ Both: red wine vs. white wine vs. red roses vs. white roses \n",
    "\n",
    "    + pros: similarity between individuals within each cluster increases \n",
    "    + cons: many clusters "
   ]
  },
  {
   "cell_type": "markdown",
   "metadata": {},
   "source": [
    "2. A shadow on the wall is a two-dimensional representation of a real world three-dimensional object. When you see a rabbit and a cat, you can easily identify them. But, are they also easily identifiable by just looking at their shadows on a wall? What information is retained and lost when representing 3-d objects in 2-dimensional space?"
   ]
  },
  {
   "cell_type": "markdown",
   "metadata": {},
   "source": [
    "Information retained: shape, movement \n",
    "Information lost: color, volumn, features, expressions"
   ]
  },
  {
   "cell_type": "code",
   "execution_count": null,
   "metadata": {},
   "outputs": [],
   "source": []
  }
 ],
 "metadata": {
  "kernelspec": {
   "display_name": "Python 3",
   "language": "python",
   "name": "python3"
  },
  "language_info": {
   "codemirror_mode": {
    "name": "ipython",
    "version": 3
   },
   "file_extension": ".py",
   "mimetype": "text/x-python",
   "name": "python",
   "nbconvert_exporter": "python",
   "pygments_lexer": "ipython3",
   "version": "3.7.3"
  }
 },
 "nbformat": 4,
 "nbformat_minor": 2
}
