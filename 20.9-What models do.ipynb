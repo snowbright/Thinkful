{
 "cells": [
  {
   "cell_type": "markdown",
   "metadata": {},
   "source": [
    "## Assignment\n",
    "\n",
    "To complete this assignment, submit a link to a Jupyter notebook containing your solutions to the following tasks:\n",
    "\n",
    "1. Try to model the result of a coin toss. In your model, include any features that you think important in explaining the result. Discuss with your mentor about the pros and cons of adding too many features into your model.\n",
    "2. If you ever used Netflix, you should already have realized that it provides some recommendations for you to watch. In data science, this is an example of the so-called **recommendations systems**. Read this nontechnical blog post of [Netflix](https://help.netflix.com/en/node/100639) about how they model their recommendations systems. Then, derive the features they use in their recommendations engines and discuss what else can be incorporated into this model. "
   ]
  },
  {
   "cell_type": "markdown",
   "metadata": {},
   "source": [
    "### 1. Try to model the result of a coin toss. In your model, include any features that you think important in explaining the result. Discuss with your mentor about the pros and cons of adding too many features into your model."
   ]
  },
  {
   "cell_type": "markdown",
   "metadata": {},
   "source": [
    "I would like to include following features to predict the result of coin toss (heads/tails).\n",
    "- past history: previous 100 tosses (numeric)\n",
    "    - number of heads in previous 100 tosses \n",
    "    - number of tails in prevoius 100 tosses \n",
    "- tossing: how it was in my thumb before tossing (categorical)\n",
    "    - head facing up \n",
    "    - tail facing up \n",
    "- type of tossing: toss vs. spin (categorical)\n",
    "    - tossing\n",
    "    - spinning\n",
    "    - flipping \n",
    "- estimated height (numeric)"
   ]
  },
  {
   "cell_type": "markdown",
   "metadata": {},
   "source": [
    "### 2. If you ever used Netflix, you should already have realized that it provides some recommendations for you to watch. In data science, this is an example of the so-called **recommendations systems**. Read this nontechnical blog post of [Netflix](https://help.netflix.com/en/node/100639) about how they model their recommendations systems. Then, derive the features they use in their recommendations engines and discuss what else can be incorporated into this model. "
   ]
  },
  {
   "cell_type": "markdown",
   "metadata": {},
   "source": [
    "Netflix uses two main information to predict the likelihood that a user would watch a particular title:\n",
    "\n",
    "- user's interaction with Netflix: watching history and ratings for other titles \n",
    "- other users with simular tastes and preferences\n",
    "- title info: genre, categories, actors, release year \n",
    "- the time of day the user watch\n",
    "- devices used to watch\n",
    "- how long the user watch ???\n",
    "\n",
    "The following can also be considered to incoperated into this model:\n",
    "\n",
    "- user's search history: key words \n",
    "- user's browing history: what titles the user has clciked in \n",
    "- user's trailer watching history: after watching the trailer, the user chose to watch vs. not to watch "
   ]
  },
  {
   "cell_type": "code",
   "execution_count": 2,
   "metadata": {},
   "outputs": [],
   "source": [
    "#Hobson: I assume the outcome would be title + % (likelihood the user will choose to watch), \n",
    "#would it be a logistic model?"
   ]
  }
 ],
 "metadata": {
  "kernelspec": {
   "display_name": "Python 3",
   "language": "python",
   "name": "python3"
  },
  "language_info": {
   "codemirror_mode": {
    "name": "ipython",
    "version": 3
   },
   "file_extension": ".py",
   "mimetype": "text/x-python",
   "name": "python",
   "nbconvert_exporter": "python",
   "pygments_lexer": "ipython3",
   "version": "3.7.3"
  }
 },
 "nbformat": 4,
 "nbformat_minor": 2
}
