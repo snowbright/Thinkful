{
 "cells": [
  {
   "cell_type": "markdown",
   "metadata": {},
   "source": [
    "# Drill"
   ]
  },
  {
   "cell_type": "markdown",
   "metadata": {},
   "source": [
    "State whether a survey would be the best option for answering each of the following questions."
   ]
  },
  {
   "cell_type": "markdown",
   "metadata": {},
   "source": [
    "1. Popularity of various Uber drivers.\n",
    "\n",
    "   No, it's better to use the customer review data rather than a survey. "
   ]
  },
  {
   "cell_type": "markdown",
   "metadata": {},
   "source": [
    "2. A grocery store wants to know how much people like strawberry, chocolate, and vanilla ice cream.\n",
    "   \n",
    "   No, it's better to compare them with the sales data rather than a survey. "
   ]
  },
  {
   "cell_type": "markdown",
   "metadata": {},
   "source": [
    "3.  Trojan wants to know whether their condoms are more popular among straight people or gay people. \n",
    "    \n",
    "    Survey would be a good choice here as sexuality is very confidential. "
   ]
  },
  {
   "cell_type": "markdown",
   "metadata": {},
   "source": [
    "4.  Recently, rental rates for HappyCars have increased by 30%, which is quite unusual. You want to find out why this is happening and how to keep the increase going.\n",
    "    \n",
    "    No, it's better to investigate using market data rather than a survey."
   ]
  },
  {
   "cell_type": "markdown",
   "metadata": {},
   "source": [
    "5. Assessing the success rate of a new advertising campaign.\n",
    "\n",
    "   No, it's better to be done with an AB testing rather than a survey. "
   ]
  },
  {
   "cell_type": "markdown",
   "metadata": {},
   "source": [
    "6. Measuring the effect of nurse/patient ratio on patient recovery rates in hospital wards.\n",
    "\n",
    "   No, it's better to investigate using real data regarding nurse/patient ratio and patient recovery rates. "
   ]
  },
  {
   "cell_type": "code",
   "execution_count": null,
   "metadata": {},
   "outputs": [],
   "source": []
  }
 ],
 "metadata": {
  "kernelspec": {
   "display_name": "Python 3",
   "language": "python",
   "name": "python3"
  },
  "language_info": {
   "codemirror_mode": {
    "name": "ipython",
    "version": 3
   },
   "file_extension": ".py",
   "mimetype": "text/x-python",
   "name": "python",
   "nbconvert_exporter": "python",
   "pygments_lexer": "ipython3",
   "version": "3.7.3"
  }
 },
 "nbformat": 4,
 "nbformat_minor": 2
}
