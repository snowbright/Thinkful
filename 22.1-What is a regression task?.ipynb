{
 "cells": [
  {
   "cell_type": "markdown",
   "metadata": {},
   "source": [
    "## Assignment\n",
    "\n",
    "To close out this checkpoint, answer the following questions.  Once you're done, you can compare your answers to the ones found in [this notebook, which you can download](https://tf-assets-prod.s3.amazonaws.com/tf-curric/data-science/machine-learning-regression/solutions/1.solution_what_is_regression.ipynb).\n",
    "\n",
    "### 1. Let's assume that you have World Bank data on financial, economic and social indicators for several countries. You want to measure the factors that affect the level of development in these countries. To this end, you decide to use per capita income as a proxy for the development level, which is defined as the national income divided by the population. You want to use some features in your dataset to predict per capita income. Is this task a classification or a regression task? Why? \n",
    "\n",
    "This is a regression task because the outcome variable per capita income is a continuous variable. \n",
    "\n",
    "### 2. Which of the following arguments are false and why?\n",
    "  * OLS is a special type of linear regression models \n",
    "    \n",
    "    False. OLS is the optimization algorithm used by linear regression. \n",
    "    \n",
    "  \n",
    "  * Regression models become useless if they don’t meet the assumptions of linear regression. \n",
    "    \n",
    "    False. We can still try to maniuplate variables to meet the assumptions. \n",
    "    \n",
    "  \n",
    "  * Estimation and prediction are the same thing in the context of linear regression models.\n",
    "    \n",
    "    False. Estimating the regression coefficients but predicting the outcome variable. They are different. \n",
    "    (from solution: Estimation refers to the process of determining the coefficients of the features in the training phase. Prediction is to determine the value of the outcome variable using a previously unseen feature value). \n",
    "    \n",
    "  * Linear regression is only one kind of regression model. Regression problems can also be solved with other kind of models like Support Vector Machines or Random Forests.\n",
    "    \n",
    "    True.\n",
    "    \n",
    "### 3. Assume that your project manager wants you to discover which free services your company offers make your customers buy more of your paid services. Formulate this task as a regression problem and write down the potential outcome and features that you’d like to work on.\n",
    "\n",
    "The potential outcome could be number of paid services and features could be the dummies of a list of free services (say the company offers four free services). Each row contains an individual customer's information.  \n",
    "\n",
    "$$ Number \\enspace of \\enspace Paid \\enspace Services = \\alpha + \\beta_1 \\enspace X \\enspace Free Service 1 + \\beta_2 \\enspace X \\enspace Free Service 2 + \\beta_3 \\enspace X \\enspace Free Service 3 $$ "
   ]
  }
 ],
 "metadata": {
  "kernelspec": {
   "display_name": "Python 3",
   "language": "python",
   "name": "python3"
  },
  "language_info": {
   "codemirror_mode": {
    "name": "ipython",
    "version": 3
   },
   "file_extension": ".py",
   "mimetype": "text/x-python",
   "name": "python",
   "nbconvert_exporter": "python",
   "pygments_lexer": "ipython3",
   "version": "3.7.3"
  }
 },
 "nbformat": 4,
 "nbformat_minor": 2
}
