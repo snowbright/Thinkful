{
 "cells": [
  {
   "cell_type": "markdown",
   "metadata": {},
   "source": [
    "# Drill\n",
    "\n",
    "Implement a binary tree, which is filled with 15 pieces of random data. Your job is to then write a program to traverse the tree using a breadth first traversal. If you want additional practice, try other forms of traversal."
   ]
  },
  {
   "cell_type": "code",
   "execution_count": 48,
   "metadata": {},
   "outputs": [],
   "source": [
    "class node:\n",
    "    def __init__(self, value=None):\n",
    "        self.value=value\n",
    "        self.left_child=None\n",
    "        self.right_child=None\n",
    "        \n",
    "class BinarySearchTree:\n",
    "    def __init__(self):\n",
    "        self.root = None\n",
    "    \n",
    "    def insert(self, value):\n",
    "        if self.root==None:\n",
    "            self.root=node(value)\n",
    "        else:\n",
    "            self._insert(value,self.root)\n",
    "            \n",
    "    def _insert(self, value, cur_node):\n",
    "        if value<cur_node.value:\n",
    "            if cur_node.left_child==None:\n",
    "                cur_node.left_child=node(value)\n",
    "            else:\n",
    "                self._insert(value,cur_node.left_child)\n",
    "        elif value>cur_node.value:\n",
    "            if cur_node.right_child==None:\n",
    "                cur_node.right_child=node(value)\n",
    "            else:\n",
    "                self._insert(value,cur_node.right_child)\n",
    "        else:\n",
    "            print (\"Value already in tree!\")\n",
    "            \n",
    "    def print_tree(self):\n",
    "        if self.root!=None:\n",
    "            self._print_tree(self.root)\n",
    "    \n",
    "    def _print_tree(self, cur_node):\n",
    "        if cur_node!=None:\n",
    "            self._print_tree(cur_node.left_child)\n",
    "            print (str(cur_node.value))\n",
    "            self._print_tree(cur_node.right_child)\n",
    "            \n",
    "    def height(self):\n",
    "        if self.root!=None:\n",
    "            return self._height(self.root,0)\n",
    "        else:\n",
    "            return 0\n",
    "        \n",
    "    def _height(self,cur_node,cur_height):\n",
    "        if cur_node==None: return cur_height\n",
    "        left_height=self._height(cur_node.left_child, cur_height+1)\n",
    "        right_height=self._height(cur_node.right_child, cur_height+1)\n",
    "        return max(left_height, right_height)\n",
    "    \n",
    "    def _search(self,value,cur_node):\n",
    "        if value==cur_node.value:\n",
    "            return True\n",
    "        elif value<cur_node.value and cur_node.left_child!=None:\n",
    "            return self._search(value,cur_node.left_child)\n",
    "        elif value>cur_node.value and cur_node.right_child!=None:\n",
    "            return self._search(value,cur_node.right_child)\n",
    "        else:\n",
    "            return False\n",
    "        \n",
    "        \n",
    "    def search(self,value):\n",
    "        if self.root!=None:\n",
    "                return self._search(value,self.root)\n",
    "        else:\n",
    "            return False\n",
    "        \n",
    "    def fill_tree(tree, num_elems, max_int):\n",
    "        from random import randint\n",
    "        for _ in range(num_elems):\n",
    "            cur_elem=randint(1,max_int)\n",
    "            tree.insert(cur_elem)\n",
    "        return tree"
   ]
  },
  {
   "cell_type": "code",
   "execution_count": 51,
   "metadata": {},
   "outputs": [
    {
     "name": "stdout",
     "output_type": "stream",
     "text": [
      "Value already in tree!\n",
      "Value already in tree!\n",
      "Value already in tree!\n",
      "Value already in tree!\n",
      "1\n",
      "2\n",
      "4\n",
      "5\n",
      "6\n",
      "7\n",
      "8\n",
      "10\n",
      "11\n",
      "13\n",
      "14\n",
      "tree height: 5\n",
      "False\n",
      "True\n"
     ]
    }
   ],
   "source": [
    "tree = BinarySearchTree()\n",
    "tree = fill_tree(tree,15,14)\n",
    "tree.print_tree()\n",
    "\n",
    "print (\"tree height: \" + str(tree.height()))\n",
    "\n",
    "print (tree.search(20))\n",
    "print (tree.search(8))"
   ]
  },
  {
   "cell_type": "code",
   "execution_count": null,
   "metadata": {},
   "outputs": [],
   "source": []
  }
 ],
 "metadata": {
  "kernelspec": {
   "display_name": "Python 3",
   "language": "python",
   "name": "python3"
  },
  "language_info": {
   "codemirror_mode": {
    "name": "ipython",
    "version": 3
   },
   "file_extension": ".py",
   "mimetype": "text/x-python",
   "name": "python",
   "nbconvert_exporter": "python",
   "pygments_lexer": "ipython3",
   "version": "3.7.3"
  }
 },
 "nbformat": 4,
 "nbformat_minor": 2
}
