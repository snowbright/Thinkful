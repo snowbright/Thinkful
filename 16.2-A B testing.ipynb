{
 "cells": [
  {
   "cell_type": "markdown",
   "metadata": {},
   "source": [
    "# Assignments\n",
    "\n",
    "For each of the following questions, outline how you could use an A/B test to find an answer. Be sure to identify all five key components of an A/B test we outlined above.\n"
   ]
  },
  {
   "cell_type": "markdown",
   "metadata": {},
   "source": [
    "### 1.\tDoes a new supplement help people sleep better?"
   ]
  },
  {
   "cell_type": "markdown",
   "metadata": {},
   "source": [
    "+ Two versions of supplements.\n",
    "    + Control version: current supplement \n",
    "    + Treatment version: new supplement \n",
    "+ A sample: randomly selected sample who takes supplements to sleep. The sample has similar characteristics as our target users. Then, divide this group into control group (take the current supplement) and treatment group (take the new supplement). These two groups are similar in terms gender, age, health condition, history of using supplements to sleep, etc.  \n",
    "+ A hypothesis: I expect people to sleep better with the new supplement. \n",
    "+ Outcomes of interest. Sleep quality. We can measure a survey composed of five-point Likert scale items. e.g., Rate your sleep last night: 0: very bad, 1: bad, 2: okay, 3: good, 4: very good. \n",
    "+ Other measured variables: sleeping time, energy level after wake up. "
   ]
  },
  {
   "cell_type": "markdown",
   "metadata": {},
   "source": [
    "### 2.\tWill new uniforms help a gym's business? "
   ]
  },
  {
   "cell_type": "markdown",
   "metadata": {},
   "source": [
    "+ Two versions of uniforms.\n",
    "    + Control version: current uniform\n",
    "    + Treatment version: new uniform\n",
    "+ A sample: let gym staff to wear uniform 1 in week 1 and let them wear uniform 2 in week 2. Compare business in week 1 (control group) vs. business in week 2 (treatment group). If it’s likely to due to chance, we can increase the time to 1 month. \n",
    "+ A hypothesis: I expect the new uniform helps this gym’s business. \n",
    "+ Outcomes of interest. Business, e.g., number of customers enrolled. \n",
    "+ Other measured variables: Number of potential customers who show interest in enrolling. "
   ]
  },
  {
   "cell_type": "markdown",
   "metadata": {},
   "source": [
    "### 3.\tWill a new homepage improve my online exotic pet rental business? "
   ]
  },
  {
   "cell_type": "markdown",
   "metadata": {},
   "source": [
    "+ Two versions of homepages.\n",
    "    + Control version: current homepage\n",
    "    + Treatment version: new homepage \n",
    "+ A sample: use the current homepage in week 1 and the new homepage in week 2. Compare business in week 1 (control group) vs. business in week 2 (treatment group). If it’s likely to due to chance, we can increase the time to 1 month. \n",
    "+ A hypothesis: I expect the new homepage helps your online exotic pet rental business. \n",
    "+ Outcomes of interest. Business, e.g., number of rentals  \n",
    "+ Other measured variables: number of website visits and visit duration. \n",
    "+ Outcomes of interest. Business, e.g., number of customers enrolled. \n",
    "+ Other measured variables: Number of potential customers show interest in enrolling. "
   ]
  },
  {
   "cell_type": "markdown",
   "metadata": {},
   "source": [
    "### 4.\tIf I put 'please read' in the email subject will more people read my emails? "
   ]
  },
  {
   "cell_type": "markdown",
   "metadata": {},
   "source": [
    "+ Two versions of email subjects.\n",
    "    + Control version: subject without ‘please read’ \n",
    "    + Treatment version: subject with ‘please read’ \n",
    "+ A sample: send my emails to randomly selected sample. The sample has similar characteristics (e.g., gender, age, education level) as my email recipients. Then, divide this group into control group (recipients of email subject without ‘please read’) and treatment group (recipients of email subject with ‘please read’). \n",
    "+ A hypothesis: I expect more people to read your email if you put ‘please read’ in the subject line. \n",
    "+ Outcomes of interest: Number of reads (define a duration of time threshold). \n",
    "+ Other measured variables: Number of click opens but not necessarily read the email."
   ]
  }
 ],
 "metadata": {
  "kernelspec": {
   "display_name": "Python 3",
   "language": "python",
   "name": "python3"
  },
  "language_info": {
   "codemirror_mode": {
    "name": "ipython",
    "version": 3
   },
   "file_extension": ".py",
   "mimetype": "text/x-python",
   "name": "python",
   "nbconvert_exporter": "python",
   "pygments_lexer": "ipython3",
   "version": "3.7.3"
  }
 },
 "nbformat": 4,
 "nbformat_minor": 2
}
