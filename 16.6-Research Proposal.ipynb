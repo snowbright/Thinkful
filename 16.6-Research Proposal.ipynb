{
 "cells": [
  {
   "cell_type": "markdown",
   "metadata": {},
   "source": [
    "# Research Proposal"
   ]
  },
  {
   "cell_type": "markdown",
   "metadata": {},
   "source": [
    "## Statement of Problem \n",
    "\n",
    "How to help people sleep better? Sleep plays a vital role in good health and well-being throughout our life. Getting enough quality sleep at the right times can help protect our mental health, physical health, quality of life, and safety. Currently, supplement A is widely used by people, however, not all users find it's effective."
   ]
  },
  {
   "cell_type": "markdown",
   "metadata": {},
   "source": [
    "## Potential Solution\n",
    "\n",
    "Supplement B is invented as an improvment of supplement A. We expect supplement B can help people better. "
   ]
  },
  {
   "cell_type": "markdown",
   "metadata": {},
   "source": [
    "## Method\n",
    "\n",
    "We will randomly select 100 people who takes supplement to sleep. And then randomly assign these subjects into two groups. The control group takes supplement A every day and the treatment group takes supplement B every day. The variable of interest is quality of sleep. This is an A/B manupulation where taking supplement A or taking supplement B. \n",
    "\n",
    "Testing will be conducted for a month. Quality of sleep will be measured daily with a survey that is composed of five-point Likert scale items. e.g., Rate your sleep last night: 0: very bad, 1: bad, 2: okay, 3: good, 4: very good. We will compute an average score for each subject over the 30 day period. \n",
    "\n",
    "Run a wo sample t-test to test the difference between two groups. If there is a significant difference and the mean of (treatment group - control group) is positive. We can conclude that take supplement B is more effective than supplement A. "
   ]
  }
 ],
 "metadata": {
  "kernelspec": {
   "display_name": "Python 3",
   "language": "python",
   "name": "python3"
  },
  "language_info": {
   "codemirror_mode": {
    "name": "ipython",
    "version": 3
   },
   "file_extension": ".py",
   "mimetype": "text/x-python",
   "name": "python",
   "nbconvert_exporter": "python",
   "pygments_lexer": "ipython3",
   "version": "3.7.3"
  }
 },
 "nbformat": 4,
 "nbformat_minor": 2
}
