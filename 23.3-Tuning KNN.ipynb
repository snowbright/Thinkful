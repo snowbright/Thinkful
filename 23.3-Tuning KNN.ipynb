{
 "cells": [
  {
   "cell_type": "markdown",
   "metadata": {},
   "source": [
    "## DRILL:\n",
    "\n",
    "Let's say we work at a credit card company and we're trying to figure out if people are going to pay their bills on time. We have everyone's purchases, split into four main categories: groceries, dining out, utilities, and entertainment. What are some ways you might use KNN to create this model? What aspects of KNN would be useful? Write up your thoughts in submit a link below. "
   ]
  },
  {
   "cell_type": "markdown",
   "metadata": {},
   "source": [
    "I would use purchases in main categories as predictors and paid bills on time as the target variable. \n",
    "\n",
    "KNN is useful in classifying people based on their spending behavior. Each person will be a datapoint in a 4-demensional space and the KNN model calculates the distance between each datapoint. We use this model to find the datapoint with the smallest distance based on N nearest neighbors and then apply the most voted category to the target datapoint. \n",
    "\n",
    "I will create some fake data to practice. "
   ]
  },
  {
   "cell_type": "code",
   "execution_count": 10,
   "metadata": {},
   "outputs": [
    {
     "data": {
      "text/html": [
       "<div>\n",
       "<style scoped>\n",
       "    .dataframe tbody tr th:only-of-type {\n",
       "        vertical-align: middle;\n",
       "    }\n",
       "\n",
       "    .dataframe tbody tr th {\n",
       "        vertical-align: top;\n",
       "    }\n",
       "\n",
       "    .dataframe thead th {\n",
       "        text-align: right;\n",
       "    }\n",
       "</style>\n",
       "<table border=\"1\" class=\"dataframe\">\n",
       "  <thead>\n",
       "    <tr style=\"text-align: right;\">\n",
       "      <th></th>\n",
       "      <th>grocery</th>\n",
       "      <th>restaurant</th>\n",
       "      <th>utilities</th>\n",
       "      <th>entertain</th>\n",
       "      <th>payontime</th>\n",
       "    </tr>\n",
       "  </thead>\n",
       "  <tbody>\n",
       "    <tr>\n",
       "      <th>0</th>\n",
       "      <td>270.052327</td>\n",
       "      <td>177.689358</td>\n",
       "      <td>47.085116</td>\n",
       "      <td>158.739540</td>\n",
       "      <td>1</td>\n",
       "    </tr>\n",
       "    <tr>\n",
       "      <th>1</th>\n",
       "      <td>291.983342</td>\n",
       "      <td>202.580390</td>\n",
       "      <td>62.906373</td>\n",
       "      <td>172.967479</td>\n",
       "      <td>0</td>\n",
       "    </tr>\n",
       "    <tr>\n",
       "      <th>2</th>\n",
       "      <td>263.153597</td>\n",
       "      <td>204.562512</td>\n",
       "      <td>50.475758</td>\n",
       "      <td>141.344269</td>\n",
       "      <td>0</td>\n",
       "    </tr>\n",
       "    <tr>\n",
       "      <th>3</th>\n",
       "      <td>327.226447</td>\n",
       "      <td>193.106862</td>\n",
       "      <td>46.483516</td>\n",
       "      <td>160.670117</td>\n",
       "      <td>0</td>\n",
       "    </tr>\n",
       "    <tr>\n",
       "      <th>4</th>\n",
       "      <td>278.381590</td>\n",
       "      <td>196.064735</td>\n",
       "      <td>52.039876</td>\n",
       "      <td>152.030318</td>\n",
       "      <td>1</td>\n",
       "    </tr>\n",
       "  </tbody>\n",
       "</table>\n",
       "</div>"
      ],
      "text/plain": [
       "      grocery  restaurant  utilities   entertain  payontime\n",
       "0  270.052327  177.689358  47.085116  158.739540          1\n",
       "1  291.983342  202.580390  62.906373  172.967479          0\n",
       "2  263.153597  204.562512  50.475758  141.344269          0\n",
       "3  327.226447  193.106862  46.483516  160.670117          0\n",
       "4  278.381590  196.064735  52.039876  152.030318          1"
      ]
     },
     "execution_count": 10,
     "metadata": {},
     "output_type": "execute_result"
    }
   ],
   "source": [
    "import numpy as np\n",
    "import pandas as pd\n",
    "import matplotlib.pyplot as plt\n",
    "import scipy\n",
    "import random\n",
    "%matplotlib inline\n",
    "\n",
    "credit = pd.DataFrame()\n",
    "\n",
    "credit['grocery'] = np.random.normal(loc=300, scale=20, size=100)\n",
    "credit['restaurant'] = np.random.normal(loc=200, scale=15, size=100)\n",
    "credit['utilities'] = np.random.normal(loc=50, scale=5, size=100)\n",
    "credit['entertain'] = np.random.normal(loc=150, scale=12, size=100)\n",
    "credit['payontime'] = [ 1, 0, 0, 0, 1, 1, 0, 1, 1, 0,\n",
    "                        0, 1, 1, 0, 1, 1, 0, 1, 1, 1,\n",
    "                        1, 1, 1, 1, 0, 0, 1, 1, 0, 0,\n",
    "                        0, 0, 1, 0, 1, 0, 0, 1, 0, 1,\n",
    "                        1, 1, 1, 1, 0, 0, 0, 1, 1, 0,\n",
    "                        1, 0, 0, 0, 1, 1, 0, 1, 1, 0,\n",
    "                        0, 1, 1, 0, 1, 1, 0, 1, 1, 1,\n",
    "                        1, 1, 1, 1, 0, 0, 1, 1, 0, 0,\n",
    "                        0, 0, 1, 0, 1, 0, 0, 1, 0, 1,\n",
    "                        1, 1, 1, 1, 0, 0, 0, 1, 1, 0]\n",
    "\n",
    "credit.head()"
   ]
  },
  {
   "cell_type": "code",
   "execution_count": 14,
   "metadata": {},
   "outputs": [
    {
     "data": {
      "text/plain": [
       "KNeighborsClassifier(algorithm='auto', leaf_size=30, metric='minkowski',\n",
       "                     metric_params=None, n_jobs=None, n_neighbors=10, p=2,\n",
       "                     weights='distance')"
      ]
     },
     "execution_count": 14,
     "metadata": {},
     "output_type": "execute_result"
    }
   ],
   "source": [
    "from sklearn.neighbors import KNeighborsClassifier\n",
    "from scipy import stats\n",
    "\n",
    "neighbors = KNeighborsClassifier(n_neighbors=10, weights='distance')\n",
    "\n",
    "X = pd.DataFrame({\n",
    "    'grocery'    : credit['grocery'],\n",
    "    'restaurant' : credit['restaurant'],\n",
    "    'utilities'  : credit['utilities'],\n",
    "    'entertain'  : credit['entertain']\n",
    "})\n",
    "\n",
    "Y = credit['payontime']\n",
    "\n",
    "neighbors.fit(X, Y)"
   ]
  },
  {
   "cell_type": "code",
   "execution_count": 16,
   "metadata": {},
   "outputs": [
    {
     "data": {
      "text/plain": [
       "array([0])"
      ]
     },
     "execution_count": 16,
     "metadata": {},
     "output_type": "execute_result"
    }
   ],
   "source": [
    "neighbors.predict([[500, 200, 60, 150]])"
   ]
  },
  {
   "cell_type": "code",
   "execution_count": 17,
   "metadata": {},
   "outputs": [],
   "source": [
    "#Hobson: Shall I regard class as dimension? How to plot when there are more than two classes? "
   ]
  }
 ],
 "metadata": {
  "kernelspec": {
   "display_name": "Python 3",
   "language": "python",
   "name": "python3"
  },
  "language_info": {
   "codemirror_mode": {
    "name": "ipython",
    "version": 3
   },
   "file_extension": ".py",
   "mimetype": "text/x-python",
   "name": "python",
   "nbconvert_exporter": "python",
   "pygments_lexer": "ipython3",
   "version": "3.7.3"
  }
 },
 "nbformat": 4,
 "nbformat_minor": 2
}
