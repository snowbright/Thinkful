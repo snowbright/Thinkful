{
 "cells": [
  {
   "cell_type": "markdown",
   "metadata": {},
   "source": [
    "## Assignment\n",
    "\n",
    "You will see the benefits of transforming continuous variables into categorical variables when we begin to model the data. For now, let's continue to practice identifying variable types. \n",
    "\n",
    "To complete this assignment, submit a Gist file or enter your answers directly below to the following questions:\n",
    "\n",
    "1. Consider the advantages and disadvantages of treating the *Rank* variable as categorical. Discuss your arguments with your mentor.\n",
    "\n",
    "    * pro: conceptulize into groups, easy to handle\n",
    "    * con: lose the information of rank order\n",
    "    \n",
    "2. What are the types of the following variables?\n",
    "    * Age: continuous ratio\n",
    "    * Salary: continuous ratio\n",
    "    * Revenue: continuous ratio\n",
    "    * Customer type: nominal categorical \n",
    "    * Stock price: continuous ratio\n",
    "    "
   ]
  },
  {
   "cell_type": "code",
   "execution_count": null,
   "metadata": {},
   "outputs": [],
   "source": []
  }
 ],
 "metadata": {
  "kernelspec": {
   "display_name": "Python 3",
   "language": "python",
   "name": "python3"
  },
  "language_info": {
   "codemirror_mode": {
    "name": "ipython",
    "version": 3
   },
   "file_extension": ".py",
   "mimetype": "text/x-python",
   "name": "python",
   "nbconvert_exporter": "python",
   "pygments_lexer": "ipython3",
   "version": "3.7.3"
  }
 },
 "nbformat": 4,
 "nbformat_minor": 4
}
