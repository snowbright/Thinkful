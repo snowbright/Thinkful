{
 "cells": [
  {
   "cell_type": "markdown",
   "metadata": {},
   "source": [
    "## Assignment\n",
    "\n",
    "To complete this assignment, submit a link to a gist file or enter text directly below with your answers to the following:\n",
    "\n",
    "1. What is the goal of EDA (exploratory data analysis)?\n",
    "\n",
    "To understand data and identify most useful features that will help build models to achieve the best performance. \n",
    "\n",
    "2. Suppose that you are given a dataset of customer product reviews for an e-commerce company. Each review is scored as a Likert-style survey item where 1 indicates a negative sentiment about the product and a 5 is positive. These reviews are collected on the company's website.\n",
    "\n",
    "First of all, it's not clear what columns are in the dataset. Looks like there's only one column of customer rating. Do we know anything about customer demographics? \n",
    "\n",
    "    a. What problems do you expect to find in the raw data? \n",
    "Text data, with typos, stop words, punctruations, and emojis. \n",
    "\n",
    "    b. If your task is to build features that give information about customer sentiments, how would you approach this task and what kind of methods would you apply to accomplish it?\n",
    "Natural languange processing. Clean up data and then tokenize review text and analyze each word and phrase. Find how each word or phrase relates to the rating. \n",
    "\n",
    "Frequency table in relation to rating scores, analyze demensionality underlying the scoring data (i.e., whether sentiment is the single dimension), ratingpattern by customer demographics if available (e.g., gender, ethnicity, age). \n",
    "\n",
    "    c. Try to identify some potentially useful features that you might derive from the raw data. How would you derive them and how would you assess the usefulness of those features?\n",
    "To see if certain words or phrases are related to a specific rating score. Then it means this word or phrase can be good predictor of the rating score.  "
   ]
  },
  {
   "cell_type": "code",
   "execution_count": null,
   "metadata": {},
   "outputs": [],
   "source": []
  }
 ],
 "metadata": {
  "kernelspec": {
   "display_name": "Python 3",
   "language": "python",
   "name": "python3"
  },
  "language_info": {
   "codemirror_mode": {
    "name": "ipython",
    "version": 3
   },
   "file_extension": ".py",
   "mimetype": "text/x-python",
   "name": "python",
   "nbconvert_exporter": "python",
   "pygments_lexer": "ipython3",
   "version": "3.7.3"
  }
 },
 "nbformat": 4,
 "nbformat_minor": 4
}
